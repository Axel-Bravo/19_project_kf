{
  "nbformat": 4,
  "nbformat_minor": 0,
  "metadata": {
    "colab": {
      "name": "power_line_fault_detection.ipynb",
      "version": "0.3.2",
      "provenance": [],
      "collapsed_sections": [],
      "toc_visible": true
    },
    "kernelspec": {
      "name": "python3",
      "display_name": "Python 3"
    },
    "accelerator": "GPU"
  },
  "cells": [
    {
      "cell_type": "markdown",
      "metadata": {
        "id": "ddpzYqd-k-A5",
        "colab_type": "text"
      },
      "source": [
        "# Getting preprocessed data from Drive\n",
        "You can use the following code and jump directly to the section called \"Splitting Data\""
      ]
    },
    {
      "cell_type": "code",
      "metadata": {
        "id": "mD2BYaUEk9BF",
        "colab_type": "code",
        "colab": {
          "base_uri": "https://localhost:8080/",
          "height": 102
        },
        "outputId": "5a7f9e10-f3a0-48f9-b885-1c462e3ae24b"
      },
      "source": [
        "import numpy as np\n",
        "import pandas as pd\n",
        "\n",
        "# Loading train data\n",
        "print(\"Loading train data\")\n",
        "from google_drive_downloader import GoogleDriveDownloader as gdd\n",
        "\n",
        "gdd.download_file_from_google_drive(file_id='1npO_wryJ--RXGHOPxgYIoyQEkzFI28_M',\n",
        "                                    dest_path='./train_set.npy')\n",
        "input_data = np.load(\"/content/train_set.npy\")\n",
        "\n",
        "# Load test data\n",
        "print(\"Loading test data\")\n",
        "gdd.download_file_from_google_drive(file_id='1oCzoiUXULYHxlgMEyT9Acl27vv5IEne2',\n",
        "                                    dest_path='/content/test_set.npy')\n",
        "\n",
        "# Loading train meteadata\n",
        "print(\"Loading train metadata\")\n",
        "gdd.download_file_from_google_drive(file_id='1EHCPitrGOq5kcu3sgJJ85Dog796WPc8-',\n",
        "                                    dest_path='/content/metadata_train.csv')\n",
        "\n",
        "# Loading test metadata\n",
        "print(\"Loading test metadata\")\n",
        "gdd.download_file_from_google_drive(file_id='1MUWqvAwDrQfryRILNQ2J0MUabxWQUTRZ',\n",
        "                                    dest_path='/content/metadata_test.csv')\n",
        "  \n",
        "# Allocating data\n",
        "print(\"Allocating data\")\n",
        "input_dataset = np.load(\"/content/train_set.npy\")\n",
        "test_data = np.load(\"/content/test_set.npy\")\n",
        "metadata = pd.read_csv(\"/content/metadata_train.csv\")\n",
        "metadata_test = pd.read_csv(\"/content/metadata_test.csv\")"
      ],
      "execution_count": 17,
      "outputs": [
        {
          "output_type": "stream",
          "text": [
            "Loading train data\n",
            "Loading test data\n",
            "Loading train metadata\n",
            "Loading test metadata\n",
            "Allocating data\n"
          ],
          "name": "stdout"
        }
      ]
    },
    {
      "cell_type": "markdown",
      "metadata": {
        "id": "T8JTNi_OiSmc",
        "colab_type": "text"
      },
      "source": [
        "# Getting Data From Kaggle"
      ]
    },
    {
      "cell_type": "code",
      "metadata": {
        "id": "_E6R3CLp-ZcB",
        "colab_type": "code",
        "outputId": "5c717e76-78ad-4d76-ddeb-648793bc3dda",
        "colab": {
          "base_uri": "https://localhost:8080/",
          "height": 547
        }
      },
      "source": [
        "# Get data from Kaggle\n",
        "!pip install kaggle\n",
        "!mkdir ~/.kaggle\n",
        "!mkdir /content/.kaggle\n",
        "!ls ~/.kaggle\n",
        "\n",
        "import json\n",
        "token = {\"username\":\"mielgosez\", \"key\":\"46ef90eb86d527d54aca090759ccbef9\"}\n",
        "with open('/content/.kaggle/kaggle.json', 'w') as file:\n",
        "    json.dump(token, file)\n",
        "    \n",
        "!cp /content/.kaggle/kaggle.json ~/.kaggle/kaggle.json\n",
        "\n",
        "!chmod 600 /root/.kaggle/kaggle.json\n",
        "!kaggle config set -n path -v{/content}\n",
        "\n",
        "print(\"1. Downloading datasets\")\n",
        "!kaggle competitions download -c vsb-power-line-fault-detection -p /content/\n",
        "print(\"2.  Moving train set to train folder\")\n",
        "!mkdir /content/train\n",
        "!unzip -qq /content/train.parquet.zip -d /content/train\n",
        "print(\"3. Moving test set to test folder\")\n",
        "!mkdir /content/test\n",
        "!unzip -qq /content/test.parquet.zip -d /content/test\n"
      ],
      "execution_count": 11,
      "outputs": [
        {
          "output_type": "stream",
          "text": [
            "Requirement already satisfied: kaggle in /usr/local/lib/python3.6/dist-packages (1.5.4)\n",
            "Requirement already satisfied: tqdm in /usr/local/lib/python3.6/dist-packages (from kaggle) (4.28.1)\n",
            "Requirement already satisfied: certifi in /usr/local/lib/python3.6/dist-packages (from kaggle) (2019.3.9)\n",
            "Requirement already satisfied: six>=1.10 in /usr/local/lib/python3.6/dist-packages (from kaggle) (1.12.0)\n",
            "Requirement already satisfied: python-slugify in /usr/local/lib/python3.6/dist-packages (from kaggle) (3.0.2)\n",
            "Requirement already satisfied: requests in /usr/local/lib/python3.6/dist-packages (from kaggle) (2.21.0)\n",
            "Requirement already satisfied: python-dateutil in /usr/local/lib/python3.6/dist-packages (from kaggle) (2.5.3)\n",
            "Requirement already satisfied: urllib3<1.25,>=1.21.1 in /usr/local/lib/python3.6/dist-packages (from kaggle) (1.24.3)\n",
            "Requirement already satisfied: text-unidecode==1.2 in /usr/local/lib/python3.6/dist-packages (from python-slugify->kaggle) (1.2)\n",
            "Requirement already satisfied: idna<2.9,>=2.5 in /usr/local/lib/python3.6/dist-packages (from requests->kaggle) (2.8)\n",
            "Requirement already satisfied: chardet<3.1.0,>=3.0.2 in /usr/local/lib/python3.6/dist-packages (from requests->kaggle) (3.0.4)\n",
            "- path is now set to: {/content}\n",
            "1. Downloading datasets\n",
            "Downloading metadata_test.csv to /content\n",
            "  0% 0.00/257k [00:00<?, ?B/s]\n",
            "100% 257k/257k [00:00<00:00, 82.7MB/s]\n",
            "Downloading metadata_train.csv to /content\n",
            "  0% 0.00/115k [00:00<?, ?B/s]\n",
            "100% 115k/115k [00:00<00:00, 37.4MB/s]\n",
            "Downloading sample_submission.csv to /content\n",
            "  0% 0.00/158k [00:00<?, ?B/s]\n",
            "100% 158k/158k [00:00<00:00, 47.6MB/s]\n",
            "Downloading test.parquet.zip to /content\n",
            "100% 6.97G/6.97G [01:35<00:00, 26.3MB/s]\n",
            "100% 6.97G/6.97G [01:35<00:00, 78.7MB/s]\n",
            "Downloading train.parquet.zip to /content\n",
            "100% 3.01G/3.02G [00:39<00:00, 66.5MB/s]\n",
            "100% 3.02G/3.02G [00:39<00:00, 81.6MB/s]\n",
            "2.  Moving train set to train folder\n",
            "3. Moving test set to test folder\n"
          ],
          "name": "stdout"
        }
      ]
    },
    {
      "cell_type": "markdown",
      "metadata": {
        "id": "v1Zp6oJEaS8I",
        "colab_type": "text"
      },
      "source": [
        "This is what metadata looks like"
      ]
    },
    {
      "cell_type": "code",
      "metadata": {
        "id": "wcgBbF0b-IY1",
        "colab_type": "code",
        "outputId": "a73e709f-04f1-4eed-d9a0-aaba96e5edba",
        "colab": {
          "base_uri": "https://localhost:8080/",
          "height": 204
        }
      },
      "source": [
        "import pandas as pd\n",
        "import numpy as np\n",
        "\n",
        "path_data = '/content/'\n",
        "metadata = pd.read_csv(path_data + 'metadata_train.csv')\n",
        "metadata.head()"
      ],
      "execution_count": 0,
      "outputs": [
        {
          "output_type": "execute_result",
          "data": {
            "text/html": [
              "<div>\n",
              "<style scoped>\n",
              "    .dataframe tbody tr th:only-of-type {\n",
              "        vertical-align: middle;\n",
              "    }\n",
              "\n",
              "    .dataframe tbody tr th {\n",
              "        vertical-align: top;\n",
              "    }\n",
              "\n",
              "    .dataframe thead th {\n",
              "        text-align: right;\n",
              "    }\n",
              "</style>\n",
              "<table border=\"1\" class=\"dataframe\">\n",
              "  <thead>\n",
              "    <tr style=\"text-align: right;\">\n",
              "      <th></th>\n",
              "      <th>signal_id</th>\n",
              "      <th>id_measurement</th>\n",
              "      <th>phase</th>\n",
              "      <th>target</th>\n",
              "    </tr>\n",
              "  </thead>\n",
              "  <tbody>\n",
              "    <tr>\n",
              "      <th>0</th>\n",
              "      <td>0</td>\n",
              "      <td>0</td>\n",
              "      <td>0</td>\n",
              "      <td>0</td>\n",
              "    </tr>\n",
              "    <tr>\n",
              "      <th>1</th>\n",
              "      <td>1</td>\n",
              "      <td>0</td>\n",
              "      <td>1</td>\n",
              "      <td>0</td>\n",
              "    </tr>\n",
              "    <tr>\n",
              "      <th>2</th>\n",
              "      <td>2</td>\n",
              "      <td>0</td>\n",
              "      <td>2</td>\n",
              "      <td>0</td>\n",
              "    </tr>\n",
              "    <tr>\n",
              "      <th>3</th>\n",
              "      <td>3</td>\n",
              "      <td>1</td>\n",
              "      <td>0</td>\n",
              "      <td>1</td>\n",
              "    </tr>\n",
              "    <tr>\n",
              "      <th>4</th>\n",
              "      <td>4</td>\n",
              "      <td>1</td>\n",
              "      <td>1</td>\n",
              "      <td>1</td>\n",
              "    </tr>\n",
              "  </tbody>\n",
              "</table>\n",
              "</div>"
            ],
            "text/plain": [
              "   signal_id  id_measurement  phase  target\n",
              "0          0               0      0       0\n",
              "1          1               0      1       0\n",
              "2          2               0      2       0\n",
              "3          3               1      0       1\n",
              "4          4               1      1       1"
            ]
          },
          "metadata": {
            "tags": []
          },
          "execution_count": 10
        }
      ]
    },
    {
      "cell_type": "markdown",
      "metadata": {
        "id": "ZOQS8hE7bNQ3",
        "colab_type": "text"
      },
      "source": [
        "And this is what signals look like"
      ]
    },
    {
      "cell_type": "code",
      "metadata": {
        "id": "-K4aSl-IJvhV",
        "colab_type": "code",
        "outputId": "c003d3f4-9135-4737-c213-5beed4ce8f0d",
        "colab": {
          "base_uri": "https://localhost:8080/",
          "height": 562
        }
      },
      "source": [
        "import pandas as pd\n",
        "import matplotlib.pyplot as plt\n",
        "# Load Normal data\n",
        "metadata = pd.read_csv('/content/metadata_train.csv')\n",
        "signal_ids = list(metadata[metadata[\"id_measurement\"] == 0][\"signal_id\"].values)\n",
        "signal_ids = [str(item) for item in signal_ids]\n",
        "train_0 = pd.read_parquet('/content/train/train.parquet', \n",
        "                        engine='pyarrow', \n",
        "                        columns=signal_ids)\n",
        "# Load Anomalous data\n",
        "signal_ids = list(metadata[metadata[\"id_measurement\"] == 1][\"signal_id\"].values)\n",
        "signal_ids = [str(item) for item in signal_ids]\n",
        "train_1 = pd.read_parquet('/content/train/train.parquet',\n",
        "                        engine='pyarrow', \n",
        "                        columns=signal_ids)\n",
        "# Plot Normal signal\n",
        "train_0.plot()\n",
        "plt.title(\"Normal Signal\")\n",
        "plt.show()\n",
        "# Plot Abnormal signal\n",
        "train_1.plot()\n",
        "plt.title(\"Signal with Anomalies\")\n",
        "plt.show()"
      ],
      "execution_count": 0,
      "outputs": [
        {
          "output_type": "stream",
          "text": [
            "Index(['0', '1', '2'], dtype='object')\n"
          ],
          "name": "stdout"
        },
        {
          "output_type": "display_data",
          "data": {
            "image/png": "[encoded data removed]",
            "text/plain": [
              "<Figure size 432x288 with 1 Axes>"
            ]
          },
          "metadata": {
            "tags": []
          }
        },
        {
          "output_type": "display_data",
          "data": {
            "image/png": "[encoded data removed]",
            "text/plain": [
              "<Figure size 432x288 with 1 Axes>"
            ]
          },
          "metadata": {
            "tags": []
          }
        }
      ]
    },
    {
      "cell_type": "markdown",
      "metadata": {
        "id": "isZszVWCmMx6",
        "colab_type": "text"
      },
      "source": [
        "# Extracting some features from Timeseries\n",
        "As the signals are too large to be fed into a LSTM, let us shrink it a bit through aggregation via the following features:\n",
        "\n",
        "* maximum\n",
        "* minimum\n",
        "* mean\n",
        "* median\n",
        "* variance\n",
        "* standard deviation\n",
        "* difference between maximum and minimum\n",
        "\n",
        "Below can be found the function definition."
      ]
    },
    {
      "cell_type": "code",
      "metadata": {
        "id": "cd5gztSjnmhA",
        "colab_type": "code",
        "outputId": "9186c0f6-5062-420c-f025-9525f42a052e",
        "colab": {
          "base_uri": "https://localhost:8080/",
          "height": 286
        }
      },
      "source": [
        "import pandas as pd\n",
        "import numpy as np\n",
        "\n",
        "def agg_timeseries(input_df: pd.DataFrame, \n",
        "                   agg_size: int = 800):\n",
        "  \"\"\"\n",
        "  This functions will reduce the size of the initial timeseries aiming to ease \n",
        "  the performance for the Long Short Term Memory in Keras.\n",
        "  input_df: Initial time series \n",
        "  agg_size: It represents the window size. default value is 800. That means if \n",
        "            original ts length is 800k, then it will be reduced to 1k.\n",
        "  returns: A timeseries of input_df.shape[0]/agg_size length\n",
        "  \"\"\"\n",
        "  df = input_df.copy()\n",
        "  # Creating the dummy aggregator index.\n",
        "  dummy_aggregator = []\n",
        "  number_obs = int(df.shape[0]/agg_size)\n",
        "  for obs in range(number_obs):\n",
        "    dummy_aggregator.extend([obs]*agg_size)\n",
        "  df['dummy_index'] = dummy_aggregator\n",
        "  # Collapsing the timeseries.\n",
        "  df_max = df.groupby('dummy_index').max()\n",
        "  df_min = df.groupby('dummy_index').min()\n",
        "  df_mean = df.groupby('dummy_index').mean()\n",
        "  df_median = df.groupby('dummy_index').median()\n",
        "  df_std = df.groupby('dummy_index').std()\n",
        "  df_max.reset_index(inplace=True)\n",
        "  df_min.reset_index(inplace=True)\n",
        "  df_mean.reset_index(inplace=True)\n",
        "  df_median.reset_index(inplace=True)\n",
        "  df_std.reset_index(inplace=True)\n",
        "  df_max.drop('dummy_index', axis=1, inplace=True)\n",
        "  df_min.drop('dummy_index', axis=1, inplace=True)\n",
        "  df_mean.drop('dummy_index', axis=1, inplace=True)\n",
        "  df_median.drop('dummy_index', axis=1, inplace=True)\n",
        "  df_std.drop('dummy_index', axis=1, inplace=True)\n",
        "  df_subtract = df_max.subtract(df_min)\n",
        "  df_max.columns = ['max']\n",
        "  df_min.columns = ['min']\n",
        "  df_mean.columns = ['mean']\n",
        "  df_median.columns = ['median']\n",
        "  df_std.columns = ['std']\n",
        "  df_subtract.columns = ['subtract']\n",
        "  return pd.concat([df_max, df_min, df_mean, df_median, df_std, df_subtract], axis = 1)\n",
        "  \n",
        "test_df = pd.read_parquet('/content/train/train.parquet', \n",
        "                        engine='pyarrow', \n",
        "                        columns=[\"0\"])\n",
        "test_df = agg_timeseries(test_df, agg_size=400)\n",
        "test_df.plot()"
      ],
      "execution_count": 0,
      "outputs": [
        {
          "output_type": "execute_result",
          "data": {
            "text/plain": [
              "<matplotlib.axes._subplots.AxesSubplot at 0x7f166c3b9c18>"
            ]
          },
          "metadata": {
            "tags": []
          },
          "execution_count": 11
        },
        {
          "output_type": "display_data",
          "data": {
            "image/png": "[encoded data removed]",
            "text/plain": [
              "<Figure size 432x288 with 1 Axes>"
            ]
          },
          "metadata": {
            "tags": []
          }
        }
      ]
    },
    {
      "cell_type": "markdown",
      "metadata": {
        "id": "cvbjDzecqBOV",
        "colab_type": "text"
      },
      "source": [
        "Generating our input"
      ]
    },
    {
      "cell_type": "code",
      "metadata": {
        "id": "kpGHOpVlqGqq",
        "colab_type": "code",
        "outputId": "818e846a-e7f4-449f-f89f-bade5ae18474",
        "colab": {
          "base_uri": "https://localhost:8080/",
          "height": 1000
        }
      },
      "source": [
        "import time\n",
        "input_dataset = list()\n",
        "signal_ids = list(metadata['signal_id'])\n",
        "initial_time = time.time()\n",
        "for items in signal_ids:\n",
        "  train_df = pd.read_parquet('/content/train/train.parquet', \n",
        "                        engine='pyarrow', \n",
        "                        columns=[str(items)])\n",
        "  input_dataset.append(agg_timeseries(train_df).values)\n",
        "  if items % 100 == 0:\n",
        "    print('Adding '+str(items)+' dataset. Time: '+str(time.time()-initial_time))\n"
      ],
      "execution_count": 0,
      "outputs": [
        {
          "output_type": "stream",
          "text": [
            "Adding 0 dataset. Time: 0.5482127666473389\n",
            "Adding 100 dataset. Time: 64.38337683677673\n",
            "Adding 200 dataset. Time: 128.03911781311035\n",
            "Adding 300 dataset. Time: 190.47537684440613\n",
            "Adding 400 dataset. Time: 253.65897512435913\n",
            "Adding 500 dataset. Time: 317.03026509284973\n",
            "Adding 600 dataset. Time: 381.5121970176697\n",
            "Adding 700 dataset. Time: 445.90269017219543\n",
            "Adding 800 dataset. Time: 510.113578081131\n",
            "Adding 900 dataset. Time: 574.7414741516113\n",
            "Adding 1000 dataset. Time: 639.5093193054199\n",
            "Adding 1100 dataset. Time: 703.4829483032227\n",
            "Adding 1200 dataset. Time: 767.8253872394562\n",
            "Adding 1300 dataset. Time: 832.0309042930603\n",
            "Adding 1400 dataset. Time: 896.8110542297363\n",
            "Adding 1500 dataset. Time: 960.3641636371613\n",
            "Adding 1600 dataset. Time: 1023.872385263443\n",
            "Adding 1700 dataset. Time: 1086.9148259162903\n",
            "Adding 1800 dataset. Time: 1150.523140668869\n",
            "Adding 1900 dataset. Time: 1214.7878935337067\n",
            "Adding 2000 dataset. Time: 1278.4561684131622\n",
            "Adding 2100 dataset. Time: 1341.957885503769\n",
            "Adding 2200 dataset. Time: 1405.3373832702637\n",
            "Adding 2300 dataset. Time: 1468.6736726760864\n",
            "Adding 2400 dataset. Time: 1532.516689300537\n",
            "Adding 2500 dataset. Time: 1596.4678552150726\n",
            "Adding 2600 dataset. Time: 1660.467631816864\n",
            "Adding 2700 dataset. Time: 1724.475801706314\n",
            "Adding 2800 dataset. Time: 1788.1538326740265\n",
            "Adding 2900 dataset. Time: 1851.723401069641\n",
            "Adding 3000 dataset. Time: 1915.444810628891\n",
            "Adding 3100 dataset. Time: 1979.459287405014\n",
            "Adding 3200 dataset. Time: 2043.3197569847107\n",
            "Adding 3300 dataset. Time: 2106.7034661769867\n",
            "Adding 3400 dataset. Time: 2169.5256519317627\n",
            "Adding 3500 dataset. Time: 2233.207896709442\n",
            "Adding 3600 dataset. Time: 2296.6183593273163\n",
            "Adding 3700 dataset. Time: 2360.31773352623\n",
            "Adding 3800 dataset. Time: 2424.21719455719\n",
            "Adding 3900 dataset. Time: 2488.3560030460358\n",
            "Adding 4000 dataset. Time: 2552.4000878334045\n",
            "Adding 4100 dataset. Time: 2616.3339297771454\n",
            "Adding 4200 dataset. Time: 2680.3329231739044\n",
            "Adding 4300 dataset. Time: 2742.790125846863\n",
            "Adding 4400 dataset. Time: 2804.830864906311\n",
            "Adding 4500 dataset. Time: 2866.494081020355\n",
            "Adding 4600 dataset. Time: 2928.2443096637726\n",
            "Adding 4700 dataset. Time: 2990.9329998493195\n",
            "Adding 4800 dataset. Time: 3054.5881106853485\n",
            "Adding 4900 dataset. Time: 3118.2239606380463\n",
            "Adding 5000 dataset. Time: 3181.707141160965\n",
            "Adding 5100 dataset. Time: 3245.1279990673065\n",
            "Adding 5200 dataset. Time: 3308.562133550644\n",
            "Adding 5300 dataset. Time: 3373.2291944026947\n",
            "Adding 5400 dataset. Time: 3436.728107690811\n",
            "Adding 5500 dataset. Time: 3499.878186941147\n",
            "Adding 5600 dataset. Time: 3562.9599561691284\n",
            "Adding 5700 dataset. Time: 3627.3222196102142\n",
            "Adding 5800 dataset. Time: 3691.004714012146\n",
            "Adding 5900 dataset. Time: 3755.225423812866\n",
            "Adding 6000 dataset. Time: 3819.441712141037\n",
            "Adding 6100 dataset. Time: 3882.93386054039\n",
            "Adding 6200 dataset. Time: 3945.9185745716095\n",
            "Adding 6300 dataset. Time: 4009.619915485382\n",
            "Adding 6400 dataset. Time: 4073.5689129829407\n",
            "Adding 6500 dataset. Time: 4137.263251066208\n",
            "Adding 6600 dataset. Time: 4200.390705108643\n",
            "Adding 6700 dataset. Time: 4263.303734064102\n",
            "Adding 6800 dataset. Time: 4326.394107341766\n",
            "Adding 6900 dataset. Time: 4390.666400194168\n",
            "Adding 7000 dataset. Time: 4454.502872467041\n",
            "Adding 7100 dataset. Time: 4517.088271141052\n",
            "Adding 7200 dataset. Time: 4580.243114233017\n",
            "Adding 7300 dataset. Time: 4644.240608215332\n",
            "Adding 7400 dataset. Time: 4708.514011621475\n",
            "Adding 7500 dataset. Time: 4772.186958312988\n",
            "Adding 7600 dataset. Time: 4836.17818069458\n",
            "Adding 7700 dataset. Time: 4900.204851388931\n",
            "Adding 7800 dataset. Time: 4964.341562271118\n",
            "Adding 7900 dataset. Time: 5028.725079774857\n",
            "Adding 8000 dataset. Time: 5093.355300188065\n",
            "Adding 8100 dataset. Time: 5157.774588346481\n",
            "Adding 8200 dataset. Time: 5222.258253097534\n",
            "Adding 8300 dataset. Time: 5286.087891101837\n",
            "Adding 8400 dataset. Time: 5349.880623579025\n",
            "Adding 8500 dataset. Time: 5413.878125190735\n",
            "Adding 8600 dataset. Time: 5478.014559268951\n",
            "Adding 8700 dataset. Time: 5542.311670303345\n"
          ],
          "name": "stdout"
        }
      ]
    },
    {
      "cell_type": "code",
      "metadata": {
        "id": "A4wkfFJssC4u",
        "colab_type": "code",
        "colab": {}
      },
      "source": [
        "# Converting this list into numpy array\n",
        "input_dataset = np.array(input_dataset)\n",
        "np.save(\"train_set.npy\", input_dataset)"
      ],
      "execution_count": 0,
      "outputs": []
    },
    {
      "cell_type": "markdown",
      "metadata": {
        "id": "mLRVTzYwskxe",
        "colab_type": "text"
      },
      "source": [
        "# Splitting Data\n",
        "Let's split data by defining a train and validation sets"
      ]
    },
    {
      "cell_type": "code",
      "metadata": {
        "id": "eC1ZINGdtFtj",
        "colab_type": "code",
        "colab": {}
      },
      "source": [
        "from sklearn.model_selection import train_test_split\n",
        "X_train, X_val, y_train, y_val = train_test_split(input_dataset, \n",
        "                                                  np.array(metadata[\"target\"]), \n",
        "                                                  test_size=0.20, \n",
        "                                                  random_state=42)\n"
      ],
      "execution_count": 0,
      "outputs": []
    },
    {
      "cell_type": "code",
      "metadata": {
        "id": "8qlLl2Z6-14X",
        "colab_type": "code",
        "colab": {}
      },
      "source": [
        "# Scale data\n",
        "X_train_scaled = np.divide(X_train, 20)\n",
        "X_val_scaled = np.divide(X_val, 20)"
      ],
      "execution_count": 0,
      "outputs": []
    },
    {
      "cell_type": "markdown",
      "metadata": {
        "id": "Q-YyvBKjsQtN",
        "colab_type": "text"
      },
      "source": [
        "# Defining the Architecture 1: LSTM + Dense\n",
        "Let's get started with a simple architecture consiting of a LSTM and a dense layer.\n",
        "\n",
        "Matthews Correlation Achieved on Kaggle: 0.42"
      ]
    },
    {
      "cell_type": "code",
      "metadata": {
        "id": "9bhU4d-5sbjW",
        "colab_type": "code",
        "outputId": "b7e05caa-d576-4469-c836-4c8e47d39c50",
        "colab": {
          "base_uri": "https://localhost:8080/",
          "height": 238
        }
      },
      "source": [
        "from sklearn.metrics import matthews_corrcoef\n",
        "from keras.models import Sequential\n",
        "from keras.layers import Dense, Activation\n",
        "from keras.layers import Dense, Dropout\n",
        "from keras.layers import LSTM\n",
        "\n",
        "\n",
        "model = Sequential()\n",
        "model.add(LSTM(100, input_shape=(1000,6)))\n",
        "model.add(Dense(100, activation='relu'))\n",
        "model.add(Dense(2, activation='softmax'))\n",
        "model.compile(loss='categorical_crossentropy', optimizer='adam', metrics=['accuracy'])\n",
        "\n",
        "model.summary()"
      ],
      "execution_count": 0,
      "outputs": [
        {
          "output_type": "stream",
          "text": [
            "_________________________________________________________________\n",
            "Layer (type)                 Output Shape              Param #   \n",
            "=================================================================\n",
            "lstm_3 (LSTM)                (None, 100)               42800     \n",
            "_________________________________________________________________\n",
            "dense_37 (Dense)             (None, 100)               10100     \n",
            "_________________________________________________________________\n",
            "dense_38 (Dense)             (None, 2)                 202       \n",
            "=================================================================\n",
            "Total params: 53,102\n",
            "Trainable params: 53,102\n",
            "Non-trainable params: 0\n",
            "_________________________________________________________________\n"
          ],
          "name": "stdout"
        }
      ]
    },
    {
      "cell_type": "code",
      "metadata": {
        "id": "TZbzgu-e_QyU",
        "colab_type": "code",
        "outputId": "b1d342ad-b227-4691-fe7c-1f0d4dee05cb",
        "colab": {
          "base_uri": "https://localhost:8080/",
          "height": 1000
        }
      },
      "source": [
        "from keras.utils import to_categorical\n",
        "from keras.callbacks import EarlyStopping, ReduceLROnPlateau\n",
        "import numpy as np\n",
        "\n",
        "y_binary = np.array(y_train).reshape(-1, 1)\n",
        "y_binary = to_categorical(y_binary)\n",
        "verbose, epochs, batch_size = 0, 35, 64\n",
        "\n",
        "model.fit(X_train, y_binary, validation_split=0.1, epochs=epochs, batch_size=batch_size, verbose=1)"
      ],
      "execution_count": 0,
      "outputs": [
        {
          "output_type": "stream",
          "text": [
            "W0624 19:38:11.703692 140563064059776 deprecation.py:323] From /usr/local/lib/python3.6/dist-packages/tensorflow/python/ops/math_grad.py:1250: add_dispatch_support.<locals>.wrapper (from tensorflow.python.ops.array_ops) is deprecated and will be removed in a future version.\n",
            "Instructions for updating:\n",
            "Use tf.where in 2.0, which has the same broadcast rule as np.where\n",
            "W0624 19:38:12.286176 140563064059776 deprecation_wrapper.py:119] From /usr/local/lib/python3.6/dist-packages/keras/backend/tensorflow_backend.py:986: The name tf.assign_add is deprecated. Please use tf.compat.v1.assign_add instead.\n",
            "\n"
          ],
          "name": "stderr"
        },
        {
          "output_type": "stream",
          "text": [
            "Train on 6272 samples, validate on 697 samples\n",
            "Epoch 1/35\n",
            "6272/6272 [==============================] - 142s 23ms/step - loss: 0.2608 - acc: 0.9157 - val_loss: 0.1804 - val_acc: 0.9527\n",
            "Epoch 2/35\n",
            "6272/6272 [==============================] - 136s 22ms/step - loss: 0.2168 - acc: 0.9388 - val_loss: 0.1707 - val_acc: 0.9541\n",
            "Epoch 3/35\n",
            "6272/6272 [==============================] - 135s 22ms/step - loss: 0.2028 - acc: 0.9388 - val_loss: 0.1620 - val_acc: 0.9527\n",
            "Epoch 4/35\n",
            "6272/6272 [==============================] - 135s 21ms/step - loss: 0.1985 - acc: 0.9362 - val_loss: 0.1658 - val_acc: 0.9527\n",
            "Epoch 5/35\n",
            "6272/6272 [==============================] - 135s 21ms/step - loss: 0.1841 - acc: 0.9431 - val_loss: 0.1527 - val_acc: 0.9541\n",
            "Epoch 6/35\n",
            "6272/6272 [==============================] - 134s 21ms/step - loss: 0.1866 - acc: 0.9424 - val_loss: 0.1668 - val_acc: 0.9527\n",
            "Epoch 7/35\n",
            "6272/6272 [==============================] - 135s 21ms/step - loss: 0.1852 - acc: 0.9432 - val_loss: 0.1597 - val_acc: 0.9512\n",
            "Epoch 8/35\n",
            "6272/6272 [==============================] - 134s 21ms/step - loss: 0.1817 - acc: 0.9405 - val_loss: 0.1553 - val_acc: 0.9541\n",
            "Epoch 9/35\n",
            "6272/6272 [==============================] - 135s 22ms/step - loss: 0.1656 - acc: 0.9461 - val_loss: 0.1517 - val_acc: 0.9570\n",
            "Epoch 10/35\n",
            "6272/6272 [==============================] - 134s 21ms/step - loss: 0.1762 - acc: 0.9444 - val_loss: 0.1581 - val_acc: 0.9469\n",
            "Epoch 11/35\n",
            "6272/6272 [==============================] - 135s 22ms/step - loss: 0.1679 - acc: 0.9448 - val_loss: 0.1451 - val_acc: 0.9570\n",
            "Epoch 12/35\n",
            "6272/6272 [==============================] - 135s 22ms/step - loss: 0.1591 - acc: 0.9469 - val_loss: 0.1419 - val_acc: 0.9527\n",
            "Epoch 13/35\n",
            "6272/6272 [==============================] - 134s 21ms/step - loss: 0.1565 - acc: 0.9482 - val_loss: 0.1335 - val_acc: 0.9541\n",
            "Epoch 14/35\n",
            "6272/6272 [==============================] - 135s 22ms/step - loss: 0.1605 - acc: 0.9463 - val_loss: 0.1375 - val_acc: 0.9512\n",
            "Epoch 15/35\n",
            "6272/6272 [==============================] - 134s 21ms/step - loss: 0.1612 - acc: 0.9469 - val_loss: 0.1565 - val_acc: 0.9469\n",
            "Epoch 16/35\n",
            "6272/6272 [==============================] - 135s 21ms/step - loss: 0.1513 - acc: 0.9517 - val_loss: 0.1317 - val_acc: 0.9527\n",
            "Epoch 17/35\n",
            "6272/6272 [==============================] - 134s 21ms/step - loss: 0.1545 - acc: 0.9480 - val_loss: 0.1388 - val_acc: 0.9555\n",
            "Epoch 18/35\n",
            "6016/6272 [===========================>..] - ETA: 5s - loss: 0.1548 - acc: 0.9503"
          ],
          "name": "stdout"
        },
        {
          "output_type": "error",
          "ename": "KeyboardInterrupt",
          "evalue": "ignored",
          "traceback": [
            "\u001b[0;31m---------------------------------------------------------------------------\u001b[0m",
            "\u001b[0;31mKeyboardInterrupt\u001b[0m                         Traceback (most recent call last)",
            "\u001b[0;32m<ipython-input-17-2bd2b2f560b2>\u001b[0m in \u001b[0;36m<module>\u001b[0;34m()\u001b[0m\n\u001b[1;32m      7\u001b[0m \u001b[0mverbose\u001b[0m\u001b[0;34m,\u001b[0m \u001b[0mepochs\u001b[0m\u001b[0;34m,\u001b[0m \u001b[0mbatch_size\u001b[0m \u001b[0;34m=\u001b[0m \u001b[0;36m0\u001b[0m\u001b[0;34m,\u001b[0m \u001b[0;36m35\u001b[0m\u001b[0;34m,\u001b[0m \u001b[0;36m64\u001b[0m\u001b[0;34m\u001b[0m\u001b[0;34m\u001b[0m\u001b[0m\n\u001b[1;32m      8\u001b[0m \u001b[0;34m\u001b[0m\u001b[0m\n\u001b[0;32m----> 9\u001b[0;31m \u001b[0mmodel\u001b[0m\u001b[0;34m.\u001b[0m\u001b[0mfit\u001b[0m\u001b[0;34m(\u001b[0m\u001b[0mX_train\u001b[0m\u001b[0;34m,\u001b[0m \u001b[0my_binary\u001b[0m\u001b[0;34m,\u001b[0m \u001b[0mvalidation_split\u001b[0m\u001b[0;34m=\u001b[0m\u001b[0;36m0.1\u001b[0m\u001b[0;34m,\u001b[0m \u001b[0mepochs\u001b[0m\u001b[0;34m=\u001b[0m\u001b[0mepochs\u001b[0m\u001b[0;34m,\u001b[0m \u001b[0mbatch_size\u001b[0m\u001b[0;34m=\u001b[0m\u001b[0mbatch_size\u001b[0m\u001b[0;34m,\u001b[0m \u001b[0mverbose\u001b[0m\u001b[0;34m=\u001b[0m\u001b[0;36m1\u001b[0m\u001b[0;34m)\u001b[0m\u001b[0;34m\u001b[0m\u001b[0;34m\u001b[0m\u001b[0m\n\u001b[0m",
            "\u001b[0;32m/usr/local/lib/python3.6/dist-packages/keras/engine/training.py\u001b[0m in \u001b[0;36mfit\u001b[0;34m(self, x, y, batch_size, epochs, verbose, callbacks, validation_split, validation_data, shuffle, class_weight, sample_weight, initial_epoch, steps_per_epoch, validation_steps, **kwargs)\u001b[0m\n\u001b[1;32m   1037\u001b[0m                                         \u001b[0minitial_epoch\u001b[0m\u001b[0;34m=\u001b[0m\u001b[0minitial_epoch\u001b[0m\u001b[0;34m,\u001b[0m\u001b[0;34m\u001b[0m\u001b[0;34m\u001b[0m\u001b[0m\n\u001b[1;32m   1038\u001b[0m                                         \u001b[0msteps_per_epoch\u001b[0m\u001b[0;34m=\u001b[0m\u001b[0msteps_per_epoch\u001b[0m\u001b[0;34m,\u001b[0m\u001b[0;34m\u001b[0m\u001b[0;34m\u001b[0m\u001b[0m\n\u001b[0;32m-> 1039\u001b[0;31m                                         validation_steps=validation_steps)\n\u001b[0m\u001b[1;32m   1040\u001b[0m \u001b[0;34m\u001b[0m\u001b[0m\n\u001b[1;32m   1041\u001b[0m     def evaluate(self, x=None, y=None,\n",
            "\u001b[0;32m/usr/local/lib/python3.6/dist-packages/keras/engine/training_arrays.py\u001b[0m in \u001b[0;36mfit_loop\u001b[0;34m(model, f, ins, out_labels, batch_size, epochs, verbose, callbacks, val_f, val_ins, shuffle, callback_metrics, initial_epoch, steps_per_epoch, validation_steps)\u001b[0m\n\u001b[1;32m    197\u001b[0m                     \u001b[0mins_batch\u001b[0m\u001b[0;34m[\u001b[0m\u001b[0mi\u001b[0m\u001b[0;34m]\u001b[0m \u001b[0;34m=\u001b[0m \u001b[0mins_batch\u001b[0m\u001b[0;34m[\u001b[0m\u001b[0mi\u001b[0m\u001b[0;34m]\u001b[0m\u001b[0;34m.\u001b[0m\u001b[0mtoarray\u001b[0m\u001b[0;34m(\u001b[0m\u001b[0;34m)\u001b[0m\u001b[0;34m\u001b[0m\u001b[0;34m\u001b[0m\u001b[0m\n\u001b[1;32m    198\u001b[0m \u001b[0;34m\u001b[0m\u001b[0m\n\u001b[0;32m--> 199\u001b[0;31m                 \u001b[0mouts\u001b[0m \u001b[0;34m=\u001b[0m \u001b[0mf\u001b[0m\u001b[0;34m(\u001b[0m\u001b[0mins_batch\u001b[0m\u001b[0;34m)\u001b[0m\u001b[0;34m\u001b[0m\u001b[0;34m\u001b[0m\u001b[0m\n\u001b[0m\u001b[1;32m    200\u001b[0m                 \u001b[0mouts\u001b[0m \u001b[0;34m=\u001b[0m \u001b[0mto_list\u001b[0m\u001b[0;34m(\u001b[0m\u001b[0mouts\u001b[0m\u001b[0;34m)\u001b[0m\u001b[0;34m\u001b[0m\u001b[0;34m\u001b[0m\u001b[0m\n\u001b[1;32m    201\u001b[0m                 \u001b[0;32mfor\u001b[0m \u001b[0ml\u001b[0m\u001b[0;34m,\u001b[0m \u001b[0mo\u001b[0m \u001b[0;32min\u001b[0m \u001b[0mzip\u001b[0m\u001b[0;34m(\u001b[0m\u001b[0mout_labels\u001b[0m\u001b[0;34m,\u001b[0m \u001b[0mouts\u001b[0m\u001b[0;34m)\u001b[0m\u001b[0;34m:\u001b[0m\u001b[0;34m\u001b[0m\u001b[0;34m\u001b[0m\u001b[0m\n",
            "\u001b[0;32m/usr/local/lib/python3.6/dist-packages/keras/backend/tensorflow_backend.py\u001b[0m in \u001b[0;36m__call__\u001b[0;34m(self, inputs)\u001b[0m\n\u001b[1;32m   2713\u001b[0m                 \u001b[0;32mreturn\u001b[0m \u001b[0mself\u001b[0m\u001b[0;34m.\u001b[0m\u001b[0m_legacy_call\u001b[0m\u001b[0;34m(\u001b[0m\u001b[0minputs\u001b[0m\u001b[0;34m)\u001b[0m\u001b[0;34m\u001b[0m\u001b[0;34m\u001b[0m\u001b[0m\n\u001b[1;32m   2714\u001b[0m \u001b[0;34m\u001b[0m\u001b[0m\n\u001b[0;32m-> 2715\u001b[0;31m             \u001b[0;32mreturn\u001b[0m \u001b[0mself\u001b[0m\u001b[0;34m.\u001b[0m\u001b[0m_call\u001b[0m\u001b[0;34m(\u001b[0m\u001b[0minputs\u001b[0m\u001b[0;34m)\u001b[0m\u001b[0;34m\u001b[0m\u001b[0;34m\u001b[0m\u001b[0m\n\u001b[0m\u001b[1;32m   2716\u001b[0m         \u001b[0;32melse\u001b[0m\u001b[0;34m:\u001b[0m\u001b[0;34m\u001b[0m\u001b[0;34m\u001b[0m\u001b[0m\n\u001b[1;32m   2717\u001b[0m             \u001b[0;32mif\u001b[0m \u001b[0mpy_any\u001b[0m\u001b[0;34m(\u001b[0m\u001b[0mis_tensor\u001b[0m\u001b[0;34m(\u001b[0m\u001b[0mx\u001b[0m\u001b[0;34m)\u001b[0m \u001b[0;32mfor\u001b[0m \u001b[0mx\u001b[0m \u001b[0;32min\u001b[0m \u001b[0minputs\u001b[0m\u001b[0;34m)\u001b[0m\u001b[0;34m:\u001b[0m\u001b[0;34m\u001b[0m\u001b[0;34m\u001b[0m\u001b[0m\n",
            "\u001b[0;32m/usr/local/lib/python3.6/dist-packages/keras/backend/tensorflow_backend.py\u001b[0m in \u001b[0;36m_call\u001b[0;34m(self, inputs)\u001b[0m\n\u001b[1;32m   2673\u001b[0m             \u001b[0mfetched\u001b[0m \u001b[0;34m=\u001b[0m \u001b[0mself\u001b[0m\u001b[0;34m.\u001b[0m\u001b[0m_callable_fn\u001b[0m\u001b[0;34m(\u001b[0m\u001b[0;34m*\u001b[0m\u001b[0marray_vals\u001b[0m\u001b[0;34m,\u001b[0m \u001b[0mrun_metadata\u001b[0m\u001b[0;34m=\u001b[0m\u001b[0mself\u001b[0m\u001b[0;34m.\u001b[0m\u001b[0mrun_metadata\u001b[0m\u001b[0;34m)\u001b[0m\u001b[0;34m\u001b[0m\u001b[0;34m\u001b[0m\u001b[0m\n\u001b[1;32m   2674\u001b[0m         \u001b[0;32melse\u001b[0m\u001b[0;34m:\u001b[0m\u001b[0;34m\u001b[0m\u001b[0;34m\u001b[0m\u001b[0m\n\u001b[0;32m-> 2675\u001b[0;31m             \u001b[0mfetched\u001b[0m \u001b[0;34m=\u001b[0m \u001b[0mself\u001b[0m\u001b[0;34m.\u001b[0m\u001b[0m_callable_fn\u001b[0m\u001b[0;34m(\u001b[0m\u001b[0;34m*\u001b[0m\u001b[0marray_vals\u001b[0m\u001b[0;34m)\u001b[0m\u001b[0;34m\u001b[0m\u001b[0;34m\u001b[0m\u001b[0m\n\u001b[0m\u001b[1;32m   2676\u001b[0m         \u001b[0;32mreturn\u001b[0m \u001b[0mfetched\u001b[0m\u001b[0;34m[\u001b[0m\u001b[0;34m:\u001b[0m\u001b[0mlen\u001b[0m\u001b[0;34m(\u001b[0m\u001b[0mself\u001b[0m\u001b[0;34m.\u001b[0m\u001b[0moutputs\u001b[0m\u001b[0;34m)\u001b[0m\u001b[0;34m]\u001b[0m\u001b[0;34m\u001b[0m\u001b[0;34m\u001b[0m\u001b[0m\n\u001b[1;32m   2677\u001b[0m \u001b[0;34m\u001b[0m\u001b[0m\n",
            "\u001b[0;32m/usr/local/lib/python3.6/dist-packages/tensorflow/python/client/session.py\u001b[0m in \u001b[0;36m__call__\u001b[0;34m(self, *args, **kwargs)\u001b[0m\n\u001b[1;32m   1456\u001b[0m         ret = tf_session.TF_SessionRunCallable(self._session._session,\n\u001b[1;32m   1457\u001b[0m                                                \u001b[0mself\u001b[0m\u001b[0;34m.\u001b[0m\u001b[0m_handle\u001b[0m\u001b[0;34m,\u001b[0m \u001b[0margs\u001b[0m\u001b[0;34m,\u001b[0m\u001b[0;34m\u001b[0m\u001b[0;34m\u001b[0m\u001b[0m\n\u001b[0;32m-> 1458\u001b[0;31m                                                run_metadata_ptr)\n\u001b[0m\u001b[1;32m   1459\u001b[0m         \u001b[0;32mif\u001b[0m \u001b[0mrun_metadata\u001b[0m\u001b[0;34m:\u001b[0m\u001b[0;34m\u001b[0m\u001b[0;34m\u001b[0m\u001b[0m\n\u001b[1;32m   1460\u001b[0m           \u001b[0mproto_data\u001b[0m \u001b[0;34m=\u001b[0m \u001b[0mtf_session\u001b[0m\u001b[0;34m.\u001b[0m\u001b[0mTF_GetBuffer\u001b[0m\u001b[0;34m(\u001b[0m\u001b[0mrun_metadata_ptr\u001b[0m\u001b[0;34m)\u001b[0m\u001b[0;34m\u001b[0m\u001b[0;34m\u001b[0m\u001b[0m\n",
            "\u001b[0;31mKeyboardInterrupt\u001b[0m: "
          ]
        }
      ]
    },
    {
      "cell_type": "code",
      "metadata": {
        "id": "mS_duGSWIxR5",
        "colab_type": "code",
        "outputId": "0b65d143-abad-4e68-88f5-249007b6ed16",
        "colab": {
          "base_uri": "https://localhost:8080/",
          "height": 34
        }
      },
      "source": [
        "results_train = model.predict(X_val)\n",
        "converted_result_train = []\n",
        "for item in results_train:\n",
        "  if item[0] > item[1]:\n",
        "    converted_result_train.append(0)\n",
        "  else:\n",
        "    converted_result_train.append(1)\n",
        "converted_result_train = np.array(converted_result_train)\n",
        "matthews_corrcoef(y_val, converted_result_train)"
      ],
      "execution_count": 0,
      "outputs": [
        {
          "output_type": "execute_result",
          "data": {
            "text/plain": [
              "0.48430213896071644"
            ]
          },
          "metadata": {
            "tags": []
          },
          "execution_count": 18
        }
      ]
    },
    {
      "cell_type": "code",
      "metadata": {
        "id": "fIf2fb_yJEKW",
        "colab_type": "code",
        "colab": {}
      },
      "source": [
        "model.save(\"model.h5\")"
      ],
      "execution_count": 0,
      "outputs": []
    },
    {
      "cell_type": "markdown",
      "metadata": {
        "id": "jJ-nrTnMJQqE",
        "colab_type": "text"
      },
      "source": [
        "Let's apply the model to the test dataset"
      ]
    },
    {
      "cell_type": "code",
      "metadata": {
        "id": "Ns4Cz-uxJP2X",
        "colab_type": "code",
        "outputId": "fb7f4d27-8749-4253-bc52-4400f592e4ba",
        "colab": {
          "base_uri": "https://localhost:8080/",
          "height": 1000
        }
      },
      "source": [
        "import time\n",
        "import pandas as pd\n",
        "initial_time = time.time()\n",
        "test_dataset = list()\n",
        "metadata_test = pd.read_csv('/content/metadata_test.csv')\n",
        "signal_ids = list(metadata_test['signal_id'])\n",
        "for items in signal_ids:\n",
        "  train_df = pd.read_parquet('/content/test/test.parquet', \n",
        "                        engine='pyarrow', \n",
        "                        columns=[str(items)])\n",
        "  test_dataset.append(agg_timeseries(train_df).values)\n",
        "  if items % 100 == 0:\n",
        "    print('Adding '+str(items)+' dataset. '+str(time.time()-initial_time))"
      ],
      "execution_count": 0,
      "outputs": [
        {
          "output_type": "stream",
          "text": [
            "Adding 8800 dataset. 81.85511088371277\n",
            "Adding 8900 dataset. 174.18948459625244\n",
            "Adding 9000 dataset. 266.435453414917\n",
            "Adding 9100 dataset. 359.37469458580017\n",
            "Adding 9200 dataset. 452.2886064052582\n",
            "Adding 9300 dataset. 546.6627571582794\n",
            "Adding 9400 dataset. 639.8397352695465\n",
            "Adding 9500 dataset. 732.9929049015045\n",
            "Adding 9600 dataset. 826.1577343940735\n",
            "Adding 9700 dataset. 919.5226407051086\n",
            "Adding 9800 dataset. 1012.6973526477814\n",
            "Adding 9900 dataset. 1106.1144785881042\n",
            "Adding 10000 dataset. 1199.8800604343414\n",
            "Adding 10100 dataset. 1293.4824364185333\n",
            "Adding 10200 dataset. 1386.900886774063\n",
            "Adding 10300 dataset. 1480.6855278015137\n",
            "Adding 10400 dataset. 1574.4765412807465\n",
            "Adding 10500 dataset. 1667.83607172966\n",
            "Adding 10600 dataset. 1761.3779010772705\n",
            "Adding 10700 dataset. 1855.030131816864\n",
            "Adding 10800 dataset. 1948.7233188152313\n",
            "Adding 10900 dataset. 2042.3413741588593\n",
            "Adding 11000 dataset. 2135.7014961242676\n",
            "Adding 11100 dataset. 2229.229712486267\n",
            "Adding 11200 dataset. 2322.832499027252\n",
            "Adding 11300 dataset. 2416.50377368927\n",
            "Adding 11400 dataset. 2509.7577197551727\n",
            "Adding 11500 dataset. 2603.0318760871887\n",
            "Adding 11600 dataset. 2696.3874430656433\n",
            "Adding 11700 dataset. 2789.9843010902405\n",
            "Adding 11800 dataset. 2883.128215074539\n",
            "Adding 11900 dataset. 2976.212278842926\n",
            "Adding 12000 dataset. 3069.6080651283264\n",
            "Adding 12100 dataset. 3163.2677943706512\n",
            "Adding 12200 dataset. 3256.990245819092\n",
            "Adding 12300 dataset. 3350.4082589149475\n",
            "Adding 12400 dataset. 3444.247662305832\n",
            "Adding 12500 dataset. 3537.913147211075\n",
            "Adding 12600 dataset. 3631.7586736679077\n",
            "Adding 12700 dataset. 3725.6600794792175\n",
            "Adding 12800 dataset. 3819.5734338760376\n",
            "Adding 12900 dataset. 3913.546241760254\n",
            "Adding 13000 dataset. 4007.4283986091614\n",
            "Adding 13100 dataset. 4101.641139507294\n",
            "Adding 13200 dataset. 4195.821454286575\n",
            "Adding 13300 dataset. 4290.0249054431915\n",
            "Adding 13400 dataset. 4384.112831354141\n",
            "Adding 13500 dataset. 4478.699385166168\n",
            "Adding 13600 dataset. 4572.758735179901\n",
            "Adding 13700 dataset. 4667.219490528107\n",
            "Adding 13800 dataset. 4761.1564292907715\n",
            "Adding 13900 dataset. 4855.311500310898\n",
            "Adding 14000 dataset. 4949.81482219696\n",
            "Adding 14100 dataset. 5043.862401008606\n",
            "Adding 14200 dataset. 5137.911769628525\n",
            "Adding 14300 dataset. 5232.133866071701\n",
            "Adding 14400 dataset. 5326.14278626442\n",
            "Adding 14500 dataset. 5419.63482260704\n",
            "Adding 14600 dataset. 5513.192188501358\n",
            "Adding 14700 dataset. 5607.073442697525\n",
            "Adding 14800 dataset. 5701.046181201935\n",
            "Adding 14900 dataset. 5794.913804531097\n",
            "Adding 15000 dataset. 5888.830428123474\n",
            "Adding 15100 dataset. 5982.787129878998\n",
            "Adding 15200 dataset. 6076.475645303726\n",
            "Adding 15300 dataset. 6169.484840869904\n",
            "Adding 15400 dataset. 6262.373661994934\n",
            "Adding 15500 dataset. 6354.999152421951\n",
            "Adding 15600 dataset. 6448.6891050338745\n",
            "Adding 15700 dataset. 6542.8045971393585\n",
            "Adding 15800 dataset. 6637.074348211288\n",
            "Adding 15900 dataset. 6731.252584218979\n",
            "Adding 16000 dataset. 6825.554517745972\n",
            "Adding 16100 dataset. 6919.688311100006\n",
            "Adding 16200 dataset. 7013.869426012039\n",
            "Adding 16300 dataset. 7108.19139456749\n",
            "Adding 16400 dataset. 7202.274842739105\n",
            "Adding 16500 dataset. 7295.67173242569\n",
            "Adding 16600 dataset. 7389.82267165184\n",
            "Adding 16700 dataset. 7484.078081846237\n",
            "Adding 16800 dataset. 7577.963238954544\n",
            "Adding 16900 dataset. 7671.766165018082\n",
            "Adding 17000 dataset. 7765.200372695923\n",
            "Adding 17100 dataset. 7857.499786615372\n",
            "Adding 17200 dataset. 7950.016706943512\n",
            "Adding 17300 dataset. 8042.789394855499\n",
            "Adding 17400 dataset. 8135.762299776077\n",
            "Adding 17500 dataset. 8228.629896879196\n",
            "Adding 17600 dataset. 8321.65400314331\n",
            "Adding 17700 dataset. 8414.854580402374\n",
            "Adding 17800 dataset. 8507.91016626358\n",
            "Adding 17900 dataset. 8600.850619792938\n",
            "Adding 18000 dataset. 8694.039262533188\n",
            "Adding 18100 dataset. 8787.08152127266\n",
            "Adding 18200 dataset. 8879.900792837143\n",
            "Adding 18300 dataset. 8973.013063430786\n",
            "Adding 18400 dataset. 9065.996371507645\n",
            "Adding 18500 dataset. 9158.79310131073\n",
            "Adding 18600 dataset. 9251.476058483124\n",
            "Adding 18700 dataset. 9344.291604757309\n",
            "Adding 18800 dataset. 9437.293133735657\n",
            "Adding 18900 dataset. 9530.744373083115\n",
            "Adding 19000 dataset. 9624.525002241135\n",
            "Adding 19100 dataset. 9717.910974502563\n",
            "Adding 19200 dataset. 9810.900684595108\n",
            "Adding 19300 dataset. 9904.156362771988\n",
            "Adding 19400 dataset. 9997.600734472275\n",
            "Adding 19500 dataset. 10091.035653829575\n",
            "Adding 19600 dataset. 10184.592828989029\n",
            "Adding 19700 dataset. 10278.260711431503\n",
            "Adding 19800 dataset. 10371.710247278214\n",
            "Adding 19900 dataset. 10465.099254369736\n",
            "Adding 20000 dataset. 10558.168682575226\n",
            "Adding 20100 dataset. 10651.665429830551\n",
            "Adding 20200 dataset. 10745.007849216461\n",
            "Adding 20300 dataset. 10838.646139860153\n",
            "Adding 20400 dataset. 10932.306574583054\n",
            "Adding 20500 dataset. 11025.78982758522\n",
            "Adding 20600 dataset. 11119.10816025734\n",
            "Adding 20700 dataset. 11212.49253153801\n",
            "Adding 20800 dataset. 11306.414103984833\n",
            "Adding 20900 dataset. 11400.38509273529\n",
            "Adding 21000 dataset. 11494.759303092957\n",
            "Adding 21100 dataset. 11588.799099445343\n",
            "Adding 21200 dataset. 11682.706825256348\n",
            "Adding 21300 dataset. 11776.1975877285\n",
            "Adding 21400 dataset. 11869.540810585022\n",
            "Adding 21500 dataset. 11962.978739500046\n",
            "Adding 21600 dataset. 12056.563718795776\n",
            "Adding 21700 dataset. 12149.969523906708\n",
            "Adding 21800 dataset. 12243.620194673538\n",
            "Adding 21900 dataset. 12337.246569395065\n",
            "Adding 22000 dataset. 12431.113092184067\n",
            "Adding 22100 dataset. 12524.912895679474\n",
            "Adding 22200 dataset. 12618.711479187012\n",
            "Adding 22300 dataset. 12712.676162958145\n",
            "Adding 22400 dataset. 12806.517405033112\n",
            "Adding 22500 dataset. 12900.524296760559\n",
            "Adding 22600 dataset. 12994.615197181702\n",
            "Adding 22700 dataset. 13088.354072093964\n",
            "Adding 22800 dataset. 13182.013880968094\n",
            "Adding 22900 dataset. 13275.88673734665\n",
            "Adding 23000 dataset. 13369.86550784111\n",
            "Adding 23100 dataset. 13463.602810382843\n",
            "Adding 23200 dataset. 13557.271925210953\n",
            "Adding 23300 dataset. 13650.693735599518\n",
            "Adding 23400 dataset. 13744.294567346573\n",
            "Adding 23500 dataset. 13838.047364234924\n",
            "Adding 23600 dataset. 13932.09200334549\n",
            "Adding 23700 dataset. 14026.007539272308\n",
            "Adding 23800 dataset. 14119.944419622421\n",
            "Adding 23900 dataset. 14213.847648859024\n",
            "Adding 24000 dataset. 14307.4663772583\n",
            "Adding 24100 dataset. 14401.139769792557\n",
            "Adding 24200 dataset. 14495.15313744545\n",
            "Adding 24300 dataset. 14589.14156293869\n",
            "Adding 24400 dataset. 14682.562637329102\n",
            "Adding 24500 dataset. 14776.608278989792\n",
            "Adding 24600 dataset. 14870.873310089111\n",
            "Adding 24700 dataset. 14965.066084623337\n",
            "Adding 24800 dataset. 15059.151824474335\n",
            "Adding 24900 dataset. 15153.389653205872\n",
            "Adding 25000 dataset. 15247.606535196304\n",
            "Adding 25100 dataset. 15341.805670261383\n",
            "Adding 25200 dataset. 15436.192113399506\n",
            "Adding 25300 dataset. 15530.396973133087\n",
            "Adding 25400 dataset. 15624.5627450943\n",
            "Adding 25500 dataset. 15718.898515224457\n",
            "Adding 25600 dataset. 15813.017137289047\n",
            "Adding 25700 dataset. 15906.802983045578\n",
            "Adding 25800 dataset. 16000.567158460617\n",
            "Adding 25900 dataset. 16094.533406734467\n",
            "Adding 26000 dataset. 16188.394583940506\n",
            "Adding 26100 dataset. 16282.230526208878\n",
            "Adding 26200 dataset. 16376.068801164627\n",
            "Adding 26300 dataset. 16469.950246095657\n",
            "Adding 26400 dataset. 16563.47573685646\n",
            "Adding 26500 dataset. 16657.56077837944\n",
            "Adding 26600 dataset. 16751.82362794876\n",
            "Adding 26700 dataset. 16845.92893600464\n",
            "Adding 26800 dataset. 16940.24430680275\n",
            "Adding 26900 dataset. 17034.8757045269\n",
            "Adding 27000 dataset. 17129.401386022568\n",
            "Adding 27100 dataset. 17223.848418474197\n",
            "Adding 27200 dataset. 17318.33682656288\n",
            "Adding 27300 dataset. 17413.265016794205\n",
            "Adding 27400 dataset. 17509.083140850067\n",
            "Adding 27500 dataset. 17605.526843070984\n",
            "Adding 27600 dataset. 17700.860910892487\n",
            "Adding 27700 dataset. 17796.151138305664\n",
            "Adding 27800 dataset. 17892.051310539246\n",
            "Adding 27900 dataset. 17987.131984949112\n",
            "Adding 28000 dataset. 18082.525507211685\n",
            "Adding 28100 dataset. 18180.464962244034\n",
            "Adding 28200 dataset. 18276.79175710678\n",
            "Adding 28300 dataset. 18373.740072488785\n",
            "Adding 28400 dataset. 18470.226595640182\n",
            "Adding 28500 dataset. 18567.2316031456\n",
            "Adding 28600 dataset. 18662.658666849136\n",
            "Adding 28700 dataset. 18759.49719262123\n",
            "Adding 28800 dataset. 18855.627060174942\n",
            "Adding 28900 dataset. 18951.112709522247\n",
            "Adding 29000 dataset. 19046.062691688538\n"
          ],
          "name": "stdout"
        }
      ]
    },
    {
      "cell_type": "code",
      "metadata": {
        "id": "y9evr1RPoEJP",
        "colab_type": "code",
        "outputId": "4fdb120b-c775-4fd2-fd5b-1660ddf9d44c",
        "colab": {
          "base_uri": "https://localhost:8080/",
          "height": 326
        }
      },
      "source": [
        "import numpy as np\n",
        "from keras.models import load_model\n",
        "model = load_model(\"/content/model (1).h5\")\n",
        "test_dataset = np.array(test_dataset)\n",
        "results_test = model.predict(test_dataset)\n",
        "converted_result_test = []\n",
        "for item in results_test:\n",
        "  if item[0] > item[1]:\n",
        "    converted_result_test.append(0)\n",
        "  else:\n",
        "    converted_result_test.append(1)\n",
        "converted_result_test = np.array(converted_result_test)"
      ],
      "execution_count": 0,
      "outputs": [
        {
          "output_type": "stream",
          "text": [
            "Using TensorFlow backend.\n",
            "WARNING: Logging before flag parsing goes to stderr.\n",
            "W0625 12:41:28.955216 139736856160128 deprecation_wrapper.py:119] From /usr/local/lib/python3.6/dist-packages/keras/backend/tensorflow_backend.py:74: The name tf.get_default_graph is deprecated. Please use tf.compat.v1.get_default_graph instead.\n",
            "\n",
            "W0625 12:41:28.989119 139736856160128 deprecation_wrapper.py:119] From /usr/local/lib/python3.6/dist-packages/keras/backend/tensorflow_backend.py:517: The name tf.placeholder is deprecated. Please use tf.compat.v1.placeholder instead.\n",
            "\n",
            "W0625 12:41:29.001734 139736856160128 deprecation_wrapper.py:119] From /usr/local/lib/python3.6/dist-packages/keras/backend/tensorflow_backend.py:4138: The name tf.random_uniform is deprecated. Please use tf.random.uniform instead.\n",
            "\n",
            "W0625 12:41:29.364042 139736856160128 deprecation_wrapper.py:119] From /usr/local/lib/python3.6/dist-packages/keras/backend/tensorflow_backend.py:174: The name tf.get_default_session is deprecated. Please use tf.compat.v1.get_default_session instead.\n",
            "\n",
            "W0625 12:41:29.365653 139736856160128 deprecation_wrapper.py:119] From /usr/local/lib/python3.6/dist-packages/keras/backend/tensorflow_backend.py:181: The name tf.ConfigProto is deprecated. Please use tf.compat.v1.ConfigProto instead.\n",
            "\n",
            "W0625 12:41:32.469813 139736856160128 deprecation_wrapper.py:119] From /usr/local/lib/python3.6/dist-packages/keras/optimizers.py:790: The name tf.train.Optimizer is deprecated. Please use tf.compat.v1.train.Optimizer instead.\n",
            "\n",
            "W0625 12:41:32.630401 139736856160128 deprecation.py:323] From /usr/local/lib/python3.6/dist-packages/tensorflow/python/ops/math_grad.py:1250: add_dispatch_support.<locals>.wrapper (from tensorflow.python.ops.array_ops) is deprecated and will be removed in a future version.\n",
            "Instructions for updating:\n",
            "Use tf.where in 2.0, which has the same broadcast rule as np.where\n"
          ],
          "name": "stderr"
        }
      ]
    },
    {
      "cell_type": "code",
      "metadata": {
        "id": "gpYYVq1mqLMz",
        "colab_type": "code",
        "colab": {}
      },
      "source": [
        "signal_id = list(metadata_test[\"signal_id\"])\n",
        "result_2_submit = pd.DataFrame({'signal_id': signal_id, 'target': converted_result_test})\n",
        "result_2_submit.to_csv(\"file_2_submit.csv\", index=False)\n",
        "result_2_submit.to_csv(\"file_2_submit.csv\",index=False)\n",
        "!kaggle competitions submit -c vsb-power-line-fault-detection -f file_2_submit.csv -m \"1st attempt\""
      ],
      "execution_count": 0,
      "outputs": []
    },
    {
      "cell_type": "markdown",
      "metadata": {
        "id": "rqMAKMhes01z",
        "colab_type": "text"
      },
      "source": [
        "Score in Kaggle: 0.42599"
      ]
    },
    {
      "cell_type": "code",
      "metadata": {
        "id": "aSMWA4VUrb-Y",
        "colab_type": "code",
        "colab": {}
      },
      "source": [
        "np.save(\"test_set.npy\", test_dataset)"
      ],
      "execution_count": 0,
      "outputs": []
    },
    {
      "cell_type": "markdown",
      "metadata": {
        "id": "r2Qiq2e47YJS",
        "colab_type": "text"
      },
      "source": [
        "# Architecture 2: Trying with 3 dense layers\n",
        "In order to see if the LSTM plays an actual role in the architecture, let's try with dense layer instead of a LSTM. The reason is that maybe there is no temporal relation in the anomaly event."
      ]
    },
    {
      "cell_type": "code",
      "metadata": {
        "id": "OuDN9l80QsLh",
        "colab_type": "code",
        "colab": {}
      },
      "source": [
        "from sklearn.model_selection import train_test_split\n",
        "X_train, X_val, y_train, y_val = train_test_split(input_dataset, \n",
        "                                                  np.array(metadata[\"target\"]), \n",
        "                                                  test_size=0.20, \n",
        "                                                  random_state=42)"
      ],
      "execution_count": 0,
      "outputs": []
    },
    {
      "cell_type": "code",
      "metadata": {
        "id": "PeocGrV58sex",
        "colab_type": "code",
        "outputId": "1216b7c8-951c-4c9f-93a8-9a18eff6119d",
        "colab": {
          "base_uri": "https://localhost:8080/",
          "height": 340
        }
      },
      "source": [
        "# 2nd Architecture\n",
        "from sklearn.metrics import matthews_corrcoef\n",
        "from keras.models import Sequential\n",
        "from keras.layers import Dense, Activation, Flatten\n",
        "from keras.layers import LSTM\n",
        "\n",
        "\n",
        "model_2 = Sequential()\n",
        "model_2.add(Dense(256, activation='relu', input_shape=(1000,6)))\n",
        "model_2.add(Dense(128, activation='relu'))\n",
        "model_2.add(Dense(64, activation='relu'))\n",
        "model_2.add(Dense(32, activation='relu'))\n",
        "model_2.add(Flatten())\n",
        "model_2.add(Dense(2, activation='softmax'))\n",
        "model_2.compile(loss='categorical_crossentropy', optimizer='adam', metrics=['accuracy'])\n",
        "\n",
        "model_2.summary()"
      ],
      "execution_count": 0,
      "outputs": [
        {
          "output_type": "stream",
          "text": [
            "_________________________________________________________________\n",
            "Layer (type)                 Output Shape              Param #   \n",
            "=================================================================\n",
            "dense_30 (Dense)             (None, 1000, 256)         1792      \n",
            "_________________________________________________________________\n",
            "dense_31 (Dense)             (None, 1000, 128)         32896     \n",
            "_________________________________________________________________\n",
            "dense_32 (Dense)             (None, 1000, 64)          8256      \n",
            "_________________________________________________________________\n",
            "dense_33 (Dense)             (None, 1000, 32)          2080      \n",
            "_________________________________________________________________\n",
            "flatten_3 (Flatten)          (None, 32000)             0         \n",
            "_________________________________________________________________\n",
            "dense_34 (Dense)             (None, 2)                 64002     \n",
            "=================================================================\n",
            "Total params: 109,026\n",
            "Trainable params: 109,026\n",
            "Non-trainable params: 0\n",
            "_________________________________________________________________\n"
          ],
          "name": "stdout"
        }
      ]
    },
    {
      "cell_type": "code",
      "metadata": {
        "id": "mRqtCxB8Q3GI",
        "colab_type": "code",
        "outputId": "1af1cc74-94c2-4c69-9e13-c3432b52de36",
        "colab": {
          "base_uri": "https://localhost:8080/",
          "height": 581
        }
      },
      "source": [
        "from keras.utils import to_categorical\n",
        "from keras.callbacks import EarlyStopping, ReduceLROnPlateau\n",
        "import numpy as np\n",
        "\n",
        "y_binary = np.array(y_train).reshape(-1, 1)\n",
        "y_binary = to_categorical(y_binary)\n",
        "verbose, epochs, batch_size = 0, 15, 128\n",
        "\n",
        "model_2.fit(X_train, y_binary, validation_split=0.1, epochs=epochs, batch_size=batch_size, verbose=1)"
      ],
      "execution_count": 0,
      "outputs": [
        {
          "output_type": "stream",
          "text": [
            "Train on 6272 samples, validate on 697 samples\n",
            "Epoch 1/15\n",
            "6272/6272 [==============================] - 4s 597us/step - loss: 0.9962 - acc: 0.9290 - val_loss: 0.7862 - val_acc: 0.9512\n",
            "Epoch 2/15\n",
            "6272/6272 [==============================] - 3s 435us/step - loss: 0.9997 - acc: 0.9380 - val_loss: 0.7862 - val_acc: 0.9512\n",
            "Epoch 3/15\n",
            "6272/6272 [==============================] - 3s 438us/step - loss: 0.9997 - acc: 0.9380 - val_loss: 0.7862 - val_acc: 0.9512\n",
            "Epoch 4/15\n",
            "6272/6272 [==============================] - 3s 440us/step - loss: 0.9997 - acc: 0.9380 - val_loss: 0.7862 - val_acc: 0.9512\n",
            "Epoch 5/15\n",
            "6272/6272 [==============================] - 3s 437us/step - loss: 0.9997 - acc: 0.9380 - val_loss: 0.7862 - val_acc: 0.9512\n",
            "Epoch 6/15\n",
            "6272/6272 [==============================] - 3s 439us/step - loss: 0.9997 - acc: 0.9380 - val_loss: 0.7862 - val_acc: 0.9512\n",
            "Epoch 7/15\n",
            "6272/6272 [==============================] - 3s 439us/step - loss: 0.9997 - acc: 0.9380 - val_loss: 0.7862 - val_acc: 0.9512\n",
            "Epoch 8/15\n",
            "6272/6272 [==============================] - 3s 440us/step - loss: 0.9997 - acc: 0.9380 - val_loss: 0.7862 - val_acc: 0.9512\n",
            "Epoch 9/15\n",
            "6272/6272 [==============================] - 3s 434us/step - loss: 0.9997 - acc: 0.9380 - val_loss: 0.7862 - val_acc: 0.9512\n",
            "Epoch 10/15\n",
            "6272/6272 [==============================] - 3s 441us/step - loss: 0.9997 - acc: 0.9380 - val_loss: 0.7862 - val_acc: 0.9512\n",
            "Epoch 11/15\n",
            "6272/6272 [==============================] - 3s 440us/step - loss: 0.9997 - acc: 0.9380 - val_loss: 0.7862 - val_acc: 0.9512\n",
            "Epoch 12/15\n",
            "6272/6272 [==============================] - 3s 438us/step - loss: 0.9997 - acc: 0.9380 - val_loss: 0.7862 - val_acc: 0.9512\n",
            "Epoch 13/15\n",
            "6272/6272 [==============================] - 3s 437us/step - loss: 0.9997 - acc: 0.9380 - val_loss: 0.7862 - val_acc: 0.9512\n",
            "Epoch 14/15\n",
            "6272/6272 [==============================] - 3s 440us/step - loss: 0.9997 - acc: 0.9380 - val_loss: 0.7862 - val_acc: 0.9512\n",
            "Epoch 15/15\n",
            "6272/6272 [==============================] - 3s 442us/step - loss: 0.9997 - acc: 0.9380 - val_loss: 0.7862 - val_acc: 0.9512\n"
          ],
          "name": "stdout"
        },
        {
          "output_type": "execute_result",
          "data": {
            "text/plain": [
              "<keras.callbacks.History at 0x7f166312def0>"
            ]
          },
          "metadata": {
            "tags": []
          },
          "execution_count": 32
        }
      ]
    },
    {
      "cell_type": "code",
      "metadata": {
        "id": "uXp4MiobTqKp",
        "colab_type": "code",
        "outputId": "771dd6e0-7911-43f8-9e9e-408405bcd634",
        "colab": {
          "base_uri": "https://localhost:8080/",
          "height": 88
        }
      },
      "source": [
        "results_train = model_2.predict(X_val)\n",
        "converted_result_train = []\n",
        "for item in results_train:\n",
        "  if item[0] > item[1]:\n",
        "    converted_result_train.append(0)\n",
        "  else:\n",
        "    converted_result_train.append(1)\n",
        "converted_result_train = np.array(converted_result_train)\n",
        "matthews_corrcoef(y_val, converted_result_train)"
      ],
      "execution_count": 0,
      "outputs": [
        {
          "output_type": "stream",
          "text": [
            "/usr/local/lib/python3.6/dist-packages/sklearn/metrics/classification.py:872: RuntimeWarning: invalid value encountered in double_scalars\n",
            "  mcc = cov_ytyp / np.sqrt(cov_ytyt * cov_ypyp)\n"
          ],
          "name": "stderr"
        },
        {
          "output_type": "execute_result",
          "data": {
            "text/plain": [
              "0.0"
            ]
          },
          "metadata": {
            "tags": []
          },
          "execution_count": 33
        }
      ]
    },
    {
      "cell_type": "markdown",
      "metadata": {
        "id": "JqWNLKDGUNgq",
        "colab_type": "text"
      },
      "source": [
        "# Architecture 3: Stacking a further LSTM\n",
        "Architecture 2 shows that stacking dense layers only is not a good idea. Then let's try to include a further LSTM layer in the architecture."
      ]
    },
    {
      "cell_type": "code",
      "metadata": {
        "id": "BN5yMLhdUhxD",
        "colab_type": "code",
        "outputId": "58cda0a4-2781-4fa3-887e-54a7f00dbbef",
        "colab": {
          "base_uri": "https://localhost:8080/",
          "height": 272
        }
      },
      "source": [
        "from sklearn.metrics import matthews_corrcoef\n",
        "from keras.models import Sequential\n",
        "from keras.layers import Dense, Activation\n",
        "from keras.layers import Dense, Dropout\n",
        "from keras.layers import LSTM\n",
        "\n",
        "\n",
        "model_3 = Sequential()\n",
        "model_3.add(LSTM(256, input_shape=(1000,6),  return_sequences=True))\n",
        "model_3.add(LSTM(128))\n",
        "model_3.add(Dense(100, activation='relu'))\n",
        "model_3.add(Dense(2, activation='softmax'))\n",
        "model_3.compile(loss='categorical_crossentropy', optimizer='adam', metrics=['accuracy'])\n",
        "\n",
        "model_3.summary()"
      ],
      "execution_count": 0,
      "outputs": [
        {
          "output_type": "stream",
          "text": [
            "_________________________________________________________________\n",
            "Layer (type)                 Output Shape              Param #   \n",
            "=================================================================\n",
            "lstm_1 (LSTM)                (None, 1000, 256)         269312    \n",
            "_________________________________________________________________\n",
            "lstm_2 (LSTM)                (None, 128)               197120    \n",
            "_________________________________________________________________\n",
            "dense_35 (Dense)             (None, 100)               12900     \n",
            "_________________________________________________________________\n",
            "dense_36 (Dense)             (None, 2)                 202       \n",
            "=================================================================\n",
            "Total params: 479,534\n",
            "Trainable params: 479,534\n",
            "Non-trainable params: 0\n",
            "_________________________________________________________________\n"
          ],
          "name": "stdout"
        }
      ]
    },
    {
      "cell_type": "code",
      "metadata": {
        "id": "boIYo40YVmMt",
        "colab_type": "code",
        "outputId": "cc6b8709-177f-4a7d-c960-dc9fdc2c13a1",
        "colab": {
          "base_uri": "https://localhost:8080/",
          "height": 581
        }
      },
      "source": [
        "y_binary = np.array(y_train).reshape(-1, 1)\n",
        "y_binary = to_categorical(y_binary)\n",
        "verbose, epochs, batch_size = 0, 15, 128\n",
        "\n",
        "model_3.fit(X_train, y_binary, validation_split=0.1, epochs=epochs, batch_size=batch_size, verbose=1)"
      ],
      "execution_count": 0,
      "outputs": [
        {
          "output_type": "stream",
          "text": [
            "Train on 6272 samples, validate on 697 samples\n",
            "Epoch 1/15\n",
            "6272/6272 [==============================] - 206s 33ms/step - loss: 0.2431 - acc: 0.9335 - val_loss: 0.1753 - val_acc: 0.9527\n",
            "Epoch 2/15\n",
            "6272/6272 [==============================] - 201s 32ms/step - loss: 0.2146 - acc: 0.9375 - val_loss: 0.1797 - val_acc: 0.9498\n",
            "Epoch 3/15\n",
            "6272/6272 [==============================] - 203s 32ms/step - loss: 0.2024 - acc: 0.9405 - val_loss: 0.1473 - val_acc: 0.9598\n",
            "Epoch 4/15\n",
            "6272/6272 [==============================] - 202s 32ms/step - loss: 0.1971 - acc: 0.9399 - val_loss: 0.1517 - val_acc: 0.9527\n",
            "Epoch 5/15\n",
            "6272/6272 [==============================] - 201s 32ms/step - loss: 0.2052 - acc: 0.9362 - val_loss: 0.1642 - val_acc: 0.9570\n",
            "Epoch 6/15\n",
            "6272/6272 [==============================] - 203s 32ms/step - loss: 0.1885 - acc: 0.9437 - val_loss: 0.1573 - val_acc: 0.9512\n",
            "Epoch 7/15\n",
            "6272/6272 [==============================] - 201s 32ms/step - loss: 0.1788 - acc: 0.9431 - val_loss: 0.1436 - val_acc: 0.9484\n",
            "Epoch 8/15\n",
            "6272/6272 [==============================] - 203s 32ms/step - loss: 0.1890 - acc: 0.9378 - val_loss: 0.1436 - val_acc: 0.9527\n",
            "Epoch 9/15\n",
            "6272/6272 [==============================] - 200s 32ms/step - loss: 0.1757 - acc: 0.9402 - val_loss: 0.1515 - val_acc: 0.9527\n",
            "Epoch 10/15\n",
            "6272/6272 [==============================] - 201s 32ms/step - loss: 0.1622 - acc: 0.9452 - val_loss: 0.1249 - val_acc: 0.9555\n",
            "Epoch 11/15\n",
            "6272/6272 [==============================] - 201s 32ms/step - loss: 0.1453 - acc: 0.9512 - val_loss: 0.1579 - val_acc: 0.9340\n",
            "Epoch 12/15\n",
            "6272/6272 [==============================] - 202s 32ms/step - loss: 0.1554 - acc: 0.9477 - val_loss: 0.1348 - val_acc: 0.9613\n",
            "Epoch 13/15\n",
            "6272/6272 [==============================] - 201s 32ms/step - loss: 0.1774 - acc: 0.9440 - val_loss: 0.1688 - val_acc: 0.9555\n",
            "Epoch 14/15\n",
            "6272/6272 [==============================] - 201s 32ms/step - loss: 0.1915 - acc: 0.9418 - val_loss: 0.1525 - val_acc: 0.9541\n",
            "Epoch 15/15\n",
            "6272/6272 [==============================] - 200s 32ms/step - loss: 0.1793 - acc: 0.9396 - val_loss: 0.1390 - val_acc: 0.9541\n"
          ],
          "name": "stdout"
        },
        {
          "output_type": "execute_result",
          "data": {
            "text/plain": [
              "<keras.callbacks.History at 0x7f1662a46898>"
            ]
          },
          "metadata": {
            "tags": []
          },
          "execution_count": 35
        }
      ]
    },
    {
      "cell_type": "code",
      "metadata": {
        "id": "wouFQYvvhunj",
        "colab_type": "code",
        "outputId": "88f700fd-d33c-4b97-aa60-34a93e67715f",
        "colab": {
          "base_uri": "https://localhost:8080/",
          "height": 34
        }
      },
      "source": [
        "results_train = model_3.predict(X_val)\n",
        "converted_result_train = []\n",
        "for item in results_train:\n",
        "  if item[0] > item[1]:\n",
        "    converted_result_train.append(0)\n",
        "  else:\n",
        "    converted_result_train.append(1)\n",
        "converted_result_train = np.array(converted_result_train)\n",
        "matthews_corrcoef(y_val, converted_result_train)"
      ],
      "execution_count": 0,
      "outputs": [
        {
          "output_type": "execute_result",
          "data": {
            "text/plain": [
              "0.3165118797454442"
            ]
          },
          "metadata": {
            "tags": []
          },
          "execution_count": 36
        }
      ]
    },
    {
      "cell_type": "markdown",
      "metadata": {
        "id": "KMR7lhG7j-QR",
        "colab_type": "text"
      },
      "source": [
        "# Architecture 4: Same architecture as 1 but normalized data\n",
        "Initial data was not normalized, let's normalize it and try the initial network."
      ]
    },
    {
      "cell_type": "code",
      "metadata": {
        "id": "8y9nDTfgkQOm",
        "colab_type": "code",
        "outputId": "f3c96fa3-b851-4a33-f381-04639ebf2572",
        "colab": {
          "base_uri": "https://localhost:8080/",
          "height": 292
        }
      },
      "source": [
        "y_binary = np.array(y_train).reshape(-1, 1)\n",
        "y_binary = to_categorical(y_binary)\n",
        "verbose, epochs, batch_size = 0, 15, 64\n",
        "\n",
        "model.fit(np.divide(X_train, 20), y_binary, validation_split=0.1, epochs=epochs, batch_size=batch_size, verbose=1)"
      ],
      "execution_count": 0,
      "outputs": [
        {
          "output_type": "stream",
          "text": [
            "Train on 6272 samples, validate on 697 samples\n",
            "Epoch 1/15\n",
            "6272/6272 [==============================] - 201s 32ms/step - loss: 0.2271 - acc: 0.9380 - val_loss: 0.1848 - val_acc: 0.9512\n",
            "Epoch 2/15\n",
            "6272/6272 [==============================] - 202s 32ms/step - loss: 0.2178 - acc: 0.9373 - val_loss: 0.1669 - val_acc: 0.9512\n",
            "Epoch 3/15\n",
            "6272/6272 [==============================] - 202s 32ms/step - loss: 0.2146 - acc: 0.9365 - val_loss: 0.1571 - val_acc: 0.9512\n",
            "Epoch 4/15\n",
            "6272/6272 [==============================] - 201s 32ms/step - loss: 0.2153 - acc: 0.9372 - val_loss: 0.1686 - val_acc: 0.9541\n",
            "Epoch 5/15\n",
            "6272/6272 [==============================] - 200s 32ms/step - loss: 0.2088 - acc: 0.9362 - val_loss: 0.1692 - val_acc: 0.9512\n",
            "Epoch 6/15\n",
            "6272/6272 [==============================] - 200s 32ms/step - loss: 0.2128 - acc: 0.9377 - val_loss: 0.1570 - val_acc: 0.9512\n",
            "Epoch 7/15\n",
            "5440/6272 [=========================>....] - ETA: 26s - loss: 0.2026 - acc: 0.9404"
          ],
          "name": "stdout"
        }
      ]
    },
    {
      "cell_type": "code",
      "metadata": {
        "id": "SUxl6sp03va_",
        "colab_type": "code",
        "outputId": "b5622a6a-8225-4cb2-c201-b788ab2635e1",
        "colab": {
          "base_uri": "https://localhost:8080/",
          "height": 88
        }
      },
      "source": [
        "results_train = model.predict(np.divide(X_val,20))\n",
        "converted_result_train = []\n",
        "for item in results_train:\n",
        "  if item[0] > item[1]:\n",
        "    converted_result_train.append(0)\n",
        "  else:\n",
        "    converted_result_train.append(1)\n",
        "converted_result_train = np.array(converted_result_train)\n",
        "matthews_corrcoef(y_val, converted_result_train)"
      ],
      "execution_count": 0,
      "outputs": [
        {
          "output_type": "stream",
          "text": [
            "/usr/local/lib/python3.6/dist-packages/sklearn/metrics/classification.py:872: RuntimeWarning: invalid value encountered in double_scalars\n",
            "  mcc = cov_ytyp / np.sqrt(cov_ytyt * cov_ypyp)\n"
          ],
          "name": "stderr"
        },
        {
          "output_type": "execute_result",
          "data": {
            "text/plain": [
              "0.0"
            ]
          },
          "metadata": {
            "tags": []
          },
          "execution_count": 40
        }
      ]
    },
    {
      "cell_type": "code",
      "metadata": {
        "id": "C1UBYcdQ4-CO",
        "colab_type": "code",
        "outputId": "af3f15ba-1e19-4e3c-cdb8-adb8f3c618df",
        "colab": {
          "base_uri": "https://localhost:8080/",
          "height": 34
        }
      },
      "source": [
        "sum(y_val)"
      ],
      "execution_count": 0,
      "outputs": [
        {
          "output_type": "execute_result",
          "data": {
            "text/plain": [
              "102"
            ]
          },
          "metadata": {
            "tags": []
          },
          "execution_count": 42
        }
      ]
    }
  ]
}