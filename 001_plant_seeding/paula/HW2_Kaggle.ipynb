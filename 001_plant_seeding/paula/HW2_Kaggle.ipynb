{
 "cells": [
  {
   "cell_type": "code",
   "execution_count": 4,
   "metadata": {
    "colab": {},
    "colab_type": "code",
    "id": "D58k35Ez6qI0"
   },
   "outputs": [],
   "source": [
    "import zipfile\n",
    "import sys\n",
    "import os\n",
    "import shutil\n",
    "import random"
   ]
  },
  {
   "cell_type": "markdown",
   "metadata": {},
   "source": [
    "# Data prep"
   ]
  },
  {
   "cell_type": "markdown",
   "metadata": {},
   "source": [
    "### Extract & download Data"
   ]
  },
  {
   "cell_type": "code",
   "execution_count": 17,
   "metadata": {
    "colab": {},
    "colab_type": "code",
    "id": "D58k35Ez6qI0"
   },
   "outputs": [],
   "source": [
    "train_dir = zipfile.ZipFile('data/train.zip', 'r')\n",
    "test_dir = zipfile.ZipFile('data/test.zip', 'r')\n",
    "\n",
    "zipf = zipfile.ZipFile('data/train.zip')\n",
    "zipf.extractall('./data')"
   ]
  },
  {
   "cell_type": "code",
   "execution_count": 18,
   "metadata": {
    "colab": {},
    "colab_type": "code",
    "id": "0PrGb52fzHFX"
   },
   "outputs": [],
   "source": [
    "zipf = zipfile.ZipFile('./data/test.zip')\n",
    "zipf.extractall('./data')"
   ]
  },
  {
   "cell_type": "markdown",
   "metadata": {},
   "source": [
    "### Copy/split Data"
   ]
  },
  {
   "cell_type": "code",
   "execution_count": 19,
   "metadata": {
    "colab": {},
    "colab_type": "code",
    "id": "MKNlaK4U3xcA"
   },
   "outputs": [],
   "source": [
    "def get_file_list(input_dir):\n",
    "    return [file for file in os.listdir(input_dir) if os.path.isfile(os.path.join(input_dir, file))]\n",
    "\n",
    "def get_random_files(file_list, N):\n",
    "    return random.sample(file_list, N)\n",
    "\n",
    "def copy_files(random_files, input_dir, output_dir):\n",
    "    for file in random_files:\n",
    "        shutil.copy(os.path.join(input_dir, file), output_dir)\n",
    "\n",
    "def main(input_dir, output_dir, N):\n",
    "    file_list = get_file_list(input_dir)\n",
    "    random_files = get_random_files(file_list, N)\n",
    "    copy_files(random_files, input_dir, output_dir)"
   ]
  },
  {
   "cell_type": "code",
   "execution_count": 20,
   "metadata": {
    "colab": {},
    "colab_type": "code",
    "id": "tLsVXB90xBo8"
   },
   "outputs": [
    {
     "data": {
      "text/plain": [
       "'train/Sugar beet/7b4682569.png'"
      ]
     },
     "execution_count": 20,
     "metadata": {},
     "output_type": "execute_result"
    }
   ],
   "source": [
    "archive = zipfile.ZipFile('data/train.zip')\n",
    "\n",
    "filelist = [archive.filelist[i].filename for i in range(len(archive.filelist)) if archive.filelist[i].filename.endswith('.png') ] \n",
    "\n",
    "random_files = get_random_files(filelist, int(len(filelist)*.2))\n",
    "random_files[10]"
   ]
  },
  {
   "cell_type": "code",
   "execution_count": 21,
   "metadata": {
    "colab": {},
    "colab_type": "code",
    "id": "Emp709Nk6awF"
   },
   "outputs": [],
   "source": [
    "from shutil import copyfile\n",
    "\n",
    "def copy_files_to_subdir(random_files):\n",
    "  if not os.path.isdir('data/validation'):\n",
    "    os.mkdir('data/validation')\n",
    "  for file in random_files:\n",
    "    classes = file.split('/')[1]\n",
    "    filename = file.split('/')[-1]\n",
    "    if os.path.isdir('data/validation/'+classes):\n",
    "      copyfile('data/'+ file, 'data/validation/'+classes+'/'+filename)\n",
    "    else:\n",
    "      os.mkdir('data/validation/'+classes)\n",
    "      copyfile('data/' + file, 'data/validation/'+classes+'/'+filename)"
   ]
  },
  {
   "cell_type": "code",
   "execution_count": 22,
   "metadata": {
    "colab": {},
    "colab_type": "code",
    "id": "lOgiijsI6tW9"
   },
   "outputs": [],
   "source": [
    "copy_files_to_subdir(random_files)"
   ]
  },
  {
   "cell_type": "markdown",
   "metadata": {},
   "source": [
    "# ----- START FROM HERE -------"
   ]
  },
  {
   "cell_type": "markdown",
   "metadata": {},
   "source": [
    "# Red CNN"
   ]
  },
  {
   "cell_type": "code",
   "execution_count": 1,
   "metadata": {
    "colab": {},
    "colab_type": "code",
    "id": "jfqjOvnN9uzd"
   },
   "outputs": [
    {
     "name": "stderr",
     "output_type": "stream",
     "text": [
      "Using TensorFlow backend.\n"
     ]
    }
   ],
   "source": [
    "import keras\n",
    "from keras.preprocessing.image import ImageDataGenerator\n",
    "import matplotlib.pyplot as plt"
   ]
  },
  {
   "cell_type": "code",
   "execution_count": 2,
   "metadata": {
    "colab": {
     "base_uri": "https://localhost:8080/",
     "height": 35
    },
    "colab_type": "code",
    "id": "-abMaQt-9wk5",
    "outputId": "e56eba0d-24bd-432c-c469-bdcafa8d0f16"
   },
   "outputs": [
    {
     "name": "stdout",
     "output_type": "stream",
     "text": [
      "Found 4750 images belonging to 12 classes.\n"
     ]
    }
   ],
   "source": [
    "train_datagen = ImageDataGenerator(\n",
    "        shear_range=0.2,\n",
    "        zoom_range=0.2,\n",
    "        rotation_range=40,\n",
    "        horizontal_flip=True)\n",
    "\n",
    "train_generator = train_datagen.flow_from_directory(\n",
    "    directory=r\"data/train\",\n",
    "    target_size=(32, 32),\n",
    "    color_mode=\"rgb\",\n",
    "    batch_size=32,\n",
    "    class_mode=\"categorical\",\n",
    "    shuffle=True,\n",
    "    seed=32\n",
    ")"
   ]
  },
  {
   "cell_type": "code",
   "execution_count": 3,
   "metadata": {
    "colab": {
     "base_uri": "https://localhost:8080/",
     "height": 35
    },
    "colab_type": "code",
    "id": "p37vc-4I9wqx",
    "outputId": "51796532-446b-4fd0-a762-abd0fb31d29b"
   },
   "outputs": [
    {
     "name": "stdout",
     "output_type": "stream",
     "text": [
      "Found 1329 images belonging to 12 classes.\n"
     ]
    }
   ],
   "source": [
    "valid_datagen = ImageDataGenerator(\n",
    "        shear_range=0.2,\n",
    "        zoom_range=0.2,\n",
    "        rotation_range=40,\n",
    "        horizontal_flip=True)\n",
    "\n",
    "valid_generator = valid_datagen.flow_from_directory(\n",
    "    directory=r\"data/validation/\",\n",
    "    target_size=(32, 32),\n",
    "    color_mode=\"rgb\",\n",
    "    batch_size=32,\n",
    "    class_mode=\"categorical\",\n",
    "    shuffle=True,\n",
    "    seed=32\n",
    ")"
   ]
  },
  {
   "cell_type": "code",
   "execution_count": 4,
   "metadata": {
    "colab": {},
    "colab_type": "code",
    "id": "jacGQhEf_vbK"
   },
   "outputs": [],
   "source": [
    "from keras.preprocessing.image import ImageDataGenerator\n",
    "from keras.models import Sequential\n",
    "from keras.layers import Activation, Dropout, Flatten, Dense, Conv2D, MaxPool2D\n",
    "from keras import backend as K\n",
    "from keras.optimizers import RMSprop"
   ]
  },
  {
   "cell_type": "code",
   "execution_count": 5,
   "metadata": {
    "colab": {
     "base_uri": "https://localhost:8080/",
     "height": 229
    },
    "colab_type": "code",
    "id": "CsxVK4oTAdUA",
    "outputId": "cc3f15d2-3bc6-46a5-df41-d7183d09f37a"
   },
   "outputs": [
    {
     "name": "stdout",
     "output_type": "stream",
     "text": [
      "WARNING:tensorflow:From C:\\Users\\paula.romero.lopes\\AppData\\Local\\Continuum\\anaconda3\\envs\\deeplearning\\lib\\site-packages\\tensorflow\\python\\framework\\op_def_library.py:263: colocate_with (from tensorflow.python.framework.ops) is deprecated and will be removed in a future version.\n",
      "Instructions for updating:\n",
      "Colocations handled automatically by placer.\n"
     ]
    }
   ],
   "source": [
    "bs = 32\n",
    "model = Sequential()\n",
    "model.add(Conv2D(32, kernel_size=(3,3), padding='same', activation='relu', input_shape=(32,32,3)))\n",
    "model.add(MaxPool2D())\n",
    "model.add(Conv2D(64, kernel_size=(5,5), padding='same', activation='relu'))\n",
    "model.add(MaxPool2D())\n",
    "model.add(Conv2D(128, kernel_size=(7,7), padding='same', activation='relu'))\n",
    "model.add(MaxPool2D())\n",
    "model.add(Flatten())\n",
    "model.add(Dense(64, activation='relu'))\n",
    "model.add(Dense(128, activation='relu'))\n",
    "model.add(Dense(12, activation='softmax'))"
   ]
  },
  {
   "cell_type": "code",
   "execution_count": 6,
   "metadata": {
    "colab": {},
    "colab_type": "code",
    "id": "H44-sb_gAdeK"
   },
   "outputs": [],
   "source": [
    "#compile model using accuracy to measure model performance\n",
    "model.compile(optimizer=keras.optimizers.Adam(lr=0.001), loss='categorical_crossentropy', metrics=['accuracy'])"
   ]
  },
  {
   "cell_type": "code",
   "execution_count": 7,
   "metadata": {},
   "outputs": [
    {
     "name": "stdout",
     "output_type": "stream",
     "text": [
      "_________________________________________________________________\n",
      "Layer (type)                 Output Shape              Param #   \n",
      "=================================================================\n",
      "conv2d_1 (Conv2D)            (None, 32, 32, 32)        896       \n",
      "_________________________________________________________________\n",
      "max_pooling2d_1 (MaxPooling2 (None, 16, 16, 32)        0         \n",
      "_________________________________________________________________\n",
      "conv2d_2 (Conv2D)            (None, 16, 16, 64)        51264     \n",
      "_________________________________________________________________\n",
      "max_pooling2d_2 (MaxPooling2 (None, 8, 8, 64)          0         \n",
      "_________________________________________________________________\n",
      "conv2d_3 (Conv2D)            (None, 8, 8, 128)         401536    \n",
      "_________________________________________________________________\n",
      "max_pooling2d_3 (MaxPooling2 (None, 4, 4, 128)         0         \n",
      "_________________________________________________________________\n",
      "flatten_1 (Flatten)          (None, 2048)              0         \n",
      "_________________________________________________________________\n",
      "dense_1 (Dense)              (None, 64)                131136    \n",
      "_________________________________________________________________\n",
      "dense_2 (Dense)              (None, 128)               8320      \n",
      "_________________________________________________________________\n",
      "dense_3 (Dense)              (None, 12)                1548      \n",
      "=================================================================\n",
      "Total params: 594,700\n",
      "Trainable params: 594,700\n",
      "Non-trainable params: 0\n",
      "_________________________________________________________________\n"
     ]
    }
   ],
   "source": [
    "model.summary()"
   ]
  },
  {
   "cell_type": "code",
   "execution_count": 8,
   "metadata": {},
   "outputs": [
    {
     "name": "stdout",
     "output_type": "stream",
     "text": [
      "WARNING:tensorflow:From C:\\Users\\paula.romero.lopes\\AppData\\Local\\Continuum\\anaconda3\\envs\\deeplearning\\lib\\site-packages\\tensorflow\\python\\ops\\math_ops.py:3066: to_int32 (from tensorflow.python.ops.math_ops) is deprecated and will be removed in a future version.\n",
      "Instructions for updating:\n",
      "Use tf.cast instead.\n",
      "Epoch 1/40\n",
      "200/200 [==============================] - 92s 461ms/step - loss: 2.2203 - acc: 0.2857 - val_loss: 1.5714 - val_acc: 0.4221\n",
      "Epoch 2/40\n",
      "200/200 [==============================] - 77s 385ms/step - loss: 1.3755 - acc: 0.5052 - val_loss: 1.1248 - val_acc: 0.6164\n",
      "Epoch 3/40\n",
      "200/200 [==============================] - 84s 418ms/step - loss: 1.1116 - acc: 0.6149 - val_loss: 0.9471 - val_acc: 0.6618\n",
      "Epoch 4/40\n",
      "200/200 [==============================] - 88s 438ms/step - loss: 0.9653 - acc: 0.6532 - val_loss: 0.9167 - val_acc: 0.6713\n",
      "Epoch 5/40\n",
      "200/200 [==============================] - 93s 463ms/step - loss: 0.8916 - acc: 0.6826 - val_loss: 0.8270 - val_acc: 0.7117\n",
      "Epoch 6/40\n",
      "200/200 [==============================] - 85s 423ms/step - loss: 0.7765 - acc: 0.7341 - val_loss: 0.6941 - val_acc: 0.7541\n",
      "Epoch 7/40\n",
      "200/200 [==============================] - 84s 420ms/step - loss: 0.7049 - acc: 0.7524 - val_loss: 0.7516 - val_acc: 0.7199\n",
      "Epoch 8/40\n",
      "200/200 [==============================] - 88s 440ms/step - loss: 0.6660 - acc: 0.7631 - val_loss: 0.7146 - val_acc: 0.7407\n",
      "Epoch 9/40\n",
      "200/200 [==============================] - 82s 410ms/step - loss: 0.6423 - acc: 0.7732 - val_loss: 0.5682 - val_acc: 0.8025\n",
      "Epoch 10/40\n",
      "200/200 [==============================] - 86s 428ms/step - loss: 0.6021 - acc: 0.7871 - val_loss: 0.6045 - val_acc: 0.7811\n",
      "Epoch 11/40\n",
      "200/200 [==============================] - 87s 435ms/step - loss: 0.5844 - acc: 0.7920 - val_loss: 0.6126 - val_acc: 0.7822\n",
      "Epoch 12/40\n",
      "200/200 [==============================] - 86s 432ms/step - loss: 0.5694 - acc: 0.7954 - val_loss: 0.6057 - val_acc: 0.7811\n",
      "Epoch 13/40\n",
      "200/200 [==============================] - 92s 459ms/step - loss: 0.5315 - acc: 0.8063 - val_loss: 0.4716 - val_acc: 0.8208\n",
      "Epoch 14/40\n",
      "200/200 [==============================] - 93s 465ms/step - loss: 0.5219 - acc: 0.8130 - val_loss: 0.4717 - val_acc: 0.8328\n",
      "Epoch 15/40\n",
      "200/200 [==============================] - 96s 478ms/step - loss: 0.5054 - acc: 0.8178 - val_loss: 0.5363 - val_acc: 0.8170\n",
      "Epoch 16/40\n",
      "200/200 [==============================] - 90s 448ms/step - loss: 0.5089 - acc: 0.8177 - val_loss: 0.4791 - val_acc: 0.8248\n",
      "Epoch 17/40\n",
      "200/200 [==============================] - 76s 380ms/step - loss: 0.4707 - acc: 0.8304 - val_loss: 0.4424 - val_acc: 0.8385\n",
      "Epoch 18/40\n",
      "200/200 [==============================] - 77s 383ms/step - loss: 0.4804 - acc: 0.8296 - val_loss: 0.4147 - val_acc: 0.8448\n",
      "Epoch 19/40\n",
      "200/200 [==============================] - 81s 407ms/step - loss: 0.4479 - acc: 0.8376 - val_loss: 0.4454 - val_acc: 0.8416\n",
      "Epoch 20/40\n",
      "200/200 [==============================] - 76s 379ms/step - loss: 0.4620 - acc: 0.8346 - val_loss: 0.4561 - val_acc: 0.8366\n",
      "Epoch 21/40\n",
      "200/200 [==============================] - 76s 378ms/step - loss: 0.4353 - acc: 0.8397 - val_loss: 0.3512 - val_acc: 0.8694\n",
      "Epoch 22/40\n",
      "200/200 [==============================] - 81s 403ms/step - loss: 0.4413 - acc: 0.8366 - val_loss: 0.3988 - val_acc: 0.8492\n",
      "Epoch 23/40\n",
      "200/200 [==============================] - 78s 388ms/step - loss: 0.4257 - acc: 0.8451 - val_loss: 0.4449 - val_acc: 0.8404\n",
      "Epoch 24/40\n",
      "200/200 [==============================] - 81s 403ms/step - loss: 0.4280 - acc: 0.8428 - val_loss: 0.5574 - val_acc: 0.7975\n",
      "Epoch 25/40\n",
      "200/200 [==============================] - 80s 399ms/step - loss: 0.4144 - acc: 0.8471 - val_loss: 0.4660 - val_acc: 0.8215\n",
      "Epoch 26/40\n",
      "200/200 [==============================] - 82s 408ms/step - loss: 0.4112 - acc: 0.8509 - val_loss: 0.3386 - val_acc: 0.8688\n",
      "Epoch 27/40\n",
      "200/200 [==============================] - 76s 380ms/step - loss: 0.3801 - acc: 0.8579 - val_loss: 0.3299 - val_acc: 0.8758\n",
      "Epoch 28/40\n",
      "200/200 [==============================] - 80s 398ms/step - loss: 0.3827 - acc: 0.8666 - val_loss: 0.4114 - val_acc: 0.8435\n",
      "Epoch 29/40\n",
      "200/200 [==============================] - 75s 374ms/step - loss: 0.3784 - acc: 0.8624 - val_loss: 0.4237 - val_acc: 0.8511\n",
      "Epoch 30/40\n",
      "200/200 [==============================] - 74s 370ms/step - loss: 0.3771 - acc: 0.8634 - val_loss: 0.3543 - val_acc: 0.8625\n",
      "Epoch 31/40\n",
      "200/200 [==============================] - 78s 388ms/step - loss: 0.3583 - acc: 0.8636 - val_loss: 0.4598 - val_acc: 0.8284\n",
      "Epoch 32/40\n",
      "200/200 [==============================] - 79s 394ms/step - loss: 0.3921 - acc: 0.8564 - val_loss: 0.4175 - val_acc: 0.8484\n",
      "Epoch 33/40\n",
      "200/200 [==============================] - 81s 403ms/step - loss: 0.3750 - acc: 0.8638 - val_loss: 0.3290 - val_acc: 0.8763\n",
      "Epoch 34/40\n",
      "200/200 [==============================] - 81s 407ms/step - loss: 0.3685 - acc: 0.8645 - val_loss: 0.2999 - val_acc: 0.8927\n",
      "Epoch 35/40\n",
      "200/200 [==============================] - 80s 398ms/step - loss: 0.3600 - acc: 0.8629 - val_loss: 0.3308 - val_acc: 0.8757\n",
      "Epoch 36/40\n",
      "200/200 [==============================] - 79s 397ms/step - loss: 0.3398 - acc: 0.8693 - val_loss: 0.4090 - val_acc: 0.8454\n",
      "Epoch 37/40\n",
      "200/200 [==============================] - 81s 403ms/step - loss: 0.3795 - acc: 0.8635 - val_loss: 0.3365 - val_acc: 0.8752\n",
      "Epoch 38/40\n",
      "200/200 [==============================] - 78s 392ms/step - loss: 0.3510 - acc: 0.8648 - val_loss: 0.3562 - val_acc: 0.8631\n",
      "Epoch 39/40\n",
      "200/200 [==============================] - 79s 394ms/step - loss: 0.3387 - acc: 0.8697 - val_loss: 0.3827 - val_acc: 0.8505\n",
      "Epoch 40/40\n",
      "200/200 [==============================] - 77s 386ms/step - loss: 0.3354 - acc: 0.8716 - val_loss: 0.3030 - val_acc: 0.8757\n"
     ]
    },
    {
     "data": {
      "text/plain": [
       "<keras.callbacks.History at 0x1a44d7e6ef0>"
      ]
     },
     "execution_count": 8,
     "metadata": {},
     "output_type": "execute_result"
    }
   ],
   "source": [
    "model.fit_generator(\n",
    "        train_generator,\n",
    "        steps_per_epoch=200,\n",
    "        epochs=40,\n",
    "        validation_data=valid_generator,\n",
    "        validation_steps=50)"
   ]
  },
  {
   "cell_type": "code",
   "execution_count": 9,
   "metadata": {},
   "outputs": [
    {
     "data": {
      "image/png": "[encoded data removed]",
      "text/plain": [
       "<Figure size 432x288 with 1 Axes>"
      ]
     },
     "metadata": {
      "needs_background": "light"
     },
     "output_type": "display_data"
    }
   ],
   "source": [
    "plt.plot(model.history.history['loss'], label='Train Loss')\n",
    "plt.plot(model.history.history['val_loss'], label='Validation Loss')\n",
    "plt.legend()\n",
    "plt.show()"
   ]
  },
  {
   "cell_type": "code",
   "execution_count": 10,
   "metadata": {},
   "outputs": [
    {
     "name": "stdout",
     "output_type": "stream",
     "text": [
      "Found 794 images belonging to 1 classes.\n"
     ]
    }
   ],
   "source": [
    "test_datagen = ImageDataGenerator()\n",
    "test_generator = test_datagen.flow_from_directory(\n",
    "    directory=r\"data/test\",\n",
    "    target_size=(32, 32),\n",
    "    color_mode=\"rgb\",\n",
    "    batch_size=1,\n",
    "    class_mode=None,\n",
    "    shuffle=False,\n",
    "    seed=32\n",
    ")"
   ]
  },
  {
   "cell_type": "code",
   "execution_count": 11,
   "metadata": {},
   "outputs": [],
   "source": [
    "import numpy as np\n",
    "import pandas as pd"
   ]
  },
  {
   "cell_type": "code",
   "execution_count": 12,
   "metadata": {},
   "outputs": [
    {
     "data": {
      "text/plain": [
       "[0.1638643890619278, 0.90625]"
      ]
     },
     "execution_count": 12,
     "metadata": {},
     "output_type": "execute_result"
    }
   ],
   "source": [
    "model.metrics_names\n",
    "model.evaluate_generator(generator=valid_generator, steps=1)"
   ]
  },
  {
   "cell_type": "code",
   "execution_count": 13,
   "metadata": {},
   "outputs": [
    {
     "name": "stdout",
     "output_type": "stream",
     "text": [
      "794/794 [==============================] - 5s 6ms/step\n"
     ]
    }
   ],
   "source": [
    "pred=model.predict_generator(test_generator,steps=794,verbose=1)"
   ]
  },
  {
   "cell_type": "code",
   "execution_count": 14,
   "metadata": {},
   "outputs": [],
   "source": [
    "predicted_class_indices=np.argmax(pred,axis=1)"
   ]
  },
  {
   "cell_type": "code",
   "execution_count": 15,
   "metadata": {},
   "outputs": [],
   "source": [
    "labels = (train_generator.class_indices)\n",
    "labels = dict((v,k) for k,v in labels.items())\n",
    "predictions = [labels[k] for k in predicted_class_indices]"
   ]
  },
  {
   "cell_type": "code",
   "execution_count": 16,
   "metadata": {},
   "outputs": [],
   "source": [
    "filenames=test_generator.filenames\n",
    "results=pd.DataFrame({\"Filename\":filenames,\n",
    "                      \"Predictions\":predictions})\n",
    "results.to_csv(\"results.csv\",index=False)"
   ]
  },
  {
   "cell_type": "code",
   "execution_count": 17,
   "metadata": {},
   "outputs": [
    {
     "data": {
      "text/html": [
       "<div>\n",
       "<style scoped>\n",
       "    .dataframe tbody tr th:only-of-type {\n",
       "        vertical-align: middle;\n",
       "    }\n",
       "\n",
       "    .dataframe tbody tr th {\n",
       "        vertical-align: top;\n",
       "    }\n",
       "\n",
       "    .dataframe thead th {\n",
       "        text-align: right;\n",
       "    }\n",
       "</style>\n",
       "<table border=\"1\" class=\"dataframe\">\n",
       "  <thead>\n",
       "    <tr style=\"text-align: right;\">\n",
       "      <th></th>\n",
       "      <th>Filename</th>\n",
       "      <th>Predictions</th>\n",
       "    </tr>\n",
       "  </thead>\n",
       "  <tbody>\n",
       "    <tr>\n",
       "      <th>0</th>\n",
       "      <td>test\\0021e90e4.png</td>\n",
       "      <td>Small-flowered Cranesbill</td>\n",
       "    </tr>\n",
       "    <tr>\n",
       "      <th>1</th>\n",
       "      <td>test\\003d61042.png</td>\n",
       "      <td>Fat Hen</td>\n",
       "    </tr>\n",
       "    <tr>\n",
       "      <th>2</th>\n",
       "      <td>test\\007b3da8b.png</td>\n",
       "      <td>Sugar beet</td>\n",
       "    </tr>\n",
       "    <tr>\n",
       "      <th>3</th>\n",
       "      <td>test\\0086a6340.png</td>\n",
       "      <td>Common Chickweed</td>\n",
       "    </tr>\n",
       "    <tr>\n",
       "      <th>4</th>\n",
       "      <td>test\\00c47e980.png</td>\n",
       "      <td>Sugar beet</td>\n",
       "    </tr>\n",
       "    <tr>\n",
       "      <th>5</th>\n",
       "      <td>test\\00d090cde.png</td>\n",
       "      <td>Scentless Mayweed</td>\n",
       "    </tr>\n",
       "    <tr>\n",
       "      <th>6</th>\n",
       "      <td>test\\00ef713a8.png</td>\n",
       "      <td>Common Chickweed</td>\n",
       "    </tr>\n",
       "    <tr>\n",
       "      <th>7</th>\n",
       "      <td>test\\01291174f.png</td>\n",
       "      <td>Fat Hen</td>\n",
       "    </tr>\n",
       "    <tr>\n",
       "      <th>8</th>\n",
       "      <td>test\\026716f9b.png</td>\n",
       "      <td>Loose Silky-bent</td>\n",
       "    </tr>\n",
       "    <tr>\n",
       "      <th>9</th>\n",
       "      <td>test\\02cfeb38d.png</td>\n",
       "      <td>Loose Silky-bent</td>\n",
       "    </tr>\n",
       "    <tr>\n",
       "      <th>10</th>\n",
       "      <td>test\\03566743d.png</td>\n",
       "      <td>Fat Hen</td>\n",
       "    </tr>\n",
       "    <tr>\n",
       "      <th>11</th>\n",
       "      <td>test\\03a2ee656.png</td>\n",
       "      <td>Small-flowered Cranesbill</td>\n",
       "    </tr>\n",
       "    <tr>\n",
       "      <th>12</th>\n",
       "      <td>test\\03e322a29.png</td>\n",
       "      <td>Sugar beet</td>\n",
       "    </tr>\n",
       "    <tr>\n",
       "      <th>13</th>\n",
       "      <td>test\\03ef36742.png</td>\n",
       "      <td>Scentless Mayweed</td>\n",
       "    </tr>\n",
       "    <tr>\n",
       "      <th>14</th>\n",
       "      <td>test\\043449b0b.png</td>\n",
       "      <td>Sugar beet</td>\n",
       "    </tr>\n",
       "    <tr>\n",
       "      <th>15</th>\n",
       "      <td>test\\0437393b1.png</td>\n",
       "      <td>Sugar beet</td>\n",
       "    </tr>\n",
       "    <tr>\n",
       "      <th>16</th>\n",
       "      <td>test\\04814f36d.png</td>\n",
       "      <td>Scentless Mayweed</td>\n",
       "    </tr>\n",
       "    <tr>\n",
       "      <th>17</th>\n",
       "      <td>test\\05341a8a6.png</td>\n",
       "      <td>Scentless Mayweed</td>\n",
       "    </tr>\n",
       "    <tr>\n",
       "      <th>18</th>\n",
       "      <td>test\\060450d79.png</td>\n",
       "      <td>Common Chickweed</td>\n",
       "    </tr>\n",
       "    <tr>\n",
       "      <th>19</th>\n",
       "      <td>test\\060f1dc84.png</td>\n",
       "      <td>Cleavers</td>\n",
       "    </tr>\n",
       "    <tr>\n",
       "      <th>20</th>\n",
       "      <td>test\\0625f063b.png</td>\n",
       "      <td>Common Chickweed</td>\n",
       "    </tr>\n",
       "    <tr>\n",
       "      <th>21</th>\n",
       "      <td>test\\063363305.png</td>\n",
       "      <td>Small-flowered Cranesbill</td>\n",
       "    </tr>\n",
       "    <tr>\n",
       "      <th>22</th>\n",
       "      <td>test\\06d12f6fa.png</td>\n",
       "      <td>Shepherds Purse</td>\n",
       "    </tr>\n",
       "    <tr>\n",
       "      <th>23</th>\n",
       "      <td>test\\071cb3ece.png</td>\n",
       "      <td>Sugar beet</td>\n",
       "    </tr>\n",
       "    <tr>\n",
       "      <th>24</th>\n",
       "      <td>test\\0751c0bbc.png</td>\n",
       "      <td>Sugar beet</td>\n",
       "    </tr>\n",
       "    <tr>\n",
       "      <th>25</th>\n",
       "      <td>test\\07e62f903.png</td>\n",
       "      <td>Maize</td>\n",
       "    </tr>\n",
       "    <tr>\n",
       "      <th>26</th>\n",
       "      <td>test\\085974290.png</td>\n",
       "      <td>Sugar beet</td>\n",
       "    </tr>\n",
       "    <tr>\n",
       "      <th>27</th>\n",
       "      <td>test\\0885e7690.png</td>\n",
       "      <td>Scentless Mayweed</td>\n",
       "    </tr>\n",
       "    <tr>\n",
       "      <th>28</th>\n",
       "      <td>test\\089ad62a7.png</td>\n",
       "      <td>Common Chickweed</td>\n",
       "    </tr>\n",
       "    <tr>\n",
       "      <th>29</th>\n",
       "      <td>test\\08d591441.png</td>\n",
       "      <td>Sugar beet</td>\n",
       "    </tr>\n",
       "    <tr>\n",
       "      <th>...</th>\n",
       "      <td>...</td>\n",
       "      <td>...</td>\n",
       "    </tr>\n",
       "    <tr>\n",
       "      <th>764</th>\n",
       "      <td>test\\f593c9cf0.png</td>\n",
       "      <td>Sugar beet</td>\n",
       "    </tr>\n",
       "    <tr>\n",
       "      <th>765</th>\n",
       "      <td>test\\f66ae4070.png</td>\n",
       "      <td>Maize</td>\n",
       "    </tr>\n",
       "    <tr>\n",
       "      <th>766</th>\n",
       "      <td>test\\f6d250856.png</td>\n",
       "      <td>Shepherds Purse</td>\n",
       "    </tr>\n",
       "    <tr>\n",
       "      <th>767</th>\n",
       "      <td>test\\f8318faf1.png</td>\n",
       "      <td>Shepherds Purse</td>\n",
       "    </tr>\n",
       "    <tr>\n",
       "      <th>768</th>\n",
       "      <td>test\\f85ed9b6d.png</td>\n",
       "      <td>Charlock</td>\n",
       "    </tr>\n",
       "    <tr>\n",
       "      <th>769</th>\n",
       "      <td>test\\f9b6bfb00.png</td>\n",
       "      <td>Cleavers</td>\n",
       "    </tr>\n",
       "    <tr>\n",
       "      <th>770</th>\n",
       "      <td>test\\f9ea23fb5.png</td>\n",
       "      <td>Fat Hen</td>\n",
       "    </tr>\n",
       "    <tr>\n",
       "      <th>771</th>\n",
       "      <td>test\\f9f35cbd4.png</td>\n",
       "      <td>Common Chickweed</td>\n",
       "    </tr>\n",
       "    <tr>\n",
       "      <th>772</th>\n",
       "      <td>test\\fa5fd1384.png</td>\n",
       "      <td>Shepherds Purse</td>\n",
       "    </tr>\n",
       "    <tr>\n",
       "      <th>773</th>\n",
       "      <td>test\\fa9f3a8f9.png</td>\n",
       "      <td>Cleavers</td>\n",
       "    </tr>\n",
       "    <tr>\n",
       "      <th>774</th>\n",
       "      <td>test\\fadc6adbc.png</td>\n",
       "      <td>Charlock</td>\n",
       "    </tr>\n",
       "    <tr>\n",
       "      <th>775</th>\n",
       "      <td>test\\fb022edf9.png</td>\n",
       "      <td>Sugar beet</td>\n",
       "    </tr>\n",
       "    <tr>\n",
       "      <th>776</th>\n",
       "      <td>test\\fba8fc78a.png</td>\n",
       "      <td>Black-grass</td>\n",
       "    </tr>\n",
       "    <tr>\n",
       "      <th>777</th>\n",
       "      <td>test\\fbf88b6be.png</td>\n",
       "      <td>Charlock</td>\n",
       "    </tr>\n",
       "    <tr>\n",
       "      <th>778</th>\n",
       "      <td>test\\fc3e58836.png</td>\n",
       "      <td>Scentless Mayweed</td>\n",
       "    </tr>\n",
       "    <tr>\n",
       "      <th>779</th>\n",
       "      <td>test\\fc6f686fb.png</td>\n",
       "      <td>Sugar beet</td>\n",
       "    </tr>\n",
       "    <tr>\n",
       "      <th>780</th>\n",
       "      <td>test\\fd253a74e.png</td>\n",
       "      <td>Cleavers</td>\n",
       "    </tr>\n",
       "    <tr>\n",
       "      <th>781</th>\n",
       "      <td>test\\fd87b36ae.png</td>\n",
       "      <td>Loose Silky-bent</td>\n",
       "    </tr>\n",
       "    <tr>\n",
       "      <th>782</th>\n",
       "      <td>test\\fd925f542.png</td>\n",
       "      <td>Common Chickweed</td>\n",
       "    </tr>\n",
       "    <tr>\n",
       "      <th>783</th>\n",
       "      <td>test\\fda0b5c38.png</td>\n",
       "      <td>Common wheat</td>\n",
       "    </tr>\n",
       "    <tr>\n",
       "      <th>784</th>\n",
       "      <td>test\\fda39e16f.png</td>\n",
       "      <td>Loose Silky-bent</td>\n",
       "    </tr>\n",
       "    <tr>\n",
       "      <th>785</th>\n",
       "      <td>test\\fdea6b119.png</td>\n",
       "      <td>Black-grass</td>\n",
       "    </tr>\n",
       "    <tr>\n",
       "      <th>786</th>\n",
       "      <td>test\\fe29629fb.png</td>\n",
       "      <td>Sugar beet</td>\n",
       "    </tr>\n",
       "    <tr>\n",
       "      <th>787</th>\n",
       "      <td>test\\fe9e87b78.png</td>\n",
       "      <td>Sugar beet</td>\n",
       "    </tr>\n",
       "    <tr>\n",
       "      <th>788</th>\n",
       "      <td>test\\fea1d13d6.png</td>\n",
       "      <td>Shepherds Purse</td>\n",
       "    </tr>\n",
       "    <tr>\n",
       "      <th>789</th>\n",
       "      <td>test\\fea355851.png</td>\n",
       "      <td>Loose Silky-bent</td>\n",
       "    </tr>\n",
       "    <tr>\n",
       "      <th>790</th>\n",
       "      <td>test\\fea3da57c.png</td>\n",
       "      <td>Sugar beet</td>\n",
       "    </tr>\n",
       "    <tr>\n",
       "      <th>791</th>\n",
       "      <td>test\\fef2ade8c.png</td>\n",
       "      <td>Sugar beet</td>\n",
       "    </tr>\n",
       "    <tr>\n",
       "      <th>792</th>\n",
       "      <td>test\\ff65bc002.png</td>\n",
       "      <td>Charlock</td>\n",
       "    </tr>\n",
       "    <tr>\n",
       "      <th>793</th>\n",
       "      <td>test\\ffc6f8527.png</td>\n",
       "      <td>Common wheat</td>\n",
       "    </tr>\n",
       "  </tbody>\n",
       "</table>\n",
       "<p>794 rows × 2 columns</p>\n",
       "</div>"
      ],
      "text/plain": [
       "               Filename                Predictions\n",
       "0    test\\0021e90e4.png  Small-flowered Cranesbill\n",
       "1    test\\003d61042.png                    Fat Hen\n",
       "2    test\\007b3da8b.png                 Sugar beet\n",
       "3    test\\0086a6340.png           Common Chickweed\n",
       "4    test\\00c47e980.png                 Sugar beet\n",
       "5    test\\00d090cde.png          Scentless Mayweed\n",
       "6    test\\00ef713a8.png           Common Chickweed\n",
       "7    test\\01291174f.png                    Fat Hen\n",
       "8    test\\026716f9b.png           Loose Silky-bent\n",
       "9    test\\02cfeb38d.png           Loose Silky-bent\n",
       "10   test\\03566743d.png                    Fat Hen\n",
       "11   test\\03a2ee656.png  Small-flowered Cranesbill\n",
       "12   test\\03e322a29.png                 Sugar beet\n",
       "13   test\\03ef36742.png          Scentless Mayweed\n",
       "14   test\\043449b0b.png                 Sugar beet\n",
       "15   test\\0437393b1.png                 Sugar beet\n",
       "16   test\\04814f36d.png          Scentless Mayweed\n",
       "17   test\\05341a8a6.png          Scentless Mayweed\n",
       "18   test\\060450d79.png           Common Chickweed\n",
       "19   test\\060f1dc84.png                   Cleavers\n",
       "20   test\\0625f063b.png           Common Chickweed\n",
       "21   test\\063363305.png  Small-flowered Cranesbill\n",
       "22   test\\06d12f6fa.png            Shepherds Purse\n",
       "23   test\\071cb3ece.png                 Sugar beet\n",
       "24   test\\0751c0bbc.png                 Sugar beet\n",
       "25   test\\07e62f903.png                      Maize\n",
       "26   test\\085974290.png                 Sugar beet\n",
       "27   test\\0885e7690.png          Scentless Mayweed\n",
       "28   test\\089ad62a7.png           Common Chickweed\n",
       "29   test\\08d591441.png                 Sugar beet\n",
       "..                  ...                        ...\n",
       "764  test\\f593c9cf0.png                 Sugar beet\n",
       "765  test\\f66ae4070.png                      Maize\n",
       "766  test\\f6d250856.png            Shepherds Purse\n",
       "767  test\\f8318faf1.png            Shepherds Purse\n",
       "768  test\\f85ed9b6d.png                   Charlock\n",
       "769  test\\f9b6bfb00.png                   Cleavers\n",
       "770  test\\f9ea23fb5.png                    Fat Hen\n",
       "771  test\\f9f35cbd4.png           Common Chickweed\n",
       "772  test\\fa5fd1384.png            Shepherds Purse\n",
       "773  test\\fa9f3a8f9.png                   Cleavers\n",
       "774  test\\fadc6adbc.png                   Charlock\n",
       "775  test\\fb022edf9.png                 Sugar beet\n",
       "776  test\\fba8fc78a.png                Black-grass\n",
       "777  test\\fbf88b6be.png                   Charlock\n",
       "778  test\\fc3e58836.png          Scentless Mayweed\n",
       "779  test\\fc6f686fb.png                 Sugar beet\n",
       "780  test\\fd253a74e.png                   Cleavers\n",
       "781  test\\fd87b36ae.png           Loose Silky-bent\n",
       "782  test\\fd925f542.png           Common Chickweed\n",
       "783  test\\fda0b5c38.png               Common wheat\n",
       "784  test\\fda39e16f.png           Loose Silky-bent\n",
       "785  test\\fdea6b119.png                Black-grass\n",
       "786  test\\fe29629fb.png                 Sugar beet\n",
       "787  test\\fe9e87b78.png                 Sugar beet\n",
       "788  test\\fea1d13d6.png            Shepherds Purse\n",
       "789  test\\fea355851.png           Loose Silky-bent\n",
       "790  test\\fea3da57c.png                 Sugar beet\n",
       "791  test\\fef2ade8c.png                 Sugar beet\n",
       "792  test\\ff65bc002.png                   Charlock\n",
       "793  test\\ffc6f8527.png               Common wheat\n",
       "\n",
       "[794 rows x 2 columns]"
      ]
     },
     "execution_count": 17,
     "metadata": {},
     "output_type": "execute_result"
    }
   ],
   "source": [
    "results"
   ]
  },
  {
   "cell_type": "code",
   "execution_count": null,
   "metadata": {},
   "outputs": [],
   "source": []
  }
 ],
 "metadata": {
  "colab": {
   "collapsed_sections": [],
   "name": "HW2_Kaggle.ipynb",
   "provenance": [],
   "toc_visible": true,
   "version": "0.3.2"
  },
  "kernelspec": {
   "display_name": "Python 3",
   "language": "python",
   "name": "python3"
  },
  "language_info": {
   "codemirror_mode": {
    "name": "ipython",
    "version": 3
   },
   "file_extension": ".py",
   "mimetype": "text/x-python",
   "name": "python",
   "nbconvert_exporter": "python",
   "pygments_lexer": "ipython3",
   "version": "3.7.3"
  }
 },
 "nbformat": 4,
 "nbformat_minor": 1
}
