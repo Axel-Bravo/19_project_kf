{
 "cells": [
  {
   "cell_type": "code",
   "execution_count": 1,
   "metadata": {},
   "outputs": [
    {
     "name": "stderr",
     "output_type": "stream",
     "text": [
      "Using TensorFlow backend.\n"
     ]
    }
   ],
   "source": [
    "import os\n",
    "import pandas as pd\n",
    "from keras.preprocessing.image import ImageDataGenerator\n",
    "from IPython.display import display\n",
    "from PIL import Image"
   ]
  },
  {
   "cell_type": "code",
   "execution_count": 2,
   "metadata": {},
   "outputs": [],
   "source": [
    "train_dir = \"../../../data_kaggle/train/train\""
   ]
  },
  {
   "cell_type": "code",
   "execution_count": 3,
   "metadata": {},
   "outputs": [],
   "source": [
    "train_datagen = ImageDataGenerator(\n",
    "        rescale=1./255,\n",
    "        shear_range=0.2,\n",
    "        zoom_range=0.2,\n",
    "        horizontal_flip=True,\n",
    "        validation_split=0.2)"
   ]
  },
  {
   "cell_type": "code",
   "execution_count": 4,
   "metadata": {},
   "outputs": [
    {
     "name": "stdout",
     "output_type": "stream",
     "text": [
      "Found 3803 images belonging to 12 classes.\n",
      "Found 947 images belonging to 12 classes.\n"
     ]
    }
   ],
   "source": [
    "batch_size=64\n",
    "\n",
    "train_generator = train_datagen.flow_from_directory(\n",
    "        os.getcwd()+os.path.sep+train_dir,\n",
    "        target_size=(32, 32),\n",
    "        batch_size=batch_size,\n",
    "        class_mode='categorical',\n",
    "        subset='training') \n",
    "\n",
    "validation_generator = train_datagen.flow_from_directory(\n",
    "        os.getcwd()+os.path.sep+train_dir,\n",
    "        target_size=(32, 32),\n",
    "        batch_size=batch_size,\n",
    "        class_mode='categorical',\n",
    "        subset='validation') "
   ]
  },
  {
   "cell_type": "code",
   "execution_count": 5,
   "metadata": {},
   "outputs": [
    {
     "name": "stdout",
     "output_type": "stream",
     "text": [
      "WARNING:tensorflow:From C:\\Users\\ferran.marti.torrent\\AppData\\Local\\Continuum\\anaconda\\envs\\Kaggle\\lib\\site-packages\\tensorflow\\python\\framework\\op_def_library.py:263: colocate_with (from tensorflow.python.framework.ops) is deprecated and will be removed in a future version.\n",
      "Instructions for updating:\n",
      "Colocations handled automatically by placer.\n",
      "WARNING:tensorflow:From C:\\Users\\ferran.marti.torrent\\AppData\\Local\\Continuum\\anaconda\\envs\\Kaggle\\lib\\site-packages\\keras\\backend\\tensorflow_backend.py:3445: calling dropout (from tensorflow.python.ops.nn_ops) with keep_prob is deprecated and will be removed in a future version.\n",
      "Instructions for updating:\n",
      "Please use `rate` instead of `keep_prob`. Rate should be set to `rate = 1 - keep_prob`.\n",
      "_________________________________________________________________\n",
      "Layer (type)                 Output Shape              Param #   \n",
      "=================================================================\n",
      "conv2d_1 (Conv2D)            (None, 30, 30, 32)        896       \n",
      "_________________________________________________________________\n",
      "max_pooling2d_1 (MaxPooling2 (None, 15, 15, 32)        0         \n",
      "_________________________________________________________________\n",
      "conv2d_2 (Conv2D)            (None, 13, 13, 20)        5780      \n",
      "_________________________________________________________________\n",
      "max_pooling2d_2 (MaxPooling2 (None, 6, 6, 20)          0         \n",
      "_________________________________________________________________\n",
      "conv2d_3 (Conv2D)            (None, 4, 4, 10)          1810      \n",
      "_________________________________________________________________\n",
      "flatten_1 (Flatten)          (None, 160)               0         \n",
      "_________________________________________________________________\n",
      "dense_1 (Dense)              (None, 64)                10304     \n",
      "_________________________________________________________________\n",
      "dropout_1 (Dropout)          (None, 64)                0         \n",
      "_________________________________________________________________\n",
      "dense_2 (Dense)              (None, 32)                2080      \n",
      "_________________________________________________________________\n",
      "dense_3 (Dense)              (None, 16)                528       \n",
      "_________________________________________________________________\n",
      "dense_4 (Dense)              (None, 12)                204       \n",
      "=================================================================\n",
      "Total params: 21,602\n",
      "Trainable params: 21,602\n",
      "Non-trainable params: 0\n",
      "_________________________________________________________________\n"
     ]
    }
   ],
   "source": [
    "from keras.models import Sequential\n",
    "from keras.layers import Conv2D, MaxPooling2D\n",
    "from keras.layers import Activation, Dropout, Flatten, Dense\n",
    "\n",
    "model = Sequential()\n",
    "model.add(Conv2D(32, (3, 3), activation='relu', input_shape=(32, 32, 3)))\n",
    "model.add(MaxPooling2D(pool_size=(2, 2)))\n",
    "model.add(Conv2D(20, (3, 3), activation='relu'))\n",
    "model.add(MaxPooling2D(pool_size=(2, 2)))\n",
    "model.add(Conv2D(10, (3, 3), activation='relu'))\n",
    "model.add(Flatten())\n",
    "model.add(Dense(64, activation='relu'))\n",
    "model.add(Dropout(0.05))\n",
    "model.add(Dense(32, activation='relu'))\n",
    "model.add(Dense(16, activation='relu'))\n",
    "model.add(Dense(12, activation='relu'))\n",
    "model.compile(optimizer='rmsprop',\n",
    "              loss='categorical_crossentropy',\n",
    "              metrics=['accuracy'])\n",
    "model.summary()"
   ]
  },
  {
   "cell_type": "code",
   "execution_count": 6,
   "metadata": {
    "scrolled": true
   },
   "outputs": [
    {
     "name": "stdout",
     "output_type": "stream",
     "text": [
      "WARNING:tensorflow:From C:\\Users\\ferran.marti.torrent\\AppData\\Local\\Continuum\\anaconda\\envs\\Kaggle\\lib\\site-packages\\tensorflow\\python\\ops\\math_ops.py:3066: to_int32 (from tensorflow.python.ops.math_ops) is deprecated and will be removed in a future version.\n",
      "Instructions for updating:\n",
      "Use tf.cast instead.\n",
      "Epoch 1/20\n",
      "59/59 [==============================] - 44s 748ms/step - loss: 4.3429 - acc: 0.1141 - val_loss: 4.2382 - val_acc: 0.1362\n",
      "Epoch 2/20\n",
      "59/59 [==============================] - 40s 677ms/step - loss: 4.2245 - acc: 0.1498 - val_loss: 4.0154 - val_acc: 0.2809\n",
      "Epoch 3/20\n",
      "59/59 [==============================] - 44s 754ms/step - loss: 4.0860 - acc: 0.2342 - val_loss: 4.0067 - val_acc: 0.3228\n",
      "Epoch 4/20\n",
      "59/59 [==============================] - 40s 686ms/step - loss: 4.1305 - acc: 0.2385 - val_loss: 3.8388 - val_acc: 0.2978\n",
      "Epoch 5/20\n",
      "59/59 [==============================] - 41s 688ms/step - loss: 4.0029 - acc: 0.3321 - val_loss: 5.1075 - val_acc: 0.2820\n",
      "Epoch 6/20\n",
      "59/59 [==============================] - 42s 710ms/step - loss: 3.9315 - acc: 0.3287 - val_loss: 3.7410 - val_acc: 0.3737\n",
      "Epoch 7/20\n",
      "59/59 [==============================] - 43s 721ms/step - loss: 3.8775 - acc: 0.3680 - val_loss: 4.0605 - val_acc: 0.2967\n",
      "Epoch 8/20\n",
      "59/59 [==============================] - 41s 697ms/step - loss: 4.3896 - acc: 0.3199 - val_loss: 7.1209 - val_acc: 0.1665\n",
      "Epoch 9/20\n",
      "59/59 [==============================] - 41s 689ms/step - loss: 3.4988 - acc: 0.3557 - val_loss: 3.2611 - val_acc: 0.3601\n",
      "Epoch 10/20\n",
      "59/59 [==============================] - 41s 697ms/step - loss: 3.2471 - acc: 0.3680 - val_loss: 3.2451 - val_acc: 0.3499\n",
      "Epoch 11/20\n",
      "59/59 [==============================] - 43s 736ms/step - loss: 3.0579 - acc: 0.3721 - val_loss: 2.7131 - val_acc: 0.4020\n",
      "Epoch 12/20\n",
      "59/59 [==============================] - 41s 691ms/step - loss: 2.9422 - acc: 0.3940 - val_loss: 3.0567 - val_acc: 0.4043\n",
      "Epoch 13/20\n",
      "59/59 [==============================] - 40s 677ms/step - loss: 3.1274 - acc: 0.3776 - val_loss: 2.7832 - val_acc: 0.4111\n",
      "Epoch 14/20\n",
      "59/59 [==============================] - 41s 697ms/step - loss: 2.9815 - acc: 0.4049 - val_loss: 2.8939 - val_acc: 0.4541\n",
      "Epoch 15/20\n",
      "59/59 [==============================] - 41s 696ms/step - loss: 3.0256 - acc: 0.3931 - val_loss: 2.8944 - val_acc: 0.3817\n",
      "Epoch 16/20\n",
      "59/59 [==============================] - 41s 690ms/step - loss: 2.9775 - acc: 0.4049 - val_loss: 2.7696 - val_acc: 0.4598\n",
      "Epoch 17/20\n",
      "59/59 [==============================] - 40s 673ms/step - loss: 2.9382 - acc: 0.4059 - val_loss: 2.8121 - val_acc: 0.4337\n",
      "Epoch 18/20\n",
      "59/59 [==============================] - 45s 758ms/step - loss: 3.0505 - acc: 0.4185 - val_loss: 3.1398 - val_acc: 0.4417\n",
      "Epoch 19/20\n",
      "59/59 [==============================] - 49s 834ms/step - loss: 2.8479 - acc: 0.4452 - val_loss: 2.7750 - val_acc: 0.4575\n",
      "Epoch 20/20\n",
      "59/59 [==============================] - 43s 733ms/step - loss: 2.8960 - acc: 0.4468 - val_loss: 3.2591 - val_acc: 0.3058\n"
     ]
    },
    {
     "data": {
      "text/plain": [
       "<keras.callbacks.History at 0x25a1067de48>"
      ]
     },
     "execution_count": 6,
     "metadata": {},
     "output_type": "execute_result"
    }
   ],
   "source": [
    "n_epochs=20\n",
    "\n",
    "model.fit_generator(\n",
    "    train_generator,\n",
    "    steps_per_epoch = train_generator.samples // batch_size,\n",
    "    validation_data = validation_generator, \n",
    "    validation_steps = validation_generator.samples // batch_size,\n",
    "    epochs = n_epochs)"
   ]
  },
  {
   "cell_type": "markdown",
   "metadata": {},
   "source": [
    "#### GENERATE KAGGLE RESULTS"
   ]
  },
  {
   "cell_type": "code",
   "execution_count": 7,
   "metadata": {},
   "outputs": [
    {
     "name": "stdout",
     "output_type": "stream",
     "text": [
      "C:\\Users\\ferran.marti.torrent\\OneDrive - Accenture\\19_project_kf\\001_plant_seeding\\ferdi\\../../../data_kaggle/test\n",
      "Found 794 images belonging to 1 classes.\n"
     ]
    }
   ],
   "source": [
    "test_dir = \"../../../data_kaggle/test\"\n",
    "test_datagen = ImageDataGenerator(rescale=1./255)\n",
    "\n",
    "print(os.getcwd()+os.path.sep+test_dir)\n",
    "test_generator = test_datagen.flow_from_directory(\n",
    "        os.getcwd()+os.path.sep+test_dir,\n",
    "        target_size=(32, 32),\n",
    "        color_mode=\"rgb\",\n",
    "        batch_size=1,\n",
    "        class_mode=None,\n",
    "        shuffle=False)\n",
    "filenames = test_generator.filenames\n",
    "nb_samples = len(filenames)\n",
    "\n",
    "predict = model.predict_generator(test_generator,steps = nb_samples)"
   ]
  },
  {
   "cell_type": "code",
   "execution_count": 8,
   "metadata": {},
   "outputs": [],
   "source": [
    "import numpy as np\n",
    "predicted_class_indices=np.argmax(predict,axis=1)\n",
    "labels = (train_generator.class_indices)\n",
    "labels = dict((v,k) for k,v in labels.items())\n",
    "predictions = [labels[k] for k in predicted_class_indices]\n",
    "filenames=test_generator.filenames\n",
    "results=pd.DataFrame({\"file\":filenames,\n",
    "                      \"species\":predictions})\n",
    "results.to_csv(\"results.csv\",index=False)"
   ]
  },
  {
   "cell_type": "code",
   "execution_count": null,
   "metadata": {},
   "outputs": [],
   "source": []
  }
 ],
 "metadata": {
  "kernelspec": {
   "display_name": "Python 3",
   "language": "python",
   "name": "python3"
  },
  "language_info": {
   "codemirror_mode": {
    "name": "ipython",
    "version": 3
   },
   "file_extension": ".py",
   "mimetype": "text/x-python",
   "name": "python",
   "nbconvert_exporter": "python",
   "pygments_lexer": "ipython3",
   "version": "3.7.0"
  }
 },
 "nbformat": 4,
 "nbformat_minor": 2
}
