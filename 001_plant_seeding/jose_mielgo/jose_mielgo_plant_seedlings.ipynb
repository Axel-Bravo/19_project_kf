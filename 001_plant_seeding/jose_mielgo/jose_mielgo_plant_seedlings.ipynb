{
 "cells": [
  {
   "cell_type": "markdown",
   "metadata": {},
   "source": [
    "# Plant-Seedlings challenge\n",
    "\n",
    "## Loading train and test data"
   ]
  },
  {
   "cell_type": "code",
   "execution_count": 35,
   "metadata": {},
   "outputs": [
    {
     "name": "stdout",
     "output_type": "stream",
     "text": [
      "Found 3803 images belonging to 12 classes.\n",
      "Found 947 images belonging to 12 classes.\n"
     ]
    }
   ],
   "source": [
    "import os\n",
    "import pandas as pd\n",
    "from keras.preprocessing.image import ImageDataGenerator\n",
    "\n",
    "train_dir = \"../../../data_kaggle/train\"\n",
    "test_dir = \"../../data_kaggle/test/test\"\n",
    "\n",
    "train_datagen = ImageDataGenerator(\n",
    "        rescale=1./255,\n",
    "        shear_range=0.2,\n",
    "        zoom_range=0.2,\n",
    "        rotation_range=5,\n",
    "        horizontal_flip=True,\n",
    "        validation_split=0.2)\n",
    "\n",
    "#test_datagen = ImageDataGenerator(rescale=1./255)\n",
    "\n",
    "train_generator = train_datagen.flow_from_directory(\n",
    "        os.getcwd()+os.path.sep+train_dir,\n",
    "        target_size=(32, 32),\n",
    "        batch_size=64,\n",
    "        class_mode='categorical',\n",
    "        subset='training')\n",
    "\n",
    "validation_generator = train_datagen.flow_from_directory(\n",
    "        os.getcwd()+os.path.sep+train_dir,\n",
    "        target_size=(32, 32),\n",
    "        batch_size=64,\n",
    "        class_mode='categorical',\n",
    "        subset='validation')"
   ]
  },
  {
   "cell_type": "code",
   "execution_count": 36,
   "metadata": {
    "scrolled": true
   },
   "outputs": [
    {
     "name": "stdout",
     "output_type": "stream",
     "text": [
      "_________________________________________________________________\n",
      "Layer (type)                 Output Shape              Param #   \n",
      "=================================================================\n",
      "conv2d_26 (Conv2D)           (None, 30, 30, 32)        896       \n",
      "_________________________________________________________________\n",
      "max_pooling2d_17 (MaxPooling (None, 15, 15, 32)        0         \n",
      "_________________________________________________________________\n",
      "conv2d_27 (Conv2D)           (None, 13, 13, 32)        9248      \n",
      "_________________________________________________________________\n",
      "max_pooling2d_18 (MaxPooling (None, 6, 6, 32)          0         \n",
      "_________________________________________________________________\n",
      "conv2d_28 (Conv2D)           (None, 4, 4, 32)          9248      \n",
      "_________________________________________________________________\n",
      "flatten_8 (Flatten)          (None, 512)               0         \n",
      "_________________________________________________________________\n",
      "dense_15 (Dense)             (None, 64)                32832     \n",
      "_________________________________________________________________\n",
      "dropout_2 (Dropout)          (None, 64)                0         \n",
      "_________________________________________________________________\n",
      "dense_16 (Dense)             (None, 12)                780       \n",
      "=================================================================\n",
      "Total params: 53,004\n",
      "Trainable params: 53,004\n",
      "Non-trainable params: 0\n",
      "_________________________________________________________________\n"
     ]
    }
   ],
   "source": [
    "from keras import models\n",
    "from keras import layers\n",
    "\n",
    "model = models.Sequential()\n",
    "model.add(layers.Conv2D(32, (3, 3), activation='relu', input_shape=(32, 32, 3)))\n",
    "model.add(layers.MaxPooling2D((2, 2)))\n",
    "model.add(layers.Conv2D(32, (3, 3), activation='relu'))\n",
    "model.add(layers.MaxPooling2D((2, 2)))\n",
    "model.add(layers.Conv2D(32, (3, 3), activation='relu'))\n",
    "model.add(layers.Flatten())\n",
    "model.add(layers.Dense(64, activation='relu'))\n",
    "model.add(layers.Dropout(0.05))\n",
    "model.add(layers.Dense(32, activation='relu'))\n",
    "model.add(layers.Dense(12, activation='softmax'))\n",
    "model.summary()"
   ]
  },
  {
   "cell_type": "code",
   "execution_count": 37,
   "metadata": {},
   "outputs": [
    {
     "name": "stdout",
     "output_type": "stream",
     "text": [
      "Epoch 1/20\n",
      "190/190 [==============================] - 135s 711ms/step - loss: 2.1453 - acc: 0.2493 - val_loss: 1.7089 - val_acc: 0.3917\n",
      "Epoch 2/20\n",
      "190/190 [==============================] - 128s 675ms/step - loss: 1.6864 - acc: 0.4001 - val_loss: 1.5504 - val_acc: 0.4520\n",
      "Epoch 3/20\n",
      "190/190 [==============================] - 130s 682ms/step - loss: 1.4785 - acc: 0.4752 - val_loss: 1.6000 - val_acc: 0.4429\n",
      "Epoch 4/20\n",
      "190/190 [==============================] - 130s 687ms/step - loss: 1.2991 - acc: 0.5402 - val_loss: 1.4171 - val_acc: 0.4938\n",
      "Epoch 5/20\n",
      "190/190 [==============================] - 130s 684ms/step - loss: 1.1730 - acc: 0.5935 - val_loss: 1.0807 - val_acc: 0.6447\n",
      "Epoch 6/20\n",
      "190/190 [==============================] - 130s 687ms/step - loss: 1.0592 - acc: 0.6291 - val_loss: 0.9793 - val_acc: 0.6628\n",
      "Epoch 7/20\n",
      "190/190 [==============================] - 133s 699ms/step - loss: 0.9687 - acc: 0.6646 - val_loss: 1.0327 - val_acc: 0.6494\n",
      "Epoch 8/20\n",
      "190/190 [==============================] - 130s 686ms/step - loss: 0.9041 - acc: 0.6907 - val_loss: 0.8542 - val_acc: 0.7419\n",
      "Epoch 9/20\n",
      "190/190 [==============================] - 129s 680ms/step - loss: 0.8222 - acc: 0.7136 - val_loss: 0.8362 - val_acc: 0.7292\n",
      "Epoch 10/20\n",
      "190/190 [==============================] - 131s 689ms/step - loss: 0.7654 - acc: 0.7384 - val_loss: 0.8420 - val_acc: 0.7204\n",
      "Epoch 11/20\n",
      "190/190 [==============================] - 132s 696ms/step - loss: 0.7080 - acc: 0.7549 - val_loss: 0.7437 - val_acc: 0.7656\n",
      "Epoch 12/20\n",
      "190/190 [==============================] - 131s 687ms/step - loss: 0.6652 - acc: 0.7633 - val_loss: 0.7566 - val_acc: 0.7612\n",
      "Epoch 13/20\n",
      "190/190 [==============================] - 132s 696ms/step - loss: 0.6309 - acc: 0.7796 - val_loss: 0.7557 - val_acc: 0.7622\n",
      "Epoch 14/20\n",
      "190/190 [==============================] - 131s 691ms/step - loss: 0.5790 - acc: 0.7937 - val_loss: 0.6931 - val_acc: 0.7838\n",
      "Epoch 15/20\n",
      "190/190 [==============================] - 132s 694ms/step - loss: 0.5567 - acc: 0.8037 - val_loss: 0.6794 - val_acc: 0.7889\n",
      "Epoch 16/20\n",
      "190/190 [==============================] - 129s 679ms/step - loss: 0.5352 - acc: 0.8084 - val_loss: 0.8274 - val_acc: 0.7305\n",
      "Epoch 17/20\n",
      "190/190 [==============================] - 129s 681ms/step - loss: 0.5098 - acc: 0.8183 - val_loss: 0.8149 - val_acc: 0.7272\n",
      "Epoch 18/20\n",
      "190/190 [==============================] - 130s 687ms/step - loss: 0.4630 - acc: 0.8318 - val_loss: 0.7137 - val_acc: 0.7885\n",
      "Epoch 19/20\n",
      "190/190 [==============================] - 128s 674ms/step - loss: 0.4372 - acc: 0.8464 - val_loss: 0.8074 - val_acc: 0.7420\n",
      "Epoch 20/20\n",
      "190/190 [==============================] - 129s 681ms/step - loss: 0.4160 - acc: 0.8458 - val_loss: 0.6465 - val_acc: 0.8063\n"
     ]
    },
    {
     "data": {
      "text/plain": [
       "<keras.callbacks.History at 0x1b46bd9d1d0>"
      ]
     },
     "execution_count": 37,
     "metadata": {},
     "output_type": "execute_result"
    }
   ],
   "source": [
    "n_epochs = 20\n",
    "model.compile(optimizer='rmsprop', loss='categorical_crossentropy', metrics=['accuracy'])\n",
    "model.fit_generator(\n",
    "    train_generator,\n",
    "    steps_per_epoch = train_generator.samples // n_epochs,\n",
    "    validation_data = validation_generator, \n",
    "    validation_steps = validation_generator.samples // n_epochs,\n",
    "    epochs = n_epochs)"
   ]
  },
  {
   "cell_type": "markdown",
   "metadata": {},
   "source": [
    "The model seems to be averfitting data, so let's increase the DropOut rate"
   ]
  },
  {
   "cell_type": "code",
   "execution_count": 38,
   "metadata": {},
   "outputs": [
    {
     "name": "stdout",
     "output_type": "stream",
     "text": [
      "_________________________________________________________________\n",
      "Layer (type)                 Output Shape              Param #   \n",
      "=================================================================\n",
      "conv2d_29 (Conv2D)           (None, 30, 30, 32)        896       \n",
      "_________________________________________________________________\n",
      "max_pooling2d_19 (MaxPooling (None, 15, 15, 32)        0         \n",
      "_________________________________________________________________\n",
      "conv2d_30 (Conv2D)           (None, 13, 13, 32)        9248      \n",
      "_________________________________________________________________\n",
      "max_pooling2d_20 (MaxPooling (None, 6, 6, 32)          0         \n",
      "_________________________________________________________________\n",
      "conv2d_31 (Conv2D)           (None, 4, 4, 32)          9248      \n",
      "_________________________________________________________________\n",
      "flatten_9 (Flatten)          (None, 512)               0         \n",
      "_________________________________________________________________\n",
      "dense_17 (Dense)             (None, 64)                32832     \n",
      "_________________________________________________________________\n",
      "dropout_3 (Dropout)          (None, 64)                0         \n",
      "_________________________________________________________________\n",
      "dense_18 (Dense)             (None, 32)                2080      \n",
      "_________________________________________________________________\n",
      "dense_19 (Dense)             (None, 12)                396       \n",
      "=================================================================\n",
      "Total params: 54,700\n",
      "Trainable params: 54,700\n",
      "Non-trainable params: 0\n",
      "_________________________________________________________________\n"
     ]
    }
   ],
   "source": [
    "from keras import models\n",
    "from keras import layers\n",
    "\n",
    "model_2 = models.Sequential()\n",
    "model_2.add(layers.Conv2D(32, (3, 3), activation='relu', input_shape=(32, 32, 3)))\n",
    "model_2.add(layers.MaxPooling2D((2, 2)))\n",
    "model_2.add(layers.Conv2D(32, (3, 3), activation='relu'))\n",
    "model_2.add(layers.MaxPooling2D((2, 2)))\n",
    "model_2.add(layers.Conv2D(32, (3, 3), activation='relu'))\n",
    "model_2.add(layers.Flatten())\n",
    "model_2.add(layers.Dense(64, activation='relu'))\n",
    "model_2.add(layers.Dropout(0.10))\n",
    "model_2.add(layers.Dense(32, activation='relu'))\n",
    "model_2.add(layers.Dense(12, activation='softmax'))\n",
    "model_2.summary()"
   ]
  },
  {
   "cell_type": "code",
   "execution_count": 39,
   "metadata": {},
   "outputs": [
    {
     "name": "stdout",
     "output_type": "stream",
     "text": [
      "Epoch 1/20\n",
      "190/190 [==============================] - 139s 732ms/step - loss: 2.1180 - acc: 0.2664 - val_loss: 1.7368 - val_acc: 0.4028\n",
      "Epoch 2/20\n",
      "190/190 [==============================] - 140s 739ms/step - loss: 1.7180 - acc: 0.3912 - val_loss: 1.6559 - val_acc: 0.4256\n",
      "Epoch 3/20\n",
      "190/190 [==============================] - 140s 738ms/step - loss: 1.5637 - acc: 0.4361 - val_loss: 1.4280 - val_acc: 0.5096\n",
      "Epoch 4/20\n",
      "190/190 [==============================] - 139s 731ms/step - loss: 1.4230 - acc: 0.4945 - val_loss: 1.2867 - val_acc: 0.5722\n",
      "Epoch 5/20\n",
      "190/190 [==============================] - 146s 767ms/step - loss: 1.2826 - acc: 0.5453 - val_loss: 1.1867 - val_acc: 0.5914\n",
      "Epoch 6/20\n",
      "190/190 [==============================] - 147s 771ms/step - loss: 1.1636 - acc: 0.5850 - val_loss: 1.0280 - val_acc: 0.6628\n",
      "Epoch 7/20\n",
      "190/190 [==============================] - 147s 776ms/step - loss: 1.0525 - acc: 0.6341 - val_loss: 0.9982 - val_acc: 0.6679\n",
      "Epoch 8/20\n",
      "190/190 [==============================] - 144s 759ms/step - loss: 0.9712 - acc: 0.6614 - val_loss: 0.8884 - val_acc: 0.7137\n",
      "Epoch 9/20\n",
      "190/190 [==============================] - 129s 678ms/step - loss: 0.8810 - acc: 0.6954 - val_loss: 0.9397 - val_acc: 0.6884\n",
      "Epoch 10/20\n",
      "190/190 [==============================] - 126s 664ms/step - loss: 0.8231 - acc: 0.7148 - val_loss: 0.8287 - val_acc: 0.7449\n",
      "Epoch 11/20\n",
      "190/190 [==============================] - 129s 676ms/step - loss: 0.7710 - acc: 0.7313 - val_loss: 0.9060 - val_acc: 0.7063\n",
      "Epoch 12/20\n",
      "190/190 [==============================] - 127s 670ms/step - loss: 0.7085 - acc: 0.7507 - val_loss: 0.7300 - val_acc: 0.7743\n",
      "Epoch 13/20\n",
      "190/190 [==============================] - 127s 669ms/step - loss: 0.6720 - acc: 0.7649 - val_loss: 0.7827 - val_acc: 0.7521\n",
      "Epoch 14/20\n",
      "190/190 [==============================] - 126s 664ms/step - loss: 0.6259 - acc: 0.7864 - val_loss: 0.7844 - val_acc: 0.7572\n",
      "Epoch 15/20\n",
      "190/190 [==============================] - 125s 660ms/step - loss: 0.5950 - acc: 0.7890 - val_loss: 0.6786 - val_acc: 0.7851\n",
      "Epoch 16/20\n",
      "190/190 [==============================] - 127s 667ms/step - loss: 0.5630 - acc: 0.8017 - val_loss: 0.6275 - val_acc: 0.8067\n",
      "Epoch 17/20\n",
      "190/190 [==============================] - 124s 653ms/step - loss: 0.5230 - acc: 0.8146 - val_loss: 0.6275 - val_acc: 0.8092\n",
      "Epoch 18/20\n",
      "190/190 [==============================] - 126s 665ms/step - loss: 0.4867 - acc: 0.8241 - val_loss: 0.6594 - val_acc: 0.7942\n",
      "Epoch 19/20\n",
      "190/190 [==============================] - 124s 654ms/step - loss: 0.4777 - acc: 0.8231 - val_loss: 0.6091 - val_acc: 0.8151\n",
      "Epoch 20/20\n",
      "190/190 [==============================] - 125s 658ms/step - loss: 0.4551 - acc: 0.8348 - val_loss: 0.6218 - val_acc: 0.8070\n"
     ]
    },
    {
     "data": {
      "text/plain": [
       "<keras.callbacks.History at 0x1b46d3d9be0>"
      ]
     },
     "execution_count": 39,
     "metadata": {},
     "output_type": "execute_result"
    }
   ],
   "source": [
    "n_epochs = 20\n",
    "model_2.compile(optimizer='rmsprop', loss='categorical_crossentropy', metrics=['accuracy'])\n",
    "model_2.fit_generator(\n",
    "    train_generator,\n",
    "    steps_per_epoch = train_generator.samples // n_epochs,\n",
    "    validation_data = validation_generator, \n",
    "    validation_steps = validation_generator.samples // n_epochs,\n",
    "    epochs = n_epochs)"
   ]
  },
  {
   "cell_type": "code",
   "execution_count": 41,
   "metadata": {},
   "outputs": [
    {
     "name": "stdout",
     "output_type": "stream",
     "text": [
      "_________________________________________________________________\n",
      "Layer (type)                 Output Shape              Param #   \n",
      "=================================================================\n",
      "conv2d_35 (Conv2D)           (None, 30, 30, 32)        896       \n",
      "_________________________________________________________________\n",
      "max_pooling2d_23 (MaxPooling (None, 15, 15, 32)        0         \n",
      "_________________________________________________________________\n",
      "conv2d_36 (Conv2D)           (None, 13, 13, 32)        9248      \n",
      "_________________________________________________________________\n",
      "max_pooling2d_24 (MaxPooling (None, 6, 6, 32)          0         \n",
      "_________________________________________________________________\n",
      "conv2d_37 (Conv2D)           (None, 4, 4, 32)          9248      \n",
      "_________________________________________________________________\n",
      "flatten_11 (Flatten)         (None, 512)               0         \n",
      "_________________________________________________________________\n",
      "dense_23 (Dense)             (None, 64)                32832     \n",
      "_________________________________________________________________\n",
      "dropout_5 (Dropout)          (None, 64)                0         \n",
      "_________________________________________________________________\n",
      "dense_24 (Dense)             (None, 32)                2080      \n",
      "_________________________________________________________________\n",
      "dense_25 (Dense)             (None, 12)                396       \n",
      "=================================================================\n",
      "Total params: 54,700\n",
      "Trainable params: 54,700\n",
      "Non-trainable params: 0\n",
      "_________________________________________________________________\n"
     ]
    }
   ],
   "source": [
    "from keras import models\n",
    "from keras import layers\n",
    "\n",
    "model_3 = models.Sequential()\n",
    "model_3.add(layers.Conv2D(32, (3, 3), activation='relu', input_shape=(32, 32, 3)))\n",
    "model_3.add(layers.MaxPooling2D((2, 2)))\n",
    "model_3.add(layers.Conv2D(32, (3, 3), activation='relu'))\n",
    "model_3.add(layers.MaxPooling2D((2, 2)))\n",
    "model_3.add(layers.Conv2D(32, (3, 3), activation='relu'))\n",
    "model_3.add(layers.Flatten())\n",
    "model_3.add(layers.Dense(64, activation='relu'))\n",
    "model_3.add(layers.Dropout(0.20))\n",
    "model_3.add(layers.Dense(32, activation='relu'))\n",
    "model_3.add(layers.Dense(12, activation='softmax'))\n",
    "model_3.summary()"
   ]
  },
  {
   "cell_type": "code",
   "execution_count": null,
   "metadata": {},
   "outputs": [
    {
     "name": "stdout",
     "output_type": "stream",
     "text": [
      "Epoch 1/20\n",
      "190/190 [==============================] - 139s 732ms/step - loss: 2.2962 - acc: 0.1991 - val_loss: 1.9266 - val_acc: 0.3324\n",
      "Epoch 2/20\n",
      "190/190 [==============================] - 130s 685ms/step - loss: 1.8404 - acc: 0.3491 - val_loss: 1.7234 - val_acc: 0.3931\n",
      "Epoch 3/20\n",
      "190/190 [==============================] - 133s 702ms/step - loss: 1.5616 - acc: 0.4498 - val_loss: 1.4573 - val_acc: 0.4897\n",
      "Epoch 4/20\n",
      "190/190 [==============================] - 130s 685ms/step - loss: 1.3976 - acc: 0.4996 - val_loss: 1.5936 - val_acc: 0.4621\n",
      "Epoch 5/20\n",
      "190/190 [==============================] - 135s 712ms/step - loss: 1.2822 - acc: 0.5479 - val_loss: 1.1336 - val_acc: 0.6234\n",
      "Epoch 6/20\n",
      "190/190 [==============================] - 130s 684ms/step - loss: 1.1687 - acc: 0.5899 - val_loss: 1.0628 - val_acc: 0.6370\n",
      "Epoch 7/20\n",
      "173/190 [==========================>...] - ETA: 10s - loss: 1.0881 - acc: 0.6214"
     ]
    }
   ],
   "source": [
    "n_epochs = 20\n",
    "model_3.compile(optimizer='rmsprop', loss='categorical_crossentropy', metrics=['accuracy'])\n",
    "model_3.fit_generator(\n",
    "    train_generator,\n",
    "    steps_per_epoch = train_generator.samples // n_epochs,\n",
    "    validation_data = validation_generator, \n",
    "    validation_steps = validation_generator.samples // n_epochs,\n",
    "    epochs = n_epochs)"
   ]
  },
  {
   "cell_type": "code",
   "execution_count": null,
   "metadata": {
    "collapsed": true
   },
   "outputs": [],
   "source": []
  }
 ],
 "metadata": {
  "kernelspec": {
   "display_name": "Python 3",
   "language": "python",
   "name": "python3"
  },
  "language_info": {
   "codemirror_mode": {
    "name": "ipython",
    "version": 3
   },
   "file_extension": ".py",
   "mimetype": "text/x-python",
   "name": "python",
   "nbconvert_exporter": "python",
   "pygments_lexer": "ipython3",
   "version": "3.6.1"
  }
 },
 "nbformat": 4,
 "nbformat_minor": 2
}
