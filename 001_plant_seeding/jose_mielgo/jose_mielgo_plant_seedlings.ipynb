{
 "cells": [
  {
   "cell_type": "markdown",
   "metadata": {},
   "source": [
    "# Plant-Seedlings challenge\n",
    "\n",
    "## Loading train and test data"
   ]
  },
  {
   "cell_type": "code",
   "execution_count": 1,
   "metadata": {},
   "outputs": [
    {
     "name": "stderr",
     "output_type": "stream",
     "text": [
      "C:\\Users\\jose.mielgo.saez\\AppData\\Local\\Continuum\\anaconda3\\envs\\kaggle_env\\lib\\site-packages\\h5py\\__init__.py:34: FutureWarning: Conversion of the second argument of issubdtype from `float` to `np.floating` is deprecated. In future, it will be treated as `np.float64 == np.dtype(float).type`.\n",
      "  from ._conv import register_converters as _register_converters\n",
      "Using TensorFlow backend.\n"
     ]
    },
    {
     "name": "stdout",
     "output_type": "stream",
     "text": [
      "Found 3803 images belonging to 12 classes.\n",
      "Found 947 images belonging to 12 classes.\n"
     ]
    }
   ],
   "source": [
    "import os\n",
    "import pandas as pd\n",
    "from keras.preprocessing.image import ImageDataGenerator\n",
    "\n",
    "train_dir = \"../../../data_kaggle/train\"\n",
    "test_dir = \"../../../data_kaggle/test/test\"\n",
    "\n",
    "train_datagen = ImageDataGenerator(\n",
    "        rescale=1./255,\n",
    "        shear_range=0.2,\n",
    "        zoom_range=0.2,\n",
    "        rotation_range=40,\n",
    "        horizontal_flip=True,\n",
    "        validation_split=0.2)\n",
    "\n",
    "#test_datagen = ImageDataGenerator(rescale=1./255)\n",
    "\n",
    "train_generator = train_datagen.flow_from_directory(\n",
    "        os.getcwd()+os.path.sep+train_dir,\n",
    "        target_size=(32, 32),\n",
    "        color_mode=\"rgb\",\n",
    "        batch_size=64,\n",
    "        class_mode='categorical',\n",
    "        subset='training')\n",
    "\n",
    "validation_generator = train_datagen.flow_from_directory(\n",
    "        os.getcwd()+os.path.sep+train_dir,\n",
    "        target_size=(32, 32),\n",
    "        color_mode=\"rgb\",\n",
    "        batch_size=64,\n",
    "        class_mode='categorical',\n",
    "        subset='validation')"
   ]
  },
  {
   "cell_type": "code",
   "execution_count": 2,
   "metadata": {
    "scrolled": true
   },
   "outputs": [
    {
     "name": "stdout",
     "output_type": "stream",
     "text": [
      "WARNING:tensorflow:From C:\\Users\\jose.mielgo.saez\\AppData\\Local\\Continuum\\anaconda3\\envs\\kaggle_env\\lib\\site-packages\\tensorflow\\python\\framework\\op_def_library.py:263: colocate_with (from tensorflow.python.framework.ops) is deprecated and will be removed in a future version.\n",
      "Instructions for updating:\n",
      "Colocations handled automatically by placer.\n",
      "WARNING:tensorflow:From C:\\Users\\jose.mielgo.saez\\AppData\\Local\\Continuum\\anaconda3\\envs\\kaggle_env\\lib\\site-packages\\keras\\backend\\tensorflow_backend.py:3445: calling dropout (from tensorflow.python.ops.nn_ops) with keep_prob is deprecated and will be removed in a future version.\n",
      "Instructions for updating:\n",
      "Please use `rate` instead of `keep_prob`. Rate should be set to `rate = 1 - keep_prob`.\n",
      "_________________________________________________________________\n",
      "Layer (type)                 Output Shape              Param #   \n",
      "=================================================================\n",
      "conv2d_1 (Conv2D)            (None, 30, 30, 32)        896       \n",
      "_________________________________________________________________\n",
      "max_pooling2d_1 (MaxPooling2 (None, 15, 15, 32)        0         \n",
      "_________________________________________________________________\n",
      "conv2d_2 (Conv2D)            (None, 13, 13, 32)        9248      \n",
      "_________________________________________________________________\n",
      "max_pooling2d_2 (MaxPooling2 (None, 6, 6, 32)          0         \n",
      "_________________________________________________________________\n",
      "conv2d_3 (Conv2D)            (None, 4, 4, 32)          9248      \n",
      "_________________________________________________________________\n",
      "flatten_1 (Flatten)          (None, 512)               0         \n",
      "_________________________________________________________________\n",
      "dense_1 (Dense)              (None, 64)                32832     \n",
      "_________________________________________________________________\n",
      "dropout_1 (Dropout)          (None, 64)                0         \n",
      "_________________________________________________________________\n",
      "dense_2 (Dense)              (None, 32)                2080      \n",
      "_________________________________________________________________\n",
      "dense_3 (Dense)              (None, 12)                396       \n",
      "=================================================================\n",
      "Total params: 54,700\n",
      "Trainable params: 54,700\n",
      "Non-trainable params: 0\n",
      "_________________________________________________________________\n"
     ]
    }
   ],
   "source": [
    "from keras import models\n",
    "from keras import layers\n",
    "\n",
    "model = models.Sequential()\n",
    "model.add(layers.Conv2D(32, (3, 3), activation='relu', input_shape=(32, 32, 3)))\n",
    "model.add(layers.MaxPooling2D((2, 2)))\n",
    "model.add(layers.Conv2D(32, (3, 3), activation='relu'))\n",
    "model.add(layers.MaxPooling2D((2, 2)))\n",
    "model.add(layers.Conv2D(32, (3, 3), activation='relu'))\n",
    "model.add(layers.Flatten())\n",
    "model.add(layers.Dense(64, activation='relu'))\n",
    "model.add(layers.Dropout(0.05))\n",
    "model.add(layers.Dense(32, activation='relu'))\n",
    "model.add(layers.Dense(12, activation='softmax'))\n",
    "model.summary()"
   ]
  },
  {
   "cell_type": "code",
   "execution_count": 3,
   "metadata": {},
   "outputs": [
    {
     "name": "stdout",
     "output_type": "stream",
     "text": [
      "WARNING:tensorflow:From C:\\Users\\jose.mielgo.saez\\AppData\\Local\\Continuum\\anaconda3\\envs\\kaggle_env\\lib\\site-packages\\tensorflow\\python\\ops\\math_ops.py:3066: to_int32 (from tensorflow.python.ops.math_ops) is deprecated and will be removed in a future version.\n",
      "Instructions for updating:\n",
      "Use tf.cast instead.\n",
      "Epoch 1/60\n",
      "190/190 [==============================] - 154s 810ms/step - loss: 2.2261 - acc: 0.2237 - val_loss: 2.1576 - val_acc: 0.2570\n",
      "Epoch 2/60\n",
      "190/190 [==============================] - 141s 744ms/step - loss: 1.7881 - acc: 0.3761 - val_loss: 1.5307 - val_acc: 0.4520\n",
      "Epoch 3/60\n",
      "190/190 [==============================] - 141s 742ms/step - loss: 1.5189 - acc: 0.4651 - val_loss: 1.3108 - val_acc: 0.5429\n",
      "Epoch 4/60\n",
      "190/190 [==============================] - 142s 746ms/step - loss: 1.3384 - acc: 0.5311 - val_loss: 1.4848 - val_acc: 0.4833\n",
      "Epoch 5/60\n",
      "190/190 [==============================] - 139s 733ms/step - loss: 1.2186 - acc: 0.5728 - val_loss: 1.2773 - val_acc: 0.5551\n",
      "Epoch 6/60\n",
      "190/190 [==============================] - 137s 720ms/step - loss: 1.1147 - acc: 0.6145 - val_loss: 1.2160 - val_acc: 0.5665\n",
      "Epoch 7/60\n",
      "190/190 [==============================] - 136s 715ms/step - loss: 1.0040 - acc: 0.6481 - val_loss: 1.1966 - val_acc: 0.5827\n",
      "Epoch 8/60\n",
      "190/190 [==============================] - 136s 718ms/step - loss: 0.9320 - acc: 0.6757 - val_loss: 0.8810 - val_acc: 0.7165\n",
      "Epoch 9/60\n",
      "190/190 [==============================] - 139s 730ms/step - loss: 0.8596 - acc: 0.7064 - val_loss: 0.9122 - val_acc: 0.6915\n",
      "Epoch 10/60\n",
      "190/190 [==============================] - 137s 719ms/step - loss: 0.7985 - acc: 0.7223 - val_loss: 0.8129 - val_acc: 0.7447\n",
      "Epoch 11/60\n",
      "190/190 [==============================] - 139s 731ms/step - loss: 0.7516 - acc: 0.7416 - val_loss: 0.8310 - val_acc: 0.7211\n",
      "Epoch 12/60\n",
      "190/190 [==============================] - 137s 723ms/step - loss: 0.7055 - acc: 0.7539 - val_loss: 0.7950 - val_acc: 0.7346\n",
      "Epoch 13/60\n",
      "190/190 [==============================] - 138s 727ms/step - loss: 0.6643 - acc: 0.7659 - val_loss: 0.7803 - val_acc: 0.7359\n",
      "Epoch 14/60\n",
      "190/190 [==============================] - 135s 712ms/step - loss: 0.6162 - acc: 0.7831 - val_loss: 0.7035 - val_acc: 0.7787\n",
      "Epoch 15/60\n",
      "190/190 [==============================] - 141s 742ms/step - loss: 0.5803 - acc: 0.7940 - val_loss: 0.6879 - val_acc: 0.7781\n",
      "Epoch 16/60\n",
      "190/190 [==============================] - 156s 821ms/step - loss: 0.5461 - acc: 0.8064 - val_loss: 0.7350 - val_acc: 0.7545\n",
      "Epoch 17/60\n",
      "190/190 [==============================] - 137s 721ms/step - loss: 0.5182 - acc: 0.8098 - val_loss: 0.6293 - val_acc: 0.7986\n",
      "Epoch 18/60\n",
      "190/190 [==============================] - 136s 714ms/step - loss: 0.4922 - acc: 0.8234 - val_loss: 0.6021 - val_acc: 0.7989\n",
      "Epoch 19/60\n",
      "190/190 [==============================] - 139s 729ms/step - loss: 0.4698 - acc: 0.8290 - val_loss: 0.6147 - val_acc: 0.7969\n",
      "Epoch 20/60\n",
      "190/190 [==============================] - 147s 774ms/step - loss: 0.4384 - acc: 0.8413 - val_loss: 0.7746 - val_acc: 0.7518\n",
      "Epoch 21/60\n",
      "190/190 [==============================] - 144s 757ms/step - loss: 0.4160 - acc: 0.8491 - val_loss: 0.6742 - val_acc: 0.7969\n",
      "Epoch 22/60\n",
      "190/190 [==============================] - 140s 738ms/step - loss: 0.3949 - acc: 0.8569 - val_loss: 0.5978 - val_acc: 0.8148\n",
      "Epoch 23/60\n",
      "190/190 [==============================] - 139s 730ms/step - loss: 0.3867 - acc: 0.8598 - val_loss: 0.5842 - val_acc: 0.8163\n",
      "Epoch 24/60\n",
      "190/190 [==============================] - 139s 730ms/step - loss: 0.3687 - acc: 0.8657 - val_loss: 0.7521 - val_acc: 0.7605\n",
      "Epoch 25/60\n",
      "190/190 [==============================] - 138s 725ms/step - loss: 0.3477 - acc: 0.8724 - val_loss: 0.6351 - val_acc: 0.8073\n",
      "Epoch 26/60\n",
      "190/190 [==============================] - 142s 748ms/step - loss: 0.3393 - acc: 0.8734 - val_loss: 0.6016 - val_acc: 0.8174\n",
      "Epoch 27/60\n",
      "190/190 [==============================] - 142s 747ms/step - loss: 0.3214 - acc: 0.8832 - val_loss: 0.7274 - val_acc: 0.7898\n",
      "Epoch 28/60\n",
      "190/190 [==============================] - 140s 739ms/step - loss: 0.3045 - acc: 0.8834 - val_loss: 0.6020 - val_acc: 0.8198\n",
      "Epoch 29/60\n",
      "190/190 [==============================] - 136s 717ms/step - loss: 0.3015 - acc: 0.8844 - val_loss: 0.5528 - val_acc: 0.8329\n",
      "Epoch 30/60\n",
      "190/190 [==============================] - 138s 725ms/step - loss: 0.2847 - acc: 0.8964 - val_loss: 0.6321 - val_acc: 0.8237\n",
      "Epoch 31/60\n",
      "190/190 [==============================] - 139s 733ms/step - loss: 0.2777 - acc: 0.8970 - val_loss: 0.6085 - val_acc: 0.8215\n",
      "Epoch 32/60\n",
      "190/190 [==============================] - 137s 723ms/step - loss: 0.2611 - acc: 0.9006 - val_loss: 0.5895 - val_acc: 0.8272\n",
      "Epoch 33/60\n",
      "190/190 [==============================] - 135s 711ms/step - loss: 0.2540 - acc: 0.9023 - val_loss: 0.6767 - val_acc: 0.8107\n",
      "Epoch 34/60\n",
      "190/190 [==============================] - 139s 732ms/step - loss: 0.2481 - acc: 0.9065 - val_loss: 0.5391 - val_acc: 0.8346\n",
      "Epoch 35/60\n",
      "190/190 [==============================] - 137s 721ms/step - loss: 0.2375 - acc: 0.9118 - val_loss: 0.8935 - val_acc: 0.7696\n",
      "Epoch 36/60\n",
      " 52/190 [=======>......................] - ETA: 1:09 - loss: 0.2353 - acc: 0.9099"
     ]
    },
    {
     "name": "stderr",
     "output_type": "stream",
     "text": [
      "ERROR:root:Internal Python error in the inspect module.\n",
      "Below is the traceback from this internal error.\n",
      "\n"
     ]
    },
    {
     "name": "stdout",
     "output_type": "stream",
     "text": [
      "Traceback (most recent call last):\n",
      "  File \"C:\\Users\\jose.mielgo.saez\\AppData\\Local\\Continuum\\anaconda3\\envs\\kaggle_env\\lib\\site-packages\\IPython\\core\\interactiveshell.py\", line 2881, in run_code\n",
      "    exec(code_obj, self.user_global_ns, self.user_ns)\n",
      "  File \"<ipython-input-3-f2c246008229>\", line 8, in <module>\n",
      "    epochs = n_epochs*3)\n",
      "  File \"C:\\Users\\jose.mielgo.saez\\AppData\\Local\\Continuum\\anaconda3\\envs\\kaggle_env\\lib\\site-packages\\keras\\legacy\\interfaces.py\", line 91, in wrapper\n",
      "    return func(*args, **kwargs)\n",
      "  File \"C:\\Users\\jose.mielgo.saez\\AppData\\Local\\Continuum\\anaconda3\\envs\\kaggle_env\\lib\\site-packages\\keras\\engine\\training.py\", line 1418, in fit_generator\n",
      "    initial_epoch=initial_epoch)\n",
      "  File \"C:\\Users\\jose.mielgo.saez\\AppData\\Local\\Continuum\\anaconda3\\envs\\kaggle_env\\lib\\site-packages\\keras\\engine\\training_generator.py\", line 181, in fit_generator\n",
      "    generator_output = next(output_generator)\n",
      "  File \"C:\\Users\\jose.mielgo.saez\\AppData\\Local\\Continuum\\anaconda3\\envs\\kaggle_env\\lib\\site-packages\\keras\\utils\\data_utils.py\", line 685, in get\n",
      "    inputs = self.queue.get(block=True).get()\n",
      "  File \"C:\\Users\\jose.mielgo.saez\\AppData\\Local\\Continuum\\anaconda3\\envs\\kaggle_env\\lib\\multiprocessing\\pool.py\", line 602, in get\n",
      "    self.wait(timeout)\n",
      "  File \"C:\\Users\\jose.mielgo.saez\\AppData\\Local\\Continuum\\anaconda3\\envs\\kaggle_env\\lib\\multiprocessing\\pool.py\", line 599, in wait\n",
      "    self._event.wait(timeout)\n",
      "  File \"C:\\Users\\jose.mielgo.saez\\AppData\\Local\\Continuum\\anaconda3\\envs\\kaggle_env\\lib\\threading.py\", line 551, in wait\n",
      "    signaled = self._cond.wait(timeout)\n",
      "  File \"C:\\Users\\jose.mielgo.saez\\AppData\\Local\\Continuum\\anaconda3\\envs\\kaggle_env\\lib\\threading.py\", line 295, in wait\n",
      "    waiter.acquire()\n",
      "KeyboardInterrupt\n",
      "\n",
      "During handling of the above exception, another exception occurred:\n",
      "\n",
      "Traceback (most recent call last):\n",
      "  File \"C:\\Users\\jose.mielgo.saez\\AppData\\Local\\Continuum\\anaconda3\\envs\\kaggle_env\\lib\\site-packages\\IPython\\core\\interactiveshell.py\", line 1821, in showtraceback\n",
      "    stb = value._render_traceback_()\n",
      "AttributeError: 'KeyboardInterrupt' object has no attribute '_render_traceback_'\n",
      "\n",
      "During handling of the above exception, another exception occurred:\n",
      "\n",
      "Traceback (most recent call last):\n",
      "  File \"C:\\Users\\jose.mielgo.saez\\AppData\\Local\\Continuum\\anaconda3\\envs\\kaggle_env\\lib\\site-packages\\IPython\\core\\ultratb.py\", line 1132, in get_records\n",
      "    return _fixed_getinnerframes(etb, number_of_lines_of_context, tb_offset)\n",
      "  File \"C:\\Users\\jose.mielgo.saez\\AppData\\Local\\Continuum\\anaconda3\\envs\\kaggle_env\\lib\\site-packages\\IPython\\core\\ultratb.py\", line 313, in wrapped\n",
      "    return f(*args, **kwargs)\n",
      "  File \"C:\\Users\\jose.mielgo.saez\\AppData\\Local\\Continuum\\anaconda3\\envs\\kaggle_env\\lib\\site-packages\\IPython\\core\\ultratb.py\", line 358, in _fixed_getinnerframes\n",
      "    records = fix_frame_records_filenames(inspect.getinnerframes(etb, context))\n",
      "  File \"C:\\Users\\jose.mielgo.saez\\AppData\\Local\\Continuum\\anaconda3\\envs\\kaggle_env\\lib\\inspect.py\", line 1453, in getinnerframes\n",
      "    frameinfo = (tb.tb_frame,) + getframeinfo(tb, context)\n",
      "  File \"C:\\Users\\jose.mielgo.saez\\AppData\\Local\\Continuum\\anaconda3\\envs\\kaggle_env\\lib\\inspect.py\", line 1411, in getframeinfo\n",
      "    filename = getsourcefile(frame) or getfile(frame)\n",
      "  File \"C:\\Users\\jose.mielgo.saez\\AppData\\Local\\Continuum\\anaconda3\\envs\\kaggle_env\\lib\\inspect.py\", line 666, in getsourcefile\n",
      "    if getattr(getmodule(object, filename), '__loader__', None) is not None:\n",
      "  File \"C:\\Users\\jose.mielgo.saez\\AppData\\Local\\Continuum\\anaconda3\\envs\\kaggle_env\\lib\\inspect.py\", line 709, in getmodule\n",
      "    f = getabsfile(module)\n",
      "  File \"C:\\Users\\jose.mielgo.saez\\AppData\\Local\\Continuum\\anaconda3\\envs\\kaggle_env\\lib\\inspect.py\", line 678, in getabsfile\n",
      "    _filename = getsourcefile(object) or getfile(object)\n",
      "  File \"C:\\Users\\jose.mielgo.saez\\AppData\\Local\\Continuum\\anaconda3\\envs\\kaggle_env\\lib\\inspect.py\", line 663, in getsourcefile\n",
      "    if os.path.exists(filename):\n",
      "  File \"C:\\Users\\jose.mielgo.saez\\AppData\\Local\\Continuum\\anaconda3\\envs\\kaggle_env\\lib\\genericpath.py\", line 19, in exists\n",
      "    os.stat(path)\n",
      "KeyboardInterrupt\n"
     ]
    },
    {
     "ename": "KeyboardInterrupt",
     "evalue": "",
     "output_type": "error",
     "traceback": [
      "\u001b[1;31m---------------------------------------------------------------------------\u001b[0m"
     ]
    }
   ],
   "source": [
    "n_epochs = 20\n",
    "reduce_lr = ReduceLROnPlateau(monitor='val_loss', factor=0.2,\n",
    "                              patience=5, min_lr=0.001)\n",
    "model.compile(optimizer='rmsprop', loss='categorical_crossentropy', metrics=['accuracy'])\n",
    "model.fit_generator(\n",
    "    train_generator,\n",
    "    steps_per_epoch = train_generator.samples // n_epochs,\n",
    "    validation_data = validation_generator, \n",
    "    validation_steps = validation_generator.samples // n_epochs,\n",
    "    epochs = n_epochs*3,\n",
    "    callbacks = [])"
   ]
  },
  {
   "cell_type": "markdown",
   "metadata": {},
   "source": [
    "The model seems to be averfitting data, so let's increase the DropOut rate"
   ]
  },
  {
   "cell_type": "code",
   "execution_count": 38,
   "metadata": {},
   "outputs": [
    {
     "name": "stdout",
     "output_type": "stream",
     "text": [
      "_________________________________________________________________\n",
      "Layer (type)                 Output Shape              Param #   \n",
      "=================================================================\n",
      "conv2d_29 (Conv2D)           (None, 30, 30, 32)        896       \n",
      "_________________________________________________________________\n",
      "max_pooling2d_19 (MaxPooling (None, 15, 15, 32)        0         \n",
      "_________________________________________________________________\n",
      "conv2d_30 (Conv2D)           (None, 13, 13, 32)        9248      \n",
      "_________________________________________________________________\n",
      "max_pooling2d_20 (MaxPooling (None, 6, 6, 32)          0         \n",
      "_________________________________________________________________\n",
      "conv2d_31 (Conv2D)           (None, 4, 4, 32)          9248      \n",
      "_________________________________________________________________\n",
      "flatten_9 (Flatten)          (None, 512)               0         \n",
      "_________________________________________________________________\n",
      "dense_17 (Dense)             (None, 64)                32832     \n",
      "_________________________________________________________________\n",
      "dropout_3 (Dropout)          (None, 64)                0         \n",
      "_________________________________________________________________\n",
      "dense_18 (Dense)             (None, 32)                2080      \n",
      "_________________________________________________________________\n",
      "dense_19 (Dense)             (None, 12)                396       \n",
      "=================================================================\n",
      "Total params: 54,700\n",
      "Trainable params: 54,700\n",
      "Non-trainable params: 0\n",
      "_________________________________________________________________\n"
     ]
    }
   ],
   "source": [
    "from keras import models\n",
    "from keras import layers\n",
    "\n",
    "model_2 = models.Sequential()\n",
    "model_2.add(layers.Conv2D(32, (3, 3), activation='relu', input_shape=(32, 32, 3)))\n",
    "model_2.add(layers.MaxPooling2D((2, 2)))\n",
    "model_2.add(layers.Conv2D(32, (3, 3), activation='relu'))\n",
    "model_2.add(layers.MaxPooling2D((2, 2)))\n",
    "model_2.add(layers.Conv2D(32, (3, 3), activation='relu'))\n",
    "model_2.add(layers.Flatten())\n",
    "model_2.add(layers.Dense(64, activation='relu'))\n",
    "model_2.add(layers.Dropout(0.10))\n",
    "model_2.add(layers.Dense(32, activation='relu'))\n",
    "model_2.add(layers.Dense(12, activation='softmax'))\n",
    "model_2.summary()"
   ]
  },
  {
   "cell_type": "code",
   "execution_count": 39,
   "metadata": {},
   "outputs": [
    {
     "name": "stdout",
     "output_type": "stream",
     "text": [
      "Epoch 1/20\n",
      "190/190 [==============================] - 139s 732ms/step - loss: 2.1180 - acc: 0.2664 - val_loss: 1.7368 - val_acc: 0.4028\n",
      "Epoch 2/20\n",
      "190/190 [==============================] - 140s 739ms/step - loss: 1.7180 - acc: 0.3912 - val_loss: 1.6559 - val_acc: 0.4256\n",
      "Epoch 3/20\n",
      "190/190 [==============================] - 140s 738ms/step - loss: 1.5637 - acc: 0.4361 - val_loss: 1.4280 - val_acc: 0.5096\n",
      "Epoch 4/20\n",
      "190/190 [==============================] - 139s 731ms/step - loss: 1.4230 - acc: 0.4945 - val_loss: 1.2867 - val_acc: 0.5722\n",
      "Epoch 5/20\n",
      "190/190 [==============================] - 146s 767ms/step - loss: 1.2826 - acc: 0.5453 - val_loss: 1.1867 - val_acc: 0.5914\n",
      "Epoch 6/20\n",
      "190/190 [==============================] - 147s 771ms/step - loss: 1.1636 - acc: 0.5850 - val_loss: 1.0280 - val_acc: 0.6628\n",
      "Epoch 7/20\n",
      "190/190 [==============================] - 147s 776ms/step - loss: 1.0525 - acc: 0.6341 - val_loss: 0.9982 - val_acc: 0.6679\n",
      "Epoch 8/20\n",
      "190/190 [==============================] - 144s 759ms/step - loss: 0.9712 - acc: 0.6614 - val_loss: 0.8884 - val_acc: 0.7137\n",
      "Epoch 9/20\n",
      "190/190 [==============================] - 129s 678ms/step - loss: 0.8810 - acc: 0.6954 - val_loss: 0.9397 - val_acc: 0.6884\n",
      "Epoch 10/20\n",
      "190/190 [==============================] - 126s 664ms/step - loss: 0.8231 - acc: 0.7148 - val_loss: 0.8287 - val_acc: 0.7449\n",
      "Epoch 11/20\n",
      "190/190 [==============================] - 129s 676ms/step - loss: 0.7710 - acc: 0.7313 - val_loss: 0.9060 - val_acc: 0.7063\n",
      "Epoch 12/20\n",
      "190/190 [==============================] - 127s 670ms/step - loss: 0.7085 - acc: 0.7507 - val_loss: 0.7300 - val_acc: 0.7743\n",
      "Epoch 13/20\n",
      "190/190 [==============================] - 127s 669ms/step - loss: 0.6720 - acc: 0.7649 - val_loss: 0.7827 - val_acc: 0.7521\n",
      "Epoch 14/20\n",
      "190/190 [==============================] - 126s 664ms/step - loss: 0.6259 - acc: 0.7864 - val_loss: 0.7844 - val_acc: 0.7572\n",
      "Epoch 15/20\n",
      "190/190 [==============================] - 125s 660ms/step - loss: 0.5950 - acc: 0.7890 - val_loss: 0.6786 - val_acc: 0.7851\n",
      "Epoch 16/20\n",
      "190/190 [==============================] - 127s 667ms/step - loss: 0.5630 - acc: 0.8017 - val_loss: 0.6275 - val_acc: 0.8067\n",
      "Epoch 17/20\n",
      "190/190 [==============================] - 124s 653ms/step - loss: 0.5230 - acc: 0.8146 - val_loss: 0.6275 - val_acc: 0.8092\n",
      "Epoch 18/20\n",
      "190/190 [==============================] - 126s 665ms/step - loss: 0.4867 - acc: 0.8241 - val_loss: 0.6594 - val_acc: 0.7942\n",
      "Epoch 19/20\n",
      "190/190 [==============================] - 124s 654ms/step - loss: 0.4777 - acc: 0.8231 - val_loss: 0.6091 - val_acc: 0.8151\n",
      "Epoch 20/20\n",
      "190/190 [==============================] - 125s 658ms/step - loss: 0.4551 - acc: 0.8348 - val_loss: 0.6218 - val_acc: 0.8070\n"
     ]
    },
    {
     "data": {
      "text/plain": [
       "<keras.callbacks.History at 0x1b46d3d9be0>"
      ]
     },
     "execution_count": 39,
     "metadata": {},
     "output_type": "execute_result"
    }
   ],
   "source": [
    "n_epochs = 20\n",
    "model_2.compile(optimizer='rmsprop', loss='categorical_crossentropy', metrics=['accuracy'])\n",
    "model_2.fit_generator(\n",
    "    train_generator,\n",
    "    steps_per_epoch = train_generator.samples // n_epochs,\n",
    "    validation_data = validation_generator, \n",
    "    validation_steps = validation_generator.samples // n_epochs,\n",
    "    epochs = n_epochs)"
   ]
  },
  {
   "cell_type": "code",
   "execution_count": 58,
   "metadata": {},
   "outputs": [
    {
     "name": "stdout",
     "output_type": "stream",
     "text": [
      "_________________________________________________________________\n",
      "Layer (type)                 Output Shape              Param #   \n",
      "=================================================================\n",
      "conv2d_38 (Conv2D)           (None, 30, 30, 32)        896       \n",
      "_________________________________________________________________\n",
      "max_pooling2d_25 (MaxPooling (None, 15, 15, 32)        0         \n",
      "_________________________________________________________________\n",
      "conv2d_39 (Conv2D)           (None, 13, 13, 32)        9248      \n",
      "_________________________________________________________________\n",
      "max_pooling2d_26 (MaxPooling (None, 6, 6, 32)          0         \n",
      "_________________________________________________________________\n",
      "conv2d_40 (Conv2D)           (None, 4, 4, 32)          9248      \n",
      "_________________________________________________________________\n",
      "flatten_12 (Flatten)         (None, 512)               0         \n",
      "_________________________________________________________________\n",
      "dense_26 (Dense)             (None, 64)                32832     \n",
      "_________________________________________________________________\n",
      "dropout_6 (Dropout)          (None, 64)                0         \n",
      "_________________________________________________________________\n",
      "dense_27 (Dense)             (None, 32)                2080      \n",
      "_________________________________________________________________\n",
      "dense_28 (Dense)             (None, 12)                396       \n",
      "=================================================================\n",
      "Total params: 54,700\n",
      "Trainable params: 54,700\n",
      "Non-trainable params: 0\n",
      "_________________________________________________________________\n"
     ]
    }
   ],
   "source": [
    "from keras import models\n",
    "from keras import layers\n",
    "\n",
    "model_3 = models.Sequential()\n",
    "model_3.add(layers.Conv2D(32, (3, 3), activation='relu', input_shape=(32, 32, 3)))\n",
    "model_3.add(layers.MaxPooling2D((2, 2)))\n",
    "model_3.add(layers.Conv2D(32, (3, 3), activation='relu'))\n",
    "model_3.add(layers.MaxPooling2D((2, 2)))\n",
    "model_3.add(layers.Conv2D(32, (3, 3), activation='relu'))\n",
    "model_3.add(layers.Flatten())\n",
    "model_3.add(layers.Dense(64, activation='relu'))\n",
    "model_3.add(layers.Dropout(0.20))\n",
    "model_3.add(layers.Dense(32, activation='relu'))\n",
    "model_3.add(layers.Dense(12, activation='softmax'))\n",
    "model_3.summary()"
   ]
  },
  {
   "cell_type": "code",
   "execution_count": 59,
   "metadata": {},
   "outputs": [
    {
     "name": "stdout",
     "output_type": "stream",
     "text": [
      "Epoch 1/20\n",
      "190/190 [==============================] - 140s 739ms/step - loss: 2.2797 - acc: 0.2046 - val_loss: 1.8732 - val_acc: 0.3368\n",
      "Epoch 2/20\n",
      "190/190 [==============================] - 129s 679ms/step - loss: 1.8344 - acc: 0.3561 - val_loss: 1.5587 - val_acc: 0.4389\n",
      "Epoch 3/20\n",
      "190/190 [==============================] - 129s 678ms/step - loss: 1.5768 - acc: 0.4424 - val_loss: 1.3925 - val_acc: 0.4988\n",
      "Epoch 4/20\n",
      "190/190 [==============================] - 133s 698ms/step - loss: 1.3778 - acc: 0.5089 - val_loss: 1.4321 - val_acc: 0.4725\n",
      "Epoch 5/20\n",
      "190/190 [==============================] - 130s 683ms/step - loss: 1.2545 - acc: 0.5531 - val_loss: 1.0956 - val_acc: 0.6504\n",
      "Epoch 6/20\n",
      "190/190 [==============================] - 128s 676ms/step - loss: 1.1711 - acc: 0.5904 - val_loss: 1.2371 - val_acc: 0.5689\n",
      "Epoch 7/20\n",
      "190/190 [==============================] - 138s 726ms/step - loss: 1.0758 - acc: 0.6300 - val_loss: 0.9836 - val_acc: 0.6756\n",
      "Epoch 8/20\n",
      "190/190 [==============================] - 135s 710ms/step - loss: 1.0118 - acc: 0.6506 - val_loss: 0.9348 - val_acc: 0.6935\n",
      "Epoch 9/20\n",
      "190/190 [==============================] - 134s 707ms/step - loss: 0.9280 - acc: 0.6874 - val_loss: 0.8606 - val_acc: 0.7198\n",
      "Epoch 10/20\n",
      "190/190 [==============================] - 130s 683ms/step - loss: 0.8879 - acc: 0.6964 - val_loss: 0.7969 - val_acc: 0.7471\n",
      "Epoch 11/20\n",
      "190/190 [==============================] - 128s 675ms/step - loss: 0.8345 - acc: 0.7137 - val_loss: 0.8849 - val_acc: 0.7157\n",
      "Epoch 12/20\n",
      "190/190 [==============================] - 129s 676ms/step - loss: 0.7800 - acc: 0.7326 - val_loss: 0.7686 - val_acc: 0.7595\n",
      "Epoch 13/20\n",
      "190/190 [==============================] - 131s 687ms/step - loss: 0.7443 - acc: 0.7397 - val_loss: 0.7244 - val_acc: 0.7646\n",
      "Epoch 14/20\n",
      "190/190 [==============================] - 129s 680ms/step - loss: 0.7184 - acc: 0.7523 - val_loss: 0.7529 - val_acc: 0.7393\n",
      "Epoch 15/20\n",
      "190/190 [==============================] - 126s 665ms/step - loss: 0.6863 - acc: 0.7603 - val_loss: 0.9040 - val_acc: 0.7064\n",
      "Epoch 16/20\n",
      "190/190 [==============================] - 134s 706ms/step - loss: 0.6402 - acc: 0.7777 - val_loss: 0.7588 - val_acc: 0.7602\n",
      "Epoch 17/20\n",
      "190/190 [==============================] - 129s 676ms/step - loss: 0.6185 - acc: 0.7826 - val_loss: 0.6675 - val_acc: 0.7881\n",
      "Epoch 18/20\n",
      "190/190 [==============================] - 130s 686ms/step - loss: 0.5922 - acc: 0.7941 - val_loss: 0.7263 - val_acc: 0.7720\n",
      "Epoch 19/20\n",
      "190/190 [==============================] - 130s 683ms/step - loss: 0.5606 - acc: 0.7999 - val_loss: 0.6799 - val_acc: 0.7871\n",
      "Epoch 20/20\n",
      "190/190 [==============================] - 128s 672ms/step - loss: 0.5412 - acc: 0.8074 - val_loss: 0.6592 - val_acc: 0.7942\n"
     ]
    },
    {
     "data": {
      "text/plain": [
       "<keras.callbacks.History at 0x1b477fe3438>"
      ]
     },
     "execution_count": 59,
     "metadata": {},
     "output_type": "execute_result"
    }
   ],
   "source": [
    "n_epochs = 20\n",
    "model_3.compile(optimizer='rmsprop', loss='categorical_crossentropy', metrics=['accuracy'])\n",
    "model_3.fit_generator(\n",
    "    train_generator,\n",
    "    steps_per_epoch = train_generator.samples // n_epochs,\n",
    "    validation_data = validation_generator, \n",
    "    validation_steps = validation_generator.samples // n_epochs,\n",
    "    epochs = n_epochs)"
   ]
  },
  {
   "cell_type": "markdown",
   "metadata": {},
   "source": [
    "## Generate Kaggle's result to be submitted to the challenge\n"
   ]
  },
  {
   "cell_type": "code",
   "execution_count": 60,
   "metadata": {},
   "outputs": [
    {
     "name": "stdout",
     "output_type": "stream",
     "text": [
      "C:\\Users\\jose.mielgo.saez\\OneDrive - Accenture\\19_project_kf\\001_plant_seeding\\jose_mielgo\\../../../data_kaggle/test\n",
      "Found 794 images belonging to 1 classes.\n"
     ]
    }
   ],
   "source": [
    "test_dir = \"../../../data_kaggle/test\"\n",
    "test_datagen = ImageDataGenerator(\n",
    "        rescale=1./255)\n",
    "\n",
    "#test_datagen = ImageDataGenerator(rescale=1./255)\n",
    "print(os.getcwd()+os.path.sep+test_dir)\n",
    "test_generator = test_datagen.flow_from_directory(\n",
    "        os.getcwd()+os.path.sep+test_dir,\n",
    "        target_size=(32, 32),\n",
    "        color_mode=\"rgb\",\n",
    "        batch_size=1,\n",
    "        class_mode=None,\n",
    "        shuffle=False)\n",
    "filenames = test_generator.filenames\n",
    "nb_samples = len(filenames)\n",
    "\n",
    "predict = model_2.predict_generator(test_generator,steps = nb_samples)"
   ]
  },
  {
   "cell_type": "code",
   "execution_count": 63,
   "metadata": {
    "collapsed": true
   },
   "outputs": [],
   "source": [
    "import numpy as np\n",
    "predicted_class_indices=np.argmax(predict,axis=1)\n",
    "labels = (train_generator.class_indices)\n",
    "labels = dict((v,k) for k,v in labels.items())\n",
    "predictions = [labels[k] for k in predicted_class_indices]\n",
    "filenames=test_generator.filenames\n",
    "results=pd.DataFrame({\"file\":filenames,\n",
    "                      \"species\":predictions})\n",
    "results.to_csv(\"results.csv\",index=False)"
   ]
  },
  {
   "cell_type": "markdown",
   "metadata": {},
   "source": [
    "Accuracy of 0.82619"
   ]
  },
  {
   "cell_type": "code",
   "execution_count": null,
   "metadata": {
    "collapsed": true
   },
   "outputs": [],
   "source": []
  }
 ],
 "metadata": {
  "kernelspec": {
   "display_name": "Python 3",
   "language": "python",
   "name": "python3"
  },
  "language_info": {
   "codemirror_mode": {
    "name": "ipython",
    "version": 3
   },
   "file_extension": ".py",
   "mimetype": "text/x-python",
   "name": "python",
   "nbconvert_exporter": "python",
   "pygments_lexer": "ipython3",
   "version": "3.7.1"
  }
 },
 "nbformat": 4,
 "nbformat_minor": 2
}
