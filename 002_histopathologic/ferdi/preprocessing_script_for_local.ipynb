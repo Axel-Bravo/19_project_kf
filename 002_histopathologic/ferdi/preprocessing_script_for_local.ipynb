{
 "cells": [
  {
   "cell_type": "markdown",
   "metadata": {},
   "source": [
    "# PRE-PROCESSING SCRIPT (LOCAL) FOR HISPATOLOGIC CHALLENGE"
   ]
  },
  {
   "cell_type": "markdown",
   "metadata": {},
   "source": [
    "Once the train folder is in Google Drive, you need to create a new folder (same working directory) with the name you wish (I set it to newpath), and inside this folder, as many subfolders as labels we have (in this case, 0 and 1, the name of the labels).\n",
    "\n",
    "Then, you run this script that, according to the train_labels.csv document, will remove the pictures from train folder and add them at the subfolder according to the label of each picture, so we have it all arranged to apply flow_from_directory keras function."
   ]
  },
  {
   "cell_type": "code",
   "execution_count": null,
   "metadata": {},
   "outputs": [],
   "source": [
    "train_dir =\"C:/Users/ferran.marti.torrent/Google Drive/histopatologic/train\""
   ]
  },
  {
   "cell_type": "code",
   "execution_count": 1,
   "metadata": {},
   "outputs": [],
   "source": [
    "import os\n",
    "os.chdir(\"C:/Users/ferran.marti.torrent/Google Drive/histopatologic\")"
   ]
  },
  {
   "cell_type": "code",
   "execution_count": 34,
   "metadata": {},
   "outputs": [],
   "source": [
    "import pandas as pd\n",
    "import os\n",
    "import numpy as np\n",
    "import shutil\n",
    "\n",
    "# source is the current directory\n",
    "# Open dataset file\n",
    "dataset = pd.read_csv(\"train_labels.csv\")\n",
    "file_names = list(dataset['id'].values)\n",
    "img_labels = list(dataset['label'].values)"
   ]
  },
  {
   "cell_type": "code",
   "execution_count": 35,
   "metadata": {},
   "outputs": [],
   "source": [
    "for f in range (len(file_names)):\n",
    "    current_img=file_names[f]\n",
    "    current_label=img_labels[f]\n",
    "    shutil.move(\"train/\" + current_img + '.tif', \"newpath/\" + str(current_label) + \"/\" + current_img + '.tif')"
   ]
  }
 ],
 "metadata": {
  "kernelspec": {
   "display_name": "Python 3",
   "language": "python",
   "name": "python3"
  },
  "language_info": {
   "codemirror_mode": {
    "name": "ipython",
    "version": 3
   },
   "file_extension": ".py",
   "mimetype": "text/x-python",
   "name": "python",
   "nbconvert_exporter": "python",
   "pygments_lexer": "ipython3",
   "version": "3.7.0"
  }
 },
 "nbformat": 4,
 "nbformat_minor": 2
}
